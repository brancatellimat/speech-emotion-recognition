{
  "nbformat": 4,
  "nbformat_minor": 0,
  "metadata": {
    "colab": {
      "provenance": [],
      "machine_shape": "hm",
      "collapsed_sections": [
        "jsbgyzhR-UdY",
        "6aQ1p4b8-Xd5"
      ],
      "toc_visible": true,
      "mount_file_id": "1Zc_Cvp--lJ6JSc7hDNHFDxGDhA0QQZ3d",
      "authorship_tag": "ABX9TyOgIKKr10af1AjG7rROTEqq",
      "include_colab_link": true
    },
    "kernelspec": {
      "name": "python3",
      "display_name": "Python 3"
    },
    "language_info": {
      "name": "python"
    }
  },
  "cells": [
    {
      "cell_type": "markdown",
      "metadata": {
        "id": "view-in-github",
        "colab_type": "text"
      },
      "source": [
        "<a href=\"https://colab.research.google.com/github/brancatellimat/speech-emotion-recognition/blob/main/CNNClassifier.ipynb\" target=\"_parent\"><img src=\"https://colab.research.google.com/assets/colab-badge.svg\" alt=\"Open In Colab\"/></a>"
      ]
    },
    {
      "cell_type": "markdown",
      "source": [
        "### Import Libraries"
      ],
      "metadata": {
        "id": "jsbgyzhR-UdY"
      }
    },
    {
      "cell_type": "code",
      "execution_count": null,
      "metadata": {
        "id": "i0Jf2WRU96QG"
      },
      "outputs": [],
      "source": [
        "import pandas as pd\n",
        "import numpy as np\n",
        "import tensorflow as tf\n",
        "\n",
        "from tqdm import tqdm\n",
        "\n",
        "import os\n",
        "import sys\n",
        "import math\n",
        "\n",
        "# librosa is a Python library for analyzing audio and music. It can be used to extract the data from the audio files we will see it later.\n",
        "import librosa\n",
        "import librosa.display\n",
        "import librosa.feature as libf\n",
        "import seaborn as sns\n",
        "import matplotlib.pyplot as plt\n",
        "\n",
        "from sklearn.preprocessing import StandardScaler, OneHotEncoder, minmax_scale, scale, MinMaxScaler\n",
        "from sklearn.metrics import confusion_matrix, classification_report, accuracy_score\n",
        "from sklearn.model_selection import train_test_split\n",
        "from sklearn.svm import SVC\n",
        "\n",
        "# to play the audio files\n",
        "from IPython.display import Audio\n",
        "\n",
        "import keras\n",
        "from keras.callbacks import ReduceLROnPlateau\n",
        "from keras.models import Sequential\n",
        "from keras.layers import Dense, Conv1D, MaxPooling1D, Flatten, Dropout, BatchNormalization\n",
        "from keras.callbacks import ModelCheckpoint\n",
        "\n",
        "from scipy.stats import kurtosis\n",
        "from scipy.stats import skew\n",
        "\n",
        "eps = sys.float_info.epsilon\n",
        "\n",
        "import warnings\n",
        "if not sys.warnoptions:\n",
        "    warnings.simplefilter(\"ignore\")\n",
        "warnings.filterwarnings(\"ignore\", category=DeprecationWarning)"
      ]
    },
    {
      "cell_type": "markdown",
      "source": [
        "### CNN with only train-test split (98% accuracy)"
      ],
      "metadata": {
        "id": "6aQ1p4b8-Xd5"
      }
    },
    {
      "cell_type": "code",
      "source": [
        "features = pd.read_csv('/content/drive/MyDrive/Colab Notebooks/Audio Pattern Recognition/Project_Brancatelli/features.csv')\n",
        "features.head()"
      ],
      "metadata": {
        "colab": {
          "base_uri": "https://localhost:8080/",
          "height": 255
        },
        "id": "hBdPsAk_-bJ-",
        "outputId": "68aa0992-48ae-4f1d-cd02-d4d529b6e8cd"
      },
      "execution_count": null,
      "outputs": [
        {
          "output_type": "execute_result",
          "data": {
            "text/plain": [
              "          0         1         2         3         4         5         6  \\\n",
              "0  0.214355  0.319824  0.429688  0.423340  0.421875  0.436035  0.427734   \n",
              "1  0.253906  0.388184  0.514648  0.510254  0.506836  0.495117  0.493164   \n",
              "2  0.218750  0.323730  0.421387  0.418945  0.411133  0.416016  0.416992   \n",
              "3  0.249512  0.368164  0.495117  0.497559  0.496094  0.491211  0.495605   \n",
              "4  0.312500  0.495605  0.720215  0.666016  0.688477  0.586914  0.575684   \n",
              "\n",
              "          7         8         9  ...       2367      2368       2369  \\\n",
              "0  0.434570  0.426758  0.397949  ... -21.660831 -8.824115   7.443534   \n",
              "1  0.479492  0.486816  0.495117  ... -20.565357 -6.349044   8.264988   \n",
              "2  0.416504  0.404785  0.382324  ... -11.227339 -2.053445  11.747261   \n",
              "3  0.499512  0.498047  0.508301  ... -11.301952  1.284632   9.955471   \n",
              "4  0.666992  0.578125  0.670410  ...  -0.363573 -0.588626  -0.576606   \n",
              "\n",
              "       2370       2371       2372       2373       2374       2375  Emotions  \n",
              "0  5.859727  -0.321161 -15.598403 -11.630619 -11.754715   4.756393     angry  \n",
              "1  5.284755   0.973508 -13.907689 -12.484719  -9.336018   3.070137     angry  \n",
              "2  7.627929 -12.674572 -24.245716  -4.193148   3.420844  23.195007     angry  \n",
              "3  6.450918 -15.117396 -19.702325  -4.617732   2.827433  19.260487     angry  \n",
              "4 -0.317693   0.132963   0.652741   1.079558   1.260494   1.101743   disgust  \n",
              "\n",
              "[5 rows x 2377 columns]"
            ],
            "text/html": [
              "\n",
              "  <div id=\"df-4392904c-2493-42e8-85a7-f9fe00bc4f63\" class=\"colab-df-container\">\n",
              "    <div>\n",
              "<style scoped>\n",
              "    .dataframe tbody tr th:only-of-type {\n",
              "        vertical-align: middle;\n",
              "    }\n",
              "\n",
              "    .dataframe tbody tr th {\n",
              "        vertical-align: top;\n",
              "    }\n",
              "\n",
              "    .dataframe thead th {\n",
              "        text-align: right;\n",
              "    }\n",
              "</style>\n",
              "<table border=\"1\" class=\"dataframe\">\n",
              "  <thead>\n",
              "    <tr style=\"text-align: right;\">\n",
              "      <th></th>\n",
              "      <th>0</th>\n",
              "      <th>1</th>\n",
              "      <th>2</th>\n",
              "      <th>3</th>\n",
              "      <th>4</th>\n",
              "      <th>5</th>\n",
              "      <th>6</th>\n",
              "      <th>7</th>\n",
              "      <th>8</th>\n",
              "      <th>9</th>\n",
              "      <th>...</th>\n",
              "      <th>2367</th>\n",
              "      <th>2368</th>\n",
              "      <th>2369</th>\n",
              "      <th>2370</th>\n",
              "      <th>2371</th>\n",
              "      <th>2372</th>\n",
              "      <th>2373</th>\n",
              "      <th>2374</th>\n",
              "      <th>2375</th>\n",
              "      <th>Emotions</th>\n",
              "    </tr>\n",
              "  </thead>\n",
              "  <tbody>\n",
              "    <tr>\n",
              "      <th>0</th>\n",
              "      <td>0.214355</td>\n",
              "      <td>0.319824</td>\n",
              "      <td>0.429688</td>\n",
              "      <td>0.423340</td>\n",
              "      <td>0.421875</td>\n",
              "      <td>0.436035</td>\n",
              "      <td>0.427734</td>\n",
              "      <td>0.434570</td>\n",
              "      <td>0.426758</td>\n",
              "      <td>0.397949</td>\n",
              "      <td>...</td>\n",
              "      <td>-21.660831</td>\n",
              "      <td>-8.824115</td>\n",
              "      <td>7.443534</td>\n",
              "      <td>5.859727</td>\n",
              "      <td>-0.321161</td>\n",
              "      <td>-15.598403</td>\n",
              "      <td>-11.630619</td>\n",
              "      <td>-11.754715</td>\n",
              "      <td>4.756393</td>\n",
              "      <td>angry</td>\n",
              "    </tr>\n",
              "    <tr>\n",
              "      <th>1</th>\n",
              "      <td>0.253906</td>\n",
              "      <td>0.388184</td>\n",
              "      <td>0.514648</td>\n",
              "      <td>0.510254</td>\n",
              "      <td>0.506836</td>\n",
              "      <td>0.495117</td>\n",
              "      <td>0.493164</td>\n",
              "      <td>0.479492</td>\n",
              "      <td>0.486816</td>\n",
              "      <td>0.495117</td>\n",
              "      <td>...</td>\n",
              "      <td>-20.565357</td>\n",
              "      <td>-6.349044</td>\n",
              "      <td>8.264988</td>\n",
              "      <td>5.284755</td>\n",
              "      <td>0.973508</td>\n",
              "      <td>-13.907689</td>\n",
              "      <td>-12.484719</td>\n",
              "      <td>-9.336018</td>\n",
              "      <td>3.070137</td>\n",
              "      <td>angry</td>\n",
              "    </tr>\n",
              "    <tr>\n",
              "      <th>2</th>\n",
              "      <td>0.218750</td>\n",
              "      <td>0.323730</td>\n",
              "      <td>0.421387</td>\n",
              "      <td>0.418945</td>\n",
              "      <td>0.411133</td>\n",
              "      <td>0.416016</td>\n",
              "      <td>0.416992</td>\n",
              "      <td>0.416504</td>\n",
              "      <td>0.404785</td>\n",
              "      <td>0.382324</td>\n",
              "      <td>...</td>\n",
              "      <td>-11.227339</td>\n",
              "      <td>-2.053445</td>\n",
              "      <td>11.747261</td>\n",
              "      <td>7.627929</td>\n",
              "      <td>-12.674572</td>\n",
              "      <td>-24.245716</td>\n",
              "      <td>-4.193148</td>\n",
              "      <td>3.420844</td>\n",
              "      <td>23.195007</td>\n",
              "      <td>angry</td>\n",
              "    </tr>\n",
              "    <tr>\n",
              "      <th>3</th>\n",
              "      <td>0.249512</td>\n",
              "      <td>0.368164</td>\n",
              "      <td>0.495117</td>\n",
              "      <td>0.497559</td>\n",
              "      <td>0.496094</td>\n",
              "      <td>0.491211</td>\n",
              "      <td>0.495605</td>\n",
              "      <td>0.499512</td>\n",
              "      <td>0.498047</td>\n",
              "      <td>0.508301</td>\n",
              "      <td>...</td>\n",
              "      <td>-11.301952</td>\n",
              "      <td>1.284632</td>\n",
              "      <td>9.955471</td>\n",
              "      <td>6.450918</td>\n",
              "      <td>-15.117396</td>\n",
              "      <td>-19.702325</td>\n",
              "      <td>-4.617732</td>\n",
              "      <td>2.827433</td>\n",
              "      <td>19.260487</td>\n",
              "      <td>angry</td>\n",
              "    </tr>\n",
              "    <tr>\n",
              "      <th>4</th>\n",
              "      <td>0.312500</td>\n",
              "      <td>0.495605</td>\n",
              "      <td>0.720215</td>\n",
              "      <td>0.666016</td>\n",
              "      <td>0.688477</td>\n",
              "      <td>0.586914</td>\n",
              "      <td>0.575684</td>\n",
              "      <td>0.666992</td>\n",
              "      <td>0.578125</td>\n",
              "      <td>0.670410</td>\n",
              "      <td>...</td>\n",
              "      <td>-0.363573</td>\n",
              "      <td>-0.588626</td>\n",
              "      <td>-0.576606</td>\n",
              "      <td>-0.317693</td>\n",
              "      <td>0.132963</td>\n",
              "      <td>0.652741</td>\n",
              "      <td>1.079558</td>\n",
              "      <td>1.260494</td>\n",
              "      <td>1.101743</td>\n",
              "      <td>disgust</td>\n",
              "    </tr>\n",
              "  </tbody>\n",
              "</table>\n",
              "<p>5 rows × 2377 columns</p>\n",
              "</div>\n",
              "    <div class=\"colab-df-buttons\">\n",
              "\n",
              "  <div class=\"colab-df-container\">\n",
              "    <button class=\"colab-df-convert\" onclick=\"convertToInteractive('df-4392904c-2493-42e8-85a7-f9fe00bc4f63')\"\n",
              "            title=\"Convert this dataframe to an interactive table.\"\n",
              "            style=\"display:none;\">\n",
              "\n",
              "  <svg xmlns=\"http://www.w3.org/2000/svg\" height=\"24px\" viewBox=\"0 -960 960 960\">\n",
              "    <path d=\"M120-120v-720h720v720H120Zm60-500h600v-160H180v160Zm220 220h160v-160H400v160Zm0 220h160v-160H400v160ZM180-400h160v-160H180v160Zm440 0h160v-160H620v160ZM180-180h160v-160H180v160Zm440 0h160v-160H620v160Z\"/>\n",
              "  </svg>\n",
              "    </button>\n",
              "\n",
              "  <style>\n",
              "    .colab-df-container {\n",
              "      display:flex;\n",
              "      gap: 12px;\n",
              "    }\n",
              "\n",
              "    .colab-df-convert {\n",
              "      background-color: #E8F0FE;\n",
              "      border: none;\n",
              "      border-radius: 50%;\n",
              "      cursor: pointer;\n",
              "      display: none;\n",
              "      fill: #1967D2;\n",
              "      height: 32px;\n",
              "      padding: 0 0 0 0;\n",
              "      width: 32px;\n",
              "    }\n",
              "\n",
              "    .colab-df-convert:hover {\n",
              "      background-color: #E2EBFA;\n",
              "      box-shadow: 0px 1px 2px rgba(60, 64, 67, 0.3), 0px 1px 3px 1px rgba(60, 64, 67, 0.15);\n",
              "      fill: #174EA6;\n",
              "    }\n",
              "\n",
              "    .colab-df-buttons div {\n",
              "      margin-bottom: 4px;\n",
              "    }\n",
              "\n",
              "    [theme=dark] .colab-df-convert {\n",
              "      background-color: #3B4455;\n",
              "      fill: #D2E3FC;\n",
              "    }\n",
              "\n",
              "    [theme=dark] .colab-df-convert:hover {\n",
              "      background-color: #434B5C;\n",
              "      box-shadow: 0px 1px 3px 1px rgba(0, 0, 0, 0.15);\n",
              "      filter: drop-shadow(0px 1px 2px rgba(0, 0, 0, 0.3));\n",
              "      fill: #FFFFFF;\n",
              "    }\n",
              "  </style>\n",
              "\n",
              "    <script>\n",
              "      const buttonEl =\n",
              "        document.querySelector('#df-4392904c-2493-42e8-85a7-f9fe00bc4f63 button.colab-df-convert');\n",
              "      buttonEl.style.display =\n",
              "        google.colab.kernel.accessAllowed ? 'block' : 'none';\n",
              "\n",
              "      async function convertToInteractive(key) {\n",
              "        const element = document.querySelector('#df-4392904c-2493-42e8-85a7-f9fe00bc4f63');\n",
              "        const dataTable =\n",
              "          await google.colab.kernel.invokeFunction('convertToInteractive',\n",
              "                                                    [key], {});\n",
              "        if (!dataTable) return;\n",
              "\n",
              "        const docLinkHtml = 'Like what you see? Visit the ' +\n",
              "          '<a target=\"_blank\" href=https://colab.research.google.com/notebooks/data_table.ipynb>data table notebook</a>'\n",
              "          + ' to learn more about interactive tables.';\n",
              "        element.innerHTML = '';\n",
              "        dataTable['output_type'] = 'display_data';\n",
              "        await google.colab.output.renderOutput(dataTable, element);\n",
              "        const docLink = document.createElement('div');\n",
              "        docLink.innerHTML = docLinkHtml;\n",
              "        element.appendChild(docLink);\n",
              "      }\n",
              "    </script>\n",
              "  </div>\n",
              "\n",
              "\n",
              "<div id=\"df-cd7756cc-be34-438b-8c43-c0ec52cf3014\">\n",
              "  <button class=\"colab-df-quickchart\" onclick=\"quickchart('df-cd7756cc-be34-438b-8c43-c0ec52cf3014')\"\n",
              "            title=\"Suggest charts\"\n",
              "            style=\"display:none;\">\n",
              "\n",
              "<svg xmlns=\"http://www.w3.org/2000/svg\" height=\"24px\"viewBox=\"0 0 24 24\"\n",
              "     width=\"24px\">\n",
              "    <g>\n",
              "        <path d=\"M19 3H5c-1.1 0-2 .9-2 2v14c0 1.1.9 2 2 2h14c1.1 0 2-.9 2-2V5c0-1.1-.9-2-2-2zM9 17H7v-7h2v7zm4 0h-2V7h2v10zm4 0h-2v-4h2v4z\"/>\n",
              "    </g>\n",
              "</svg>\n",
              "  </button>\n",
              "\n",
              "<style>\n",
              "  .colab-df-quickchart {\n",
              "      --bg-color: #E8F0FE;\n",
              "      --fill-color: #1967D2;\n",
              "      --hover-bg-color: #E2EBFA;\n",
              "      --hover-fill-color: #174EA6;\n",
              "      --disabled-fill-color: #AAA;\n",
              "      --disabled-bg-color: #DDD;\n",
              "  }\n",
              "\n",
              "  [theme=dark] .colab-df-quickchart {\n",
              "      --bg-color: #3B4455;\n",
              "      --fill-color: #D2E3FC;\n",
              "      --hover-bg-color: #434B5C;\n",
              "      --hover-fill-color: #FFFFFF;\n",
              "      --disabled-bg-color: #3B4455;\n",
              "      --disabled-fill-color: #666;\n",
              "  }\n",
              "\n",
              "  .colab-df-quickchart {\n",
              "    background-color: var(--bg-color);\n",
              "    border: none;\n",
              "    border-radius: 50%;\n",
              "    cursor: pointer;\n",
              "    display: none;\n",
              "    fill: var(--fill-color);\n",
              "    height: 32px;\n",
              "    padding: 0;\n",
              "    width: 32px;\n",
              "  }\n",
              "\n",
              "  .colab-df-quickchart:hover {\n",
              "    background-color: var(--hover-bg-color);\n",
              "    box-shadow: 0 1px 2px rgba(60, 64, 67, 0.3), 0 1px 3px 1px rgba(60, 64, 67, 0.15);\n",
              "    fill: var(--button-hover-fill-color);\n",
              "  }\n",
              "\n",
              "  .colab-df-quickchart-complete:disabled,\n",
              "  .colab-df-quickchart-complete:disabled:hover {\n",
              "    background-color: var(--disabled-bg-color);\n",
              "    fill: var(--disabled-fill-color);\n",
              "    box-shadow: none;\n",
              "  }\n",
              "\n",
              "  .colab-df-spinner {\n",
              "    border: 2px solid var(--fill-color);\n",
              "    border-color: transparent;\n",
              "    border-bottom-color: var(--fill-color);\n",
              "    animation:\n",
              "      spin 1s steps(1) infinite;\n",
              "  }\n",
              "\n",
              "  @keyframes spin {\n",
              "    0% {\n",
              "      border-color: transparent;\n",
              "      border-bottom-color: var(--fill-color);\n",
              "      border-left-color: var(--fill-color);\n",
              "    }\n",
              "    20% {\n",
              "      border-color: transparent;\n",
              "      border-left-color: var(--fill-color);\n",
              "      border-top-color: var(--fill-color);\n",
              "    }\n",
              "    30% {\n",
              "      border-color: transparent;\n",
              "      border-left-color: var(--fill-color);\n",
              "      border-top-color: var(--fill-color);\n",
              "      border-right-color: var(--fill-color);\n",
              "    }\n",
              "    40% {\n",
              "      border-color: transparent;\n",
              "      border-right-color: var(--fill-color);\n",
              "      border-top-color: var(--fill-color);\n",
              "    }\n",
              "    60% {\n",
              "      border-color: transparent;\n",
              "      border-right-color: var(--fill-color);\n",
              "    }\n",
              "    80% {\n",
              "      border-color: transparent;\n",
              "      border-right-color: var(--fill-color);\n",
              "      border-bottom-color: var(--fill-color);\n",
              "    }\n",
              "    90% {\n",
              "      border-color: transparent;\n",
              "      border-bottom-color: var(--fill-color);\n",
              "    }\n",
              "  }\n",
              "</style>\n",
              "\n",
              "  <script>\n",
              "    async function quickchart(key) {\n",
              "      const quickchartButtonEl =\n",
              "        document.querySelector('#' + key + ' button');\n",
              "      quickchartButtonEl.disabled = true;  // To prevent multiple clicks.\n",
              "      quickchartButtonEl.classList.add('colab-df-spinner');\n",
              "      try {\n",
              "        const charts = await google.colab.kernel.invokeFunction(\n",
              "            'suggestCharts', [key], {});\n",
              "      } catch (error) {\n",
              "        console.error('Error during call to suggestCharts:', error);\n",
              "      }\n",
              "      quickchartButtonEl.classList.remove('colab-df-spinner');\n",
              "      quickchartButtonEl.classList.add('colab-df-quickchart-complete');\n",
              "    }\n",
              "    (() => {\n",
              "      let quickchartButtonEl =\n",
              "        document.querySelector('#df-cd7756cc-be34-438b-8c43-c0ec52cf3014 button');\n",
              "      quickchartButtonEl.style.display =\n",
              "        google.colab.kernel.accessAllowed ? 'block' : 'none';\n",
              "    })();\n",
              "  </script>\n",
              "</div>\n",
              "    </div>\n",
              "  </div>\n"
            ]
          },
          "metadata": {},
          "execution_count": 60
        }
      ]
    },
    {
      "cell_type": "code",
      "source": [
        "print(features.isna().any())"
      ],
      "metadata": {
        "colab": {
          "base_uri": "https://localhost:8080/"
        },
        "id": "6TIXfXQ5ARRq",
        "outputId": "cc1e5447-bd22-4827-851f-61b6787a7bb6"
      },
      "execution_count": null,
      "outputs": [
        {
          "output_type": "stream",
          "name": "stdout",
          "text": [
            "0           False\n",
            "1           False\n",
            "2           False\n",
            "3           False\n",
            "4           False\n",
            "            ...  \n",
            "2372         True\n",
            "2373         True\n",
            "2374         True\n",
            "2375         True\n",
            "Emotions    False\n",
            "Length: 2377, dtype: bool\n"
          ]
        }
      ]
    },
    {
      "cell_type": "code",
      "source": [
        "features=features.fillna(0)\n",
        "features.shape"
      ],
      "metadata": {
        "colab": {
          "base_uri": "https://localhost:8080/"
        },
        "id": "gAEZYET6AXn2",
        "outputId": "f0443388-1a8b-4b82-d51c-5f5064ee8049"
      },
      "execution_count": null,
      "outputs": [
        {
          "output_type": "execute_result",
          "data": {
            "text/plain": [
              "(33992, 2377)"
            ]
          },
          "metadata": {},
          "execution_count": 62
        }
      ]
    },
    {
      "cell_type": "code",
      "source": [
        "X = features.iloc[:, :-1]\n",
        "Y = features['Emotions']"
      ],
      "metadata": {
        "id": "H2pgePsA-fFX"
      },
      "execution_count": null,
      "outputs": []
    },
    {
      "cell_type": "code",
      "source": [
        "# As this is a multiclass classification problem onehotencoding our Y\n",
        "from sklearn.preprocessing import StandardScaler, OneHotEncoder\n",
        "encoder = OneHotEncoder()\n",
        "Y = encoder.fit_transform(np.array(Y).reshape(-1,1)).toarray()"
      ],
      "metadata": {
        "id": "6OUUFZTU-i39"
      },
      "execution_count": null,
      "outputs": []
    },
    {
      "cell_type": "code",
      "source": [
        "print(Y.shape)\n",
        "X.shape"
      ],
      "metadata": {
        "colab": {
          "base_uri": "https://localhost:8080/"
        },
        "id": "2k8x2ZO8-pU9",
        "outputId": "a20037b9-b44e-48d0-95d0-2593bf08bb43"
      },
      "execution_count": null,
      "outputs": [
        {
          "output_type": "stream",
          "name": "stdout",
          "text": [
            "(33992, 6)\n"
          ]
        },
        {
          "output_type": "execute_result",
          "data": {
            "text/plain": [
              "(33992, 2376)"
            ]
          },
          "metadata": {},
          "execution_count": 65
        }
      ]
    },
    {
      "cell_type": "code",
      "source": [
        "x_train, x_test, y_train, y_test = train_test_split(X, Y, random_state=0,test_size=0.2, shuffle=True)\n",
        "x_train.shape, y_train.shape, x_test.shape, y_test.shape"
      ],
      "metadata": {
        "colab": {
          "base_uri": "https://localhost:8080/"
        },
        "id": "lHX9UeBB-u0i",
        "outputId": "98700030-997a-4b75-a36f-c89d4e630642"
      },
      "execution_count": null,
      "outputs": [
        {
          "output_type": "execute_result",
          "data": {
            "text/plain": [
              "((27193, 2376), (27193, 6), (6799, 2376), (6799, 6))"
            ]
          },
          "metadata": {},
          "execution_count": 66
        }
      ]
    },
    {
      "cell_type": "code",
      "source": [
        "from keras.callbacks import ModelCheckpoint, EarlyStopping,ReduceLROnPlateau\n",
        "model_checkpoint = ModelCheckpoint('best_model1_weights.h5', monitor='accuracy', save_best_only=True)"
      ],
      "metadata": {
        "id": "MXeUrFbd-w-Y"
      },
      "execution_count": null,
      "outputs": []
    },
    {
      "cell_type": "code",
      "source": [
        "early_stop=EarlyStopping(monitor='accuracy',mode='auto',patience=10,restore_best_weights=True)\n",
        "lr_reduction=ReduceLROnPlateau(monitor='accuracy',patience=3,verbose=1,factor=0.5,min_lr=0.00001)"
      ],
      "metadata": {
        "id": "rY9CM0TH-5jW"
      },
      "execution_count": null,
      "outputs": []
    },
    {
      "cell_type": "code",
      "source": [
        "# scaling our data with sklearn's Standard scaler\n",
        "scaler = StandardScaler()\n",
        "x_train = scaler.fit_transform(x_train)\n",
        "x_test = scaler.transform(x_test)\n",
        "x_train.shape, y_train.shape, x_test.shape, y_test.shape"
      ],
      "metadata": {
        "colab": {
          "base_uri": "https://localhost:8080/"
        },
        "id": "bGcznxClA67v",
        "outputId": "340cd311-fca6-489a-9b8e-6ec76476f4d1"
      },
      "execution_count": null,
      "outputs": [
        {
          "output_type": "execute_result",
          "data": {
            "text/plain": [
              "((27193, 2376), (27193, 6), (6799, 2376), (6799, 6))"
            ]
          },
          "metadata": {},
          "execution_count": 69
        }
      ]
    },
    {
      "cell_type": "code",
      "source": [
        "#Reshape for CNN MODEL\n",
        "\n",
        "x_traincnn =np.expand_dims(x_train, axis=2)\n",
        "x_testcnn= np.expand_dims(x_test, axis=2)\n",
        "x_traincnn.shape, y_train.shape, x_testcnn.shape, y_test.shape"
      ],
      "metadata": {
        "colab": {
          "base_uri": "https://localhost:8080/"
        },
        "id": "cqRpj8W6-7sW",
        "outputId": "6a9244e0-66cb-42bd-ae2d-70e972f64b5b"
      },
      "execution_count": null,
      "outputs": [
        {
          "output_type": "execute_result",
          "data": {
            "text/plain": [
              "((27193, 2376, 1), (27193, 6), (6799, 2376, 1), (6799, 6))"
            ]
          },
          "metadata": {},
          "execution_count": 70
        }
      ]
    },
    {
      "cell_type": "code",
      "source": [
        "import tensorflow.keras.layers as L\n",
        "\n",
        "model1 = tf.keras.Sequential([\n",
        "    L.Conv1D(512,kernel_size=5, strides=1,padding='same', activation='relu',input_shape=(x_train.shape[1],1)),\n",
        "    L.BatchNormalization(),\n",
        "    L.MaxPool1D(pool_size=5,strides=2,padding='same'),\n",
        "\n",
        "    L.Conv1D(512,kernel_size=5,strides=1,padding='same',activation='relu'),\n",
        "    L.BatchNormalization(),\n",
        "    L.MaxPool1D(pool_size=5,strides=2,padding='same'),\n",
        "    Dropout(0.2),  # Add dropout layer after the second max pooling layer\n",
        "\n",
        "    L.Conv1D(256,kernel_size=5,strides=1,padding='same',activation='relu'),\n",
        "    L.BatchNormalization(),\n",
        "    L.MaxPool1D(pool_size=5,strides=2,padding='same'),\n",
        "\n",
        "    L.Conv1D(256,kernel_size=3,strides=1,padding='same',activation='relu'),\n",
        "    L.BatchNormalization(),\n",
        "    L.MaxPool1D(pool_size=5,strides=2,padding='same'),\n",
        "    Dropout(0.2),  # Add dropout layer after the fourth max pooling layer\n",
        "\n",
        "    L.Conv1D(128,kernel_size=3,strides=1,padding='same',activation='relu'),\n",
        "    L.BatchNormalization(),\n",
        "    L.MaxPool1D(pool_size=3,strides=2,padding='same'),\n",
        "    Dropout(0.2),  # Add dropout layer after the fifth max pooling layer\n",
        "\n",
        "    L.Flatten(),\n",
        "    L.Dense(512,activation='relu'),\n",
        "    L.BatchNormalization(),\n",
        "    L.Dense(6,activation='softmax')\n",
        "])\n",
        "model1.compile(optimizer='adam',loss='categorical_crossentropy',metrics='accuracy')\n",
        "model1.summary()"
      ],
      "metadata": {
        "colab": {
          "base_uri": "https://localhost:8080/"
        },
        "id": "UQO9bzOj-_I4",
        "outputId": "1640a278-9761-4aa3-84a6-09db965082e5"
      },
      "execution_count": null,
      "outputs": [
        {
          "output_type": "stream",
          "name": "stdout",
          "text": [
            "Model: \"sequential_4\"\n",
            "_________________________________________________________________\n",
            " Layer (type)                Output Shape              Param #   \n",
            "=================================================================\n",
            " conv1d_20 (Conv1D)          (None, 2376, 512)         3072      \n",
            "                                                                 \n",
            " batch_normalization_24 (Ba  (None, 2376, 512)         2048      \n",
            " tchNormalization)                                               \n",
            "                                                                 \n",
            " max_pooling1d_20 (MaxPooli  (None, 1188, 512)         0         \n",
            " ng1D)                                                           \n",
            "                                                                 \n",
            " conv1d_21 (Conv1D)          (None, 1188, 512)         1311232   \n",
            "                                                                 \n",
            " batch_normalization_25 (Ba  (None, 1188, 512)         2048      \n",
            " tchNormalization)                                               \n",
            "                                                                 \n",
            " max_pooling1d_21 (MaxPooli  (None, 594, 512)          0         \n",
            " ng1D)                                                           \n",
            "                                                                 \n",
            " dropout_12 (Dropout)        (None, 594, 512)          0         \n",
            "                                                                 \n",
            " conv1d_22 (Conv1D)          (None, 594, 256)          655616    \n",
            "                                                                 \n",
            " batch_normalization_26 (Ba  (None, 594, 256)          1024      \n",
            " tchNormalization)                                               \n",
            "                                                                 \n",
            " max_pooling1d_22 (MaxPooli  (None, 297, 256)          0         \n",
            " ng1D)                                                           \n",
            "                                                                 \n",
            " conv1d_23 (Conv1D)          (None, 297, 256)          196864    \n",
            "                                                                 \n",
            " batch_normalization_27 (Ba  (None, 297, 256)          1024      \n",
            " tchNormalization)                                               \n",
            "                                                                 \n",
            " max_pooling1d_23 (MaxPooli  (None, 149, 256)          0         \n",
            " ng1D)                                                           \n",
            "                                                                 \n",
            " dropout_13 (Dropout)        (None, 149, 256)          0         \n",
            "                                                                 \n",
            " conv1d_24 (Conv1D)          (None, 149, 128)          98432     \n",
            "                                                                 \n",
            " batch_normalization_28 (Ba  (None, 149, 128)          512       \n",
            " tchNormalization)                                               \n",
            "                                                                 \n",
            " max_pooling1d_24 (MaxPooli  (None, 75, 128)           0         \n",
            " ng1D)                                                           \n",
            "                                                                 \n",
            " dropout_14 (Dropout)        (None, 75, 128)           0         \n",
            "                                                                 \n",
            " flatten_4 (Flatten)         (None, 9600)              0         \n",
            "                                                                 \n",
            " dense_8 (Dense)             (None, 512)               4915712   \n",
            "                                                                 \n",
            " batch_normalization_29 (Ba  (None, 512)               2048      \n",
            " tchNormalization)                                               \n",
            "                                                                 \n",
            " dense_9 (Dense)             (None, 6)                 3078      \n",
            "                                                                 \n",
            "=================================================================\n",
            "Total params: 7192710 (27.44 MB)\n",
            "Trainable params: 7188358 (27.42 MB)\n",
            "Non-trainable params: 4352 (17.00 KB)\n",
            "_________________________________________________________________\n"
          ]
        }
      ]
    },
    {
      "cell_type": "code",
      "source": [
        "import tensorflow as tf\n",
        "device_name = tf.test.gpu_device_name()\n",
        "if len(device_name) > 0:\n",
        "    print(\"Found GPU at: {}\".format(device_name))\n",
        "else:\n",
        "    device_name = \"/device:CPU:0\"\n",
        "    print(\"No GPU, using {}.\".format(device_name))"
      ],
      "metadata": {
        "colab": {
          "base_uri": "https://localhost:8080/"
        },
        "id": "5NY5mtkT_G9E",
        "outputId": "fea5efa9-467d-42df-b1a5-3416e3ff3df7"
      },
      "execution_count": null,
      "outputs": [
        {
          "output_type": "stream",
          "name": "stdout",
          "text": [
            "Found GPU at: /device:GPU:0\n"
          ]
        }
      ]
    },
    {
      "cell_type": "code",
      "source": [
        "#model.compile(loss='categorical_crossentropy', optimizer=opt, metrics=['accuracy'])\n",
        "with tf.device(device_name):\n",
        "  history=model1.fit(x_traincnn, y_train, epochs=100, validation_data=(x_testcnn, y_test), batch_size=64,callbacks=[early_stop,lr_reduction,model_checkpoint])"
      ],
      "metadata": {
        "colab": {
          "base_uri": "https://localhost:8080/"
        },
        "id": "UT7UFmui_LxW",
        "outputId": "c3c67011-c7cd-4cd2-f782-b0a0e61cec21"
      },
      "execution_count": null,
      "outputs": [
        {
          "output_type": "stream",
          "name": "stdout",
          "text": [
            "Epoch 1/100\n",
            "425/425 [==============================] - ETA: 0s - loss: 1.5567 - accuracy: 0.3864"
          ]
        },
        {
          "output_type": "stream",
          "name": "stderr",
          "text": [
            "/usr/local/lib/python3.10/dist-packages/keras/src/engine/training.py:3103: UserWarning: You are saving your model as an HDF5 file via `model.save()`. This file format is considered legacy. We recommend using instead the native Keras format, e.g. `model.save('my_model.keras')`.\n",
            "  saving_api.save_model(\n"
          ]
        },
        {
          "output_type": "stream",
          "name": "stdout",
          "text": [
            "\b\b\b\b\b\b\b\b\b\b\b\b\b\b\b\b\b\b\b\b\b\b\b\b\b\b\b\b\b\b\b\b\b\b\b\b\b\b\b\b\b\b\b\b\b\b\b\b\b\b\b\b\b\b\b\b\b\b\b\b\b\b\b\b\b\b\b\b\b\b\b\b\b\b\b\b\b\b\b\b\b\b\b\b\r425/425 [==============================] - 141s 320ms/step - loss: 1.5567 - accuracy: 0.3864 - val_loss: 1.9185 - val_accuracy: 0.2474 - lr: 0.0010\n",
            "Epoch 2/100\n",
            "425/425 [==============================] - 139s 327ms/step - loss: 1.3612 - accuracy: 0.4551 - val_loss: 1.5163 - val_accuracy: 0.4008 - lr: 0.0010\n",
            "Epoch 3/100\n",
            "425/425 [==============================] - 139s 328ms/step - loss: 1.2638 - accuracy: 0.4985 - val_loss: 1.3206 - val_accuracy: 0.4898 - lr: 0.0010\n",
            "Epoch 4/100\n",
            "425/425 [==============================] - 139s 328ms/step - loss: 1.1645 - accuracy: 0.5430 - val_loss: 1.2544 - val_accuracy: 0.5149 - lr: 0.0010\n",
            "Epoch 5/100\n",
            "425/425 [==============================] - 139s 327ms/step - loss: 1.0719 - accuracy: 0.5852 - val_loss: 1.1276 - val_accuracy: 0.5621 - lr: 0.0010\n",
            "Epoch 6/100\n",
            "425/425 [==============================] - 139s 327ms/step - loss: 0.9487 - accuracy: 0.6377 - val_loss: 1.0479 - val_accuracy: 0.6027 - lr: 0.0010\n",
            "Epoch 7/100\n",
            "425/425 [==============================] - 139s 327ms/step - loss: 0.7897 - accuracy: 0.7013 - val_loss: 0.9263 - val_accuracy: 0.6480 - lr: 0.0010\n",
            "Epoch 8/100\n",
            "425/425 [==============================] - 139s 327ms/step - loss: 0.6301 - accuracy: 0.7692 - val_loss: 0.8176 - val_accuracy: 0.6969 - lr: 0.0010\n",
            "Epoch 9/100\n",
            "425/425 [==============================] - 139s 327ms/step - loss: 0.4764 - accuracy: 0.8294 - val_loss: 0.5735 - val_accuracy: 0.7917 - lr: 0.0010\n",
            "Epoch 10/100\n",
            "425/425 [==============================] - 139s 326ms/step - loss: 0.3456 - accuracy: 0.8788 - val_loss: 0.5306 - val_accuracy: 0.8054 - lr: 0.0010\n",
            "Epoch 11/100\n",
            "425/425 [==============================] - 139s 326ms/step - loss: 0.2697 - accuracy: 0.9078 - val_loss: 0.4146 - val_accuracy: 0.8535 - lr: 0.0010\n",
            "Epoch 12/100\n",
            "425/425 [==============================] - 139s 327ms/step - loss: 0.2086 - accuracy: 0.9292 - val_loss: 0.4397 - val_accuracy: 0.8478 - lr: 0.0010\n",
            "Epoch 13/100\n",
            "425/425 [==============================] - 139s 326ms/step - loss: 0.1582 - accuracy: 0.9484 - val_loss: 0.4077 - val_accuracy: 0.8638 - lr: 0.0010\n",
            "Epoch 14/100\n",
            "425/425 [==============================] - 139s 326ms/step - loss: 0.1344 - accuracy: 0.9559 - val_loss: 0.3541 - val_accuracy: 0.8834 - lr: 0.0010\n",
            "Epoch 15/100\n",
            "425/425 [==============================] - 138s 326ms/step - loss: 0.1126 - accuracy: 0.9635 - val_loss: 0.3651 - val_accuracy: 0.8848 - lr: 0.0010\n",
            "Epoch 16/100\n",
            "425/425 [==============================] - 138s 325ms/step - loss: 0.1356 - accuracy: 0.9533 - val_loss: 0.3142 - val_accuracy: 0.9013 - lr: 0.0010\n",
            "Epoch 17/100\n",
            "425/425 [==============================] - 139s 326ms/step - loss: 0.0899 - accuracy: 0.9710 - val_loss: 0.2771 - val_accuracy: 0.9154 - lr: 0.0010\n",
            "Epoch 18/100\n",
            "425/425 [==============================] - 138s 326ms/step - loss: 0.0838 - accuracy: 0.9712 - val_loss: 0.3326 - val_accuracy: 0.8972 - lr: 0.0010\n",
            "Epoch 19/100\n",
            "425/425 [==============================] - 138s 325ms/step - loss: 0.0835 - accuracy: 0.9712 - val_loss: 0.3353 - val_accuracy: 0.8973 - lr: 0.0010\n",
            "Epoch 20/100\n",
            "425/425 [==============================] - 139s 326ms/step - loss: 0.0758 - accuracy: 0.9738 - val_loss: 0.3367 - val_accuracy: 0.8969 - lr: 0.0010\n",
            "Epoch 21/100\n",
            "425/425 [==============================] - 139s 326ms/step - loss: 0.0687 - accuracy: 0.9773 - val_loss: 0.2136 - val_accuracy: 0.9362 - lr: 0.0010\n",
            "Epoch 22/100\n",
            "425/425 [==============================] - 138s 325ms/step - loss: 0.0832 - accuracy: 0.9713 - val_loss: 0.2768 - val_accuracy: 0.9141 - lr: 0.0010\n",
            "Epoch 23/100\n",
            "425/425 [==============================] - 138s 326ms/step - loss: 0.0793 - accuracy: 0.9741 - val_loss: 0.2777 - val_accuracy: 0.9219 - lr: 0.0010\n",
            "Epoch 24/100\n",
            "425/425 [==============================] - 139s 326ms/step - loss: 0.0517 - accuracy: 0.9830 - val_loss: 0.2410 - val_accuracy: 0.9369 - lr: 0.0010\n",
            "Epoch 25/100\n",
            "425/425 [==============================] - 139s 326ms/step - loss: 0.0498 - accuracy: 0.9836 - val_loss: 0.2692 - val_accuracy: 0.9222 - lr: 0.0010\n",
            "Epoch 26/100\n",
            "425/425 [==============================] - 138s 326ms/step - loss: 0.0527 - accuracy: 0.9822 - val_loss: 0.2527 - val_accuracy: 0.9273 - lr: 0.0010\n",
            "Epoch 27/100\n",
            "425/425 [==============================] - 138s 325ms/step - loss: 0.0484 - accuracy: 0.9834 - val_loss: 0.2277 - val_accuracy: 0.9354 - lr: 0.0010\n",
            "Epoch 28/100\n",
            "425/425 [==============================] - ETA: 0s - loss: 0.0530 - accuracy: 0.9810\n",
            "Epoch 28: ReduceLROnPlateau reducing learning rate to 0.0005000000237487257.\n",
            "425/425 [==============================] - 138s 325ms/step - loss: 0.0530 - accuracy: 0.9810 - val_loss: 0.3769 - val_accuracy: 0.8956 - lr: 0.0010\n",
            "Epoch 29/100\n",
            "244/425 [================>.............] - ETA: 55s - loss: 0.0290 - accuracy: 0.9901"
          ]
        }
      ]
    },
    {
      "cell_type": "code",
      "source": [
        "print(\"Accuracy of our model on test data : \" , model1.evaluate(x_testcnn,y_test)[1]*100 , \"%\")\n",
        "\n",
        "#epochs = [i for i in range(85)]\n",
        "#fig , ax = plt.subplots(1,2)\n",
        "#train_acc = history.history['accuracy']\n",
        "#train_loss = history.history['loss']\n",
        "#test_acc = history.history['val_accuracy']\n",
        "#test_loss = history.history['val_loss']\n",
        "\n",
        "#fig.set_size_inches(20,6)\n",
        "#ax[0].plot(epochs , train_loss , label = 'Training Loss')\n",
        "#ax[0].plot(epochs , test_loss , label = 'Testing Loss')\n",
        "#ax[0].set_title('Training & Testing Loss')\n",
        "#ax[0].legend()\n",
        "#ax[0].set_xlabel(\"Epochs\")\n",
        "\n",
        "#ax[1].plot(epochs , train_acc , label = 'Training Accuracy')\n",
        "#ax[1].plot(epochs , test_acc , label = 'Testing Accuracy')\n",
        "#ax[1].set_title('Training & Testing Accuracy')\n",
        "#ax[1].legend()\n",
        "#ax[1].set_xlabel(\"Epochs\")\n",
        "#plt.show()"
      ],
      "metadata": {
        "id": "is2pEd-WCrWf"
      },
      "execution_count": null,
      "outputs": []
    },
    {
      "cell_type": "code",
      "source": [
        "# predicting on test data.\n",
        "pred_test = model1.predict(x_test)\n",
        "y_pred = encoder.inverse_transform(pred_test)\n",
        "\n",
        "y_test = encoder.inverse_transform(y_test)"
      ],
      "metadata": {
        "id": "A57GoKOBukOF"
      },
      "execution_count": null,
      "outputs": []
    },
    {
      "cell_type": "code",
      "source": [
        "df = pd.DataFrame(columns=['Predicted Labels', 'Actual Labels'])\n",
        "df['Predicted Labels'] = y_pred.flatten()\n",
        "df['Actual Labels'] = y_test.flatten()\n",
        "\n",
        "df.head(10)"
      ],
      "metadata": {
        "id": "byoavUl1u0Qc"
      },
      "execution_count": null,
      "outputs": []
    },
    {
      "cell_type": "code",
      "source": [
        "cm = confusion_matrix(y_test, y_pred)\n",
        "plt.figure(figsize = (12, 10))\n",
        "cm = pd.DataFrame(cm , index = [i for i in encoder.categories_] , columns = [i for i in encoder.categories_])\n",
        "sns.heatmap(cm, linecolor='white', cmap='Blues', linewidth=1, annot=True, fmt='')\n",
        "plt.title('Confusion Matrix', size=20)\n",
        "plt.xlabel('Predicted Labels', size=14)\n",
        "plt.ylabel('Actual Labels', size=14)\n",
        "plt.show()"
      ],
      "metadata": {
        "id": "Ccwx3dyJu8i2"
      },
      "execution_count": null,
      "outputs": []
    },
    {
      "cell_type": "code",
      "source": [
        "print(classification_report(y_test, y_pred))"
      ],
      "metadata": {
        "id": "jX7dO7SivXE4"
      },
      "execution_count": null,
      "outputs": []
    },
    {
      "cell_type": "markdown",
      "source": [
        "### CNN with train-test-val split\n",
        "- batch size 128"
      ],
      "metadata": {
        "id": "5zeVgNEEco3B"
      }
    },
    {
      "cell_type": "code",
      "source": [
        "features = pd.read_csv('/content/drive/MyDrive/Colab Notebooks/Audio Pattern Recognition/Project_Brancatelli/features.csv')\n",
        "features.head()"
      ],
      "metadata": {
        "id": "EsYyo95ivt4h",
        "colab": {
          "base_uri": "https://localhost:8080/"
        },
        "outputId": "b916a89b-8172-41ab-fbaf-0f1a861ac037"
      },
      "execution_count": null,
      "outputs": [
        {
          "output_type": "execute_result",
          "data": {
            "text/plain": [
              "          0         1         2         3         4         5         6  \\\n",
              "0  0.214355  0.319824  0.429688  0.423340  0.421875  0.436035  0.427734   \n",
              "1  0.253906  0.388184  0.514648  0.510254  0.506836  0.495117  0.493164   \n",
              "2  0.218750  0.323730  0.421387  0.418945  0.411133  0.416016  0.416992   \n",
              "3  0.249512  0.368164  0.495117  0.497559  0.496094  0.491211  0.495605   \n",
              "4  0.312500  0.495605  0.720215  0.666016  0.688477  0.586914  0.575684   \n",
              "\n",
              "          7         8         9  ...       2367      2368       2369  \\\n",
              "0  0.434570  0.426758  0.397949  ... -21.660831 -8.824115   7.443534   \n",
              "1  0.479492  0.486816  0.495117  ... -20.565357 -6.349044   8.264988   \n",
              "2  0.416504  0.404785  0.382324  ... -11.227339 -2.053445  11.747261   \n",
              "3  0.499512  0.498047  0.508301  ... -11.301952  1.284632   9.955471   \n",
              "4  0.666992  0.578125  0.670410  ...  -0.363573 -0.588626  -0.576606   \n",
              "\n",
              "       2370       2371       2372       2373       2374       2375  Emotions  \n",
              "0  5.859727  -0.321161 -15.598403 -11.630619 -11.754715   4.756393     angry  \n",
              "1  5.284755   0.973508 -13.907689 -12.484719  -9.336018   3.070137     angry  \n",
              "2  7.627929 -12.674572 -24.245716  -4.193148   3.420844  23.195007     angry  \n",
              "3  6.450918 -15.117396 -19.702325  -4.617732   2.827433  19.260487     angry  \n",
              "4 -0.317693   0.132963   0.652741   1.079558   1.260494   1.101743   disgust  \n",
              "\n",
              "[5 rows x 2377 columns]"
            ],
            "text/html": [
              "\n",
              "  <div id=\"df-8934f650-794d-4012-b130-e04669405bf3\" class=\"colab-df-container\">\n",
              "    <div>\n",
              "<style scoped>\n",
              "    .dataframe tbody tr th:only-of-type {\n",
              "        vertical-align: middle;\n",
              "    }\n",
              "\n",
              "    .dataframe tbody tr th {\n",
              "        vertical-align: top;\n",
              "    }\n",
              "\n",
              "    .dataframe thead th {\n",
              "        text-align: right;\n",
              "    }\n",
              "</style>\n",
              "<table border=\"1\" class=\"dataframe\">\n",
              "  <thead>\n",
              "    <tr style=\"text-align: right;\">\n",
              "      <th></th>\n",
              "      <th>0</th>\n",
              "      <th>1</th>\n",
              "      <th>2</th>\n",
              "      <th>3</th>\n",
              "      <th>4</th>\n",
              "      <th>5</th>\n",
              "      <th>6</th>\n",
              "      <th>7</th>\n",
              "      <th>8</th>\n",
              "      <th>9</th>\n",
              "      <th>...</th>\n",
              "      <th>2367</th>\n",
              "      <th>2368</th>\n",
              "      <th>2369</th>\n",
              "      <th>2370</th>\n",
              "      <th>2371</th>\n",
              "      <th>2372</th>\n",
              "      <th>2373</th>\n",
              "      <th>2374</th>\n",
              "      <th>2375</th>\n",
              "      <th>Emotions</th>\n",
              "    </tr>\n",
              "  </thead>\n",
              "  <tbody>\n",
              "    <tr>\n",
              "      <th>0</th>\n",
              "      <td>0.214355</td>\n",
              "      <td>0.319824</td>\n",
              "      <td>0.429688</td>\n",
              "      <td>0.423340</td>\n",
              "      <td>0.421875</td>\n",
              "      <td>0.436035</td>\n",
              "      <td>0.427734</td>\n",
              "      <td>0.434570</td>\n",
              "      <td>0.426758</td>\n",
              "      <td>0.397949</td>\n",
              "      <td>...</td>\n",
              "      <td>-21.660831</td>\n",
              "      <td>-8.824115</td>\n",
              "      <td>7.443534</td>\n",
              "      <td>5.859727</td>\n",
              "      <td>-0.321161</td>\n",
              "      <td>-15.598403</td>\n",
              "      <td>-11.630619</td>\n",
              "      <td>-11.754715</td>\n",
              "      <td>4.756393</td>\n",
              "      <td>angry</td>\n",
              "    </tr>\n",
              "    <tr>\n",
              "      <th>1</th>\n",
              "      <td>0.253906</td>\n",
              "      <td>0.388184</td>\n",
              "      <td>0.514648</td>\n",
              "      <td>0.510254</td>\n",
              "      <td>0.506836</td>\n",
              "      <td>0.495117</td>\n",
              "      <td>0.493164</td>\n",
              "      <td>0.479492</td>\n",
              "      <td>0.486816</td>\n",
              "      <td>0.495117</td>\n",
              "      <td>...</td>\n",
              "      <td>-20.565357</td>\n",
              "      <td>-6.349044</td>\n",
              "      <td>8.264988</td>\n",
              "      <td>5.284755</td>\n",
              "      <td>0.973508</td>\n",
              "      <td>-13.907689</td>\n",
              "      <td>-12.484719</td>\n",
              "      <td>-9.336018</td>\n",
              "      <td>3.070137</td>\n",
              "      <td>angry</td>\n",
              "    </tr>\n",
              "    <tr>\n",
              "      <th>2</th>\n",
              "      <td>0.218750</td>\n",
              "      <td>0.323730</td>\n",
              "      <td>0.421387</td>\n",
              "      <td>0.418945</td>\n",
              "      <td>0.411133</td>\n",
              "      <td>0.416016</td>\n",
              "      <td>0.416992</td>\n",
              "      <td>0.416504</td>\n",
              "      <td>0.404785</td>\n",
              "      <td>0.382324</td>\n",
              "      <td>...</td>\n",
              "      <td>-11.227339</td>\n",
              "      <td>-2.053445</td>\n",
              "      <td>11.747261</td>\n",
              "      <td>7.627929</td>\n",
              "      <td>-12.674572</td>\n",
              "      <td>-24.245716</td>\n",
              "      <td>-4.193148</td>\n",
              "      <td>3.420844</td>\n",
              "      <td>23.195007</td>\n",
              "      <td>angry</td>\n",
              "    </tr>\n",
              "    <tr>\n",
              "      <th>3</th>\n",
              "      <td>0.249512</td>\n",
              "      <td>0.368164</td>\n",
              "      <td>0.495117</td>\n",
              "      <td>0.497559</td>\n",
              "      <td>0.496094</td>\n",
              "      <td>0.491211</td>\n",
              "      <td>0.495605</td>\n",
              "      <td>0.499512</td>\n",
              "      <td>0.498047</td>\n",
              "      <td>0.508301</td>\n",
              "      <td>...</td>\n",
              "      <td>-11.301952</td>\n",
              "      <td>1.284632</td>\n",
              "      <td>9.955471</td>\n",
              "      <td>6.450918</td>\n",
              "      <td>-15.117396</td>\n",
              "      <td>-19.702325</td>\n",
              "      <td>-4.617732</td>\n",
              "      <td>2.827433</td>\n",
              "      <td>19.260487</td>\n",
              "      <td>angry</td>\n",
              "    </tr>\n",
              "    <tr>\n",
              "      <th>4</th>\n",
              "      <td>0.312500</td>\n",
              "      <td>0.495605</td>\n",
              "      <td>0.720215</td>\n",
              "      <td>0.666016</td>\n",
              "      <td>0.688477</td>\n",
              "      <td>0.586914</td>\n",
              "      <td>0.575684</td>\n",
              "      <td>0.666992</td>\n",
              "      <td>0.578125</td>\n",
              "      <td>0.670410</td>\n",
              "      <td>...</td>\n",
              "      <td>-0.363573</td>\n",
              "      <td>-0.588626</td>\n",
              "      <td>-0.576606</td>\n",
              "      <td>-0.317693</td>\n",
              "      <td>0.132963</td>\n",
              "      <td>0.652741</td>\n",
              "      <td>1.079558</td>\n",
              "      <td>1.260494</td>\n",
              "      <td>1.101743</td>\n",
              "      <td>disgust</td>\n",
              "    </tr>\n",
              "  </tbody>\n",
              "</table>\n",
              "<p>5 rows × 2377 columns</p>\n",
              "</div>\n",
              "    <div class=\"colab-df-buttons\">\n",
              "\n",
              "  <div class=\"colab-df-container\">\n",
              "    <button class=\"colab-df-convert\" onclick=\"convertToInteractive('df-8934f650-794d-4012-b130-e04669405bf3')\"\n",
              "            title=\"Convert this dataframe to an interactive table.\"\n",
              "            style=\"display:none;\">\n",
              "\n",
              "  <svg xmlns=\"http://www.w3.org/2000/svg\" height=\"24px\" viewBox=\"0 -960 960 960\">\n",
              "    <path d=\"M120-120v-720h720v720H120Zm60-500h600v-160H180v160Zm220 220h160v-160H400v160Zm0 220h160v-160H400v160ZM180-400h160v-160H180v160Zm440 0h160v-160H620v160ZM180-180h160v-160H180v160Zm440 0h160v-160H620v160Z\"/>\n",
              "  </svg>\n",
              "    </button>\n",
              "\n",
              "  <style>\n",
              "    .colab-df-container {\n",
              "      display:flex;\n",
              "      gap: 12px;\n",
              "    }\n",
              "\n",
              "    .colab-df-convert {\n",
              "      background-color: #E8F0FE;\n",
              "      border: none;\n",
              "      border-radius: 50%;\n",
              "      cursor: pointer;\n",
              "      display: none;\n",
              "      fill: #1967D2;\n",
              "      height: 32px;\n",
              "      padding: 0 0 0 0;\n",
              "      width: 32px;\n",
              "    }\n",
              "\n",
              "    .colab-df-convert:hover {\n",
              "      background-color: #E2EBFA;\n",
              "      box-shadow: 0px 1px 2px rgba(60, 64, 67, 0.3), 0px 1px 3px 1px rgba(60, 64, 67, 0.15);\n",
              "      fill: #174EA6;\n",
              "    }\n",
              "\n",
              "    .colab-df-buttons div {\n",
              "      margin-bottom: 4px;\n",
              "    }\n",
              "\n",
              "    [theme=dark] .colab-df-convert {\n",
              "      background-color: #3B4455;\n",
              "      fill: #D2E3FC;\n",
              "    }\n",
              "\n",
              "    [theme=dark] .colab-df-convert:hover {\n",
              "      background-color: #434B5C;\n",
              "      box-shadow: 0px 1px 3px 1px rgba(0, 0, 0, 0.15);\n",
              "      filter: drop-shadow(0px 1px 2px rgba(0, 0, 0, 0.3));\n",
              "      fill: #FFFFFF;\n",
              "    }\n",
              "  </style>\n",
              "\n",
              "    <script>\n",
              "      const buttonEl =\n",
              "        document.querySelector('#df-8934f650-794d-4012-b130-e04669405bf3 button.colab-df-convert');\n",
              "      buttonEl.style.display =\n",
              "        google.colab.kernel.accessAllowed ? 'block' : 'none';\n",
              "\n",
              "      async function convertToInteractive(key) {\n",
              "        const element = document.querySelector('#df-8934f650-794d-4012-b130-e04669405bf3');\n",
              "        const dataTable =\n",
              "          await google.colab.kernel.invokeFunction('convertToInteractive',\n",
              "                                                    [key], {});\n",
              "        if (!dataTable) return;\n",
              "\n",
              "        const docLinkHtml = 'Like what you see? Visit the ' +\n",
              "          '<a target=\"_blank\" href=https://colab.research.google.com/notebooks/data_table.ipynb>data table notebook</a>'\n",
              "          + ' to learn more about interactive tables.';\n",
              "        element.innerHTML = '';\n",
              "        dataTable['output_type'] = 'display_data';\n",
              "        await google.colab.output.renderOutput(dataTable, element);\n",
              "        const docLink = document.createElement('div');\n",
              "        docLink.innerHTML = docLinkHtml;\n",
              "        element.appendChild(docLink);\n",
              "      }\n",
              "    </script>\n",
              "  </div>\n",
              "\n",
              "\n",
              "<div id=\"df-7fe849d6-80ab-4cf0-8e06-e3f798bbd849\">\n",
              "  <button class=\"colab-df-quickchart\" onclick=\"quickchart('df-7fe849d6-80ab-4cf0-8e06-e3f798bbd849')\"\n",
              "            title=\"Suggest charts\"\n",
              "            style=\"display:none;\">\n",
              "\n",
              "<svg xmlns=\"http://www.w3.org/2000/svg\" height=\"24px\"viewBox=\"0 0 24 24\"\n",
              "     width=\"24px\">\n",
              "    <g>\n",
              "        <path d=\"M19 3H5c-1.1 0-2 .9-2 2v14c0 1.1.9 2 2 2h14c1.1 0 2-.9 2-2V5c0-1.1-.9-2-2-2zM9 17H7v-7h2v7zm4 0h-2V7h2v10zm4 0h-2v-4h2v4z\"/>\n",
              "    </g>\n",
              "</svg>\n",
              "  </button>\n",
              "\n",
              "<style>\n",
              "  .colab-df-quickchart {\n",
              "      --bg-color: #E8F0FE;\n",
              "      --fill-color: #1967D2;\n",
              "      --hover-bg-color: #E2EBFA;\n",
              "      --hover-fill-color: #174EA6;\n",
              "      --disabled-fill-color: #AAA;\n",
              "      --disabled-bg-color: #DDD;\n",
              "  }\n",
              "\n",
              "  [theme=dark] .colab-df-quickchart {\n",
              "      --bg-color: #3B4455;\n",
              "      --fill-color: #D2E3FC;\n",
              "      --hover-bg-color: #434B5C;\n",
              "      --hover-fill-color: #FFFFFF;\n",
              "      --disabled-bg-color: #3B4455;\n",
              "      --disabled-fill-color: #666;\n",
              "  }\n",
              "\n",
              "  .colab-df-quickchart {\n",
              "    background-color: var(--bg-color);\n",
              "    border: none;\n",
              "    border-radius: 50%;\n",
              "    cursor: pointer;\n",
              "    display: none;\n",
              "    fill: var(--fill-color);\n",
              "    height: 32px;\n",
              "    padding: 0;\n",
              "    width: 32px;\n",
              "  }\n",
              "\n",
              "  .colab-df-quickchart:hover {\n",
              "    background-color: var(--hover-bg-color);\n",
              "    box-shadow: 0 1px 2px rgba(60, 64, 67, 0.3), 0 1px 3px 1px rgba(60, 64, 67, 0.15);\n",
              "    fill: var(--button-hover-fill-color);\n",
              "  }\n",
              "\n",
              "  .colab-df-quickchart-complete:disabled,\n",
              "  .colab-df-quickchart-complete:disabled:hover {\n",
              "    background-color: var(--disabled-bg-color);\n",
              "    fill: var(--disabled-fill-color);\n",
              "    box-shadow: none;\n",
              "  }\n",
              "\n",
              "  .colab-df-spinner {\n",
              "    border: 2px solid var(--fill-color);\n",
              "    border-color: transparent;\n",
              "    border-bottom-color: var(--fill-color);\n",
              "    animation:\n",
              "      spin 1s steps(1) infinite;\n",
              "  }\n",
              "\n",
              "  @keyframes spin {\n",
              "    0% {\n",
              "      border-color: transparent;\n",
              "      border-bottom-color: var(--fill-color);\n",
              "      border-left-color: var(--fill-color);\n",
              "    }\n",
              "    20% {\n",
              "      border-color: transparent;\n",
              "      border-left-color: var(--fill-color);\n",
              "      border-top-color: var(--fill-color);\n",
              "    }\n",
              "    30% {\n",
              "      border-color: transparent;\n",
              "      border-left-color: var(--fill-color);\n",
              "      border-top-color: var(--fill-color);\n",
              "      border-right-color: var(--fill-color);\n",
              "    }\n",
              "    40% {\n",
              "      border-color: transparent;\n",
              "      border-right-color: var(--fill-color);\n",
              "      border-top-color: var(--fill-color);\n",
              "    }\n",
              "    60% {\n",
              "      border-color: transparent;\n",
              "      border-right-color: var(--fill-color);\n",
              "    }\n",
              "    80% {\n",
              "      border-color: transparent;\n",
              "      border-right-color: var(--fill-color);\n",
              "      border-bottom-color: var(--fill-color);\n",
              "    }\n",
              "    90% {\n",
              "      border-color: transparent;\n",
              "      border-bottom-color: var(--fill-color);\n",
              "    }\n",
              "  }\n",
              "</style>\n",
              "\n",
              "  <script>\n",
              "    async function quickchart(key) {\n",
              "      const quickchartButtonEl =\n",
              "        document.querySelector('#' + key + ' button');\n",
              "      quickchartButtonEl.disabled = true;  // To prevent multiple clicks.\n",
              "      quickchartButtonEl.classList.add('colab-df-spinner');\n",
              "      try {\n",
              "        const charts = await google.colab.kernel.invokeFunction(\n",
              "            'suggestCharts', [key], {});\n",
              "      } catch (error) {\n",
              "        console.error('Error during call to suggestCharts:', error);\n",
              "      }\n",
              "      quickchartButtonEl.classList.remove('colab-df-spinner');\n",
              "      quickchartButtonEl.classList.add('colab-df-quickchart-complete');\n",
              "    }\n",
              "    (() => {\n",
              "      let quickchartButtonEl =\n",
              "        document.querySelector('#df-7fe849d6-80ab-4cf0-8e06-e3f798bbd849 button');\n",
              "      quickchartButtonEl.style.display =\n",
              "        google.colab.kernel.accessAllowed ? 'block' : 'none';\n",
              "    })();\n",
              "  </script>\n",
              "</div>\n",
              "    </div>\n",
              "  </div>\n"
            ]
          },
          "metadata": {},
          "execution_count": 2
        }
      ]
    },
    {
      "cell_type": "code",
      "source": [
        "print(features.isna().any())"
      ],
      "metadata": {
        "id": "h-iLYMpavt4i",
        "colab": {
          "base_uri": "https://localhost:8080/"
        },
        "outputId": "e04fb5fe-ecd6-48d7-d81e-cb0f1ffc41cd"
      },
      "execution_count": null,
      "outputs": [
        {
          "output_type": "stream",
          "name": "stdout",
          "text": [
            "0           False\n",
            "1           False\n",
            "2           False\n",
            "3           False\n",
            "4           False\n",
            "            ...  \n",
            "2372         True\n",
            "2373         True\n",
            "2374         True\n",
            "2375         True\n",
            "Emotions    False\n",
            "Length: 2377, dtype: bool\n"
          ]
        }
      ]
    },
    {
      "cell_type": "code",
      "source": [
        "features=features.fillna(0)\n",
        "features.shape"
      ],
      "metadata": {
        "id": "WmD6ewnKvt4i",
        "colab": {
          "base_uri": "https://localhost:8080/"
        },
        "outputId": "bbd5a387-1722-4172-aeef-27760a33b4ec"
      },
      "execution_count": null,
      "outputs": [
        {
          "output_type": "execute_result",
          "data": {
            "text/plain": [
              "(33992, 2377)"
            ]
          },
          "metadata": {},
          "execution_count": 4
        }
      ]
    },
    {
      "cell_type": "code",
      "source": [
        "X = features.iloc[:, :-1]\n",
        "Y = features['Emotions']"
      ],
      "metadata": {
        "id": "rDqM5O-gvt4i"
      },
      "execution_count": null,
      "outputs": []
    },
    {
      "cell_type": "code",
      "source": [
        "# As this is a multiclass classification problem onehotencoding our Y\n",
        "from sklearn.preprocessing import StandardScaler, OneHotEncoder\n",
        "encoder = OneHotEncoder()\n",
        "Y = encoder.fit_transform(np.array(Y).reshape(-1,1)).toarray()"
      ],
      "metadata": {
        "id": "KRpx1v8Dvt4j"
      },
      "execution_count": null,
      "outputs": []
    },
    {
      "cell_type": "code",
      "source": [
        "print(Y.shape)\n",
        "X.shape"
      ],
      "metadata": {
        "id": "jK10Vt7Avt4j",
        "colab": {
          "base_uri": "https://localhost:8080/"
        },
        "outputId": "261f58f2-50f5-4371-c7f3-2f2238016c3e"
      },
      "execution_count": null,
      "outputs": [
        {
          "output_type": "stream",
          "name": "stdout",
          "text": [
            "(33992, 6)\n"
          ]
        },
        {
          "output_type": "execute_result",
          "data": {
            "text/plain": [
              "(33992, 2376)"
            ]
          },
          "metadata": {},
          "execution_count": 7
        }
      ]
    },
    {
      "cell_type": "code",
      "source": [
        "x_train, x_test, y_train, y_test = train_test_split(X, Y, test_size=0.2, random_state=0, shuffle=True)\n",
        "\n",
        "x_train, x_val, y_train, y_val = train_test_split(x_train, y_train, test_size=0.25, random_state=0, shuffle=True) # 0.25 x 0.8 = 0.2"
      ],
      "metadata": {
        "id": "Lh3FBDgXvt4j"
      },
      "execution_count": null,
      "outputs": []
    },
    {
      "cell_type": "code",
      "source": [
        "x_train.shape, x_test.shape, x_val.shape, y_train.shape, y_test.shape, y_val.shape"
      ],
      "metadata": {
        "id": "iAi7yTiZwiZm",
        "colab": {
          "base_uri": "https://localhost:8080/"
        },
        "outputId": "8aa97943-ce1f-4ab6-907f-d47d70a11004"
      },
      "execution_count": null,
      "outputs": [
        {
          "output_type": "execute_result",
          "data": {
            "text/plain": [
              "((20394, 2376), (6799, 2376), (6799, 2376), (20394, 6), (6799, 6), (6799, 6))"
            ]
          },
          "metadata": {},
          "execution_count": 9
        }
      ]
    },
    {
      "cell_type": "code",
      "source": [
        "from keras.callbacks import ModelCheckpoint, EarlyStopping,ReduceLROnPlateau\n",
        "model_checkpoint = ModelCheckpoint('model_weights.h5', monitor='accuracy', save_best_only=True)"
      ],
      "metadata": {
        "id": "h3BL6laLvt4k"
      },
      "execution_count": null,
      "outputs": []
    },
    {
      "cell_type": "code",
      "source": [
        "early_stop=EarlyStopping(monitor='accuracy',mode='auto',patience=5,restore_best_weights=True)\n",
        "lr_reduction=ReduceLROnPlateau(monitor='accuracy',patience=3,verbose=1,factor=0.5,min_lr=0.00001)"
      ],
      "metadata": {
        "id": "R1-YTJzjvt4k"
      },
      "execution_count": null,
      "outputs": []
    },
    {
      "cell_type": "code",
      "source": [
        "# scaling our data with sklearn's Standard scaler\n",
        "scaler = StandardScaler()\n",
        "x_train = scaler.fit_transform(x_train)\n",
        "x_test = scaler.transform(x_test)\n",
        "x_val = scaler.transform(x_val)\n",
        "x_train.shape, x_test.shape, x_val.shape, y_train.shape, y_test.shape, y_val.shape"
      ],
      "metadata": {
        "id": "otwLssLqvt4k",
        "colab": {
          "base_uri": "https://localhost:8080/"
        },
        "outputId": "71b843a0-8918-47bd-ad64-cb4791ad143d"
      },
      "execution_count": null,
      "outputs": [
        {
          "output_type": "execute_result",
          "data": {
            "text/plain": [
              "((20394, 2376), (6799, 2376), (6799, 2376), (20394, 6), (6799, 6), (6799, 6))"
            ]
          },
          "metadata": {},
          "execution_count": 18
        }
      ]
    },
    {
      "cell_type": "code",
      "source": [
        "#Reshape for CNN MODEL\n",
        "\n",
        "x_traincnn =np.expand_dims(x_train, axis=2)\n",
        "x_testcnn= np.expand_dims(x_test, axis=2)\n",
        "x_valcnn = np.expand_dims(x_val, axis=2)\n",
        "x_traincnn.shape, y_train.shape, x_testcnn.shape, y_test.shape"
      ],
      "metadata": {
        "id": "NqzFsKm6vt4k",
        "colab": {
          "base_uri": "https://localhost:8080/"
        },
        "outputId": "67550e5e-a305-47db-b48f-734a6fa38f4b"
      },
      "execution_count": null,
      "outputs": [
        {
          "output_type": "execute_result",
          "data": {
            "text/plain": [
              "((20394, 2376, 1), (20394, 6), (6799, 2376, 1), (6799, 6))"
            ]
          },
          "metadata": {},
          "execution_count": 19
        }
      ]
    },
    {
      "cell_type": "code",
      "source": [
        "import tensorflow.keras.layers as L\n",
        "\n",
        "model2 = tf.keras.Sequential([\n",
        "    L.Conv1D(512,kernel_size=5, strides=1,padding='same', activation='relu',input_shape=(x_train.shape[1],1)),\n",
        "    L.BatchNormalization(),\n",
        "    L.MaxPool1D(pool_size=5,strides=2,padding='same'),\n",
        "\n",
        "    L.Conv1D(512,kernel_size=5,strides=1,padding='same',activation='relu'),\n",
        "    L.BatchNormalization(),\n",
        "    L.MaxPool1D(pool_size=5,strides=2,padding='same'),\n",
        "    Dropout(0.2),  # Add dropout layer after the second max pooling layer\n",
        "\n",
        "    L.Conv1D(256,kernel_size=5,strides=1,padding='same',activation='relu'),\n",
        "    L.BatchNormalization(),\n",
        "    L.MaxPool1D(pool_size=5,strides=2,padding='same'),\n",
        "\n",
        "    L.Conv1D(256,kernel_size=3,strides=1,padding='same',activation='relu'),\n",
        "    L.BatchNormalization(),\n",
        "    L.MaxPool1D(pool_size=5,strides=2,padding='same'),\n",
        "    Dropout(0.2),  # Add dropout layer after the fourth max pooling layer\n",
        "\n",
        "    L.Conv1D(128,kernel_size=3,strides=1,padding='same',activation='relu'),\n",
        "    L.BatchNormalization(),\n",
        "    L.MaxPool1D(pool_size=3,strides=2,padding='same'),\n",
        "    Dropout(0.2),  # Add dropout layer after the fifth max pooling layer\n",
        "\n",
        "    L.Flatten(),\n",
        "    L.Dense(512,activation='relu'),\n",
        "    L.BatchNormalization(),\n",
        "    L.Dense(6,activation='softmax')\n",
        "])\n",
        "model2.compile(optimizer='adam',loss='categorical_crossentropy',metrics='accuracy')\n",
        "model2.summary()"
      ],
      "metadata": {
        "id": "4peAYA-lvt4l",
        "colab": {
          "base_uri": "https://localhost:8080/"
        },
        "outputId": "cc9bac21-ba8c-4e80-a108-148829e49ea3"
      },
      "execution_count": null,
      "outputs": [
        {
          "output_type": "stream",
          "name": "stdout",
          "text": [
            "Model: \"sequential_1\"\n",
            "_________________________________________________________________\n",
            " Layer (type)                Output Shape              Param #   \n",
            "=================================================================\n",
            " conv1d_5 (Conv1D)           (None, 2376, 512)         3072      \n",
            "                                                                 \n",
            " batch_normalization_6 (Bat  (None, 2376, 512)         2048      \n",
            " chNormalization)                                                \n",
            "                                                                 \n",
            " max_pooling1d_5 (MaxPoolin  (None, 1188, 512)         0         \n",
            " g1D)                                                            \n",
            "                                                                 \n",
            " conv1d_6 (Conv1D)           (None, 1188, 512)         1311232   \n",
            "                                                                 \n",
            " batch_normalization_7 (Bat  (None, 1188, 512)         2048      \n",
            " chNormalization)                                                \n",
            "                                                                 \n",
            " max_pooling1d_6 (MaxPoolin  (None, 594, 512)          0         \n",
            " g1D)                                                            \n",
            "                                                                 \n",
            " dropout_3 (Dropout)         (None, 594, 512)          0         \n",
            "                                                                 \n",
            " conv1d_7 (Conv1D)           (None, 594, 256)          655616    \n",
            "                                                                 \n",
            " batch_normalization_8 (Bat  (None, 594, 256)          1024      \n",
            " chNormalization)                                                \n",
            "                                                                 \n",
            " max_pooling1d_7 (MaxPoolin  (None, 297, 256)          0         \n",
            " g1D)                                                            \n",
            "                                                                 \n",
            " conv1d_8 (Conv1D)           (None, 297, 256)          196864    \n",
            "                                                                 \n",
            " batch_normalization_9 (Bat  (None, 297, 256)          1024      \n",
            " chNormalization)                                                \n",
            "                                                                 \n",
            " max_pooling1d_8 (MaxPoolin  (None, 149, 256)          0         \n",
            " g1D)                                                            \n",
            "                                                                 \n",
            " dropout_4 (Dropout)         (None, 149, 256)          0         \n",
            "                                                                 \n",
            " conv1d_9 (Conv1D)           (None, 149, 128)          98432     \n",
            "                                                                 \n",
            " batch_normalization_10 (Ba  (None, 149, 128)          512       \n",
            " tchNormalization)                                               \n",
            "                                                                 \n",
            " max_pooling1d_9 (MaxPoolin  (None, 75, 128)           0         \n",
            " g1D)                                                            \n",
            "                                                                 \n",
            " dropout_5 (Dropout)         (None, 75, 128)           0         \n",
            "                                                                 \n",
            " flatten_1 (Flatten)         (None, 9600)              0         \n",
            "                                                                 \n",
            " dense_2 (Dense)             (None, 512)               4915712   \n",
            "                                                                 \n",
            " batch_normalization_11 (Ba  (None, 512)               2048      \n",
            " tchNormalization)                                               \n",
            "                                                                 \n",
            " dense_3 (Dense)             (None, 6)                 3078      \n",
            "                                                                 \n",
            "=================================================================\n",
            "Total params: 7192710 (27.44 MB)\n",
            "Trainable params: 7188358 (27.42 MB)\n",
            "Non-trainable params: 4352 (17.00 KB)\n",
            "_________________________________________________________________\n"
          ]
        }
      ]
    },
    {
      "cell_type": "code",
      "source": [
        "import tensorflow as tf\n",
        "device_name = tf.test.gpu_device_name()\n",
        "if len(device_name) > 0:\n",
        "    print(\"Found GPU at: {}\".format(device_name))\n",
        "else:\n",
        "    device_name = \"/device:CPU:0\"\n",
        "    print(\"No GPU, using {}.\".format(device_name))"
      ],
      "metadata": {
        "id": "A-o_DPJ9vt4l",
        "colab": {
          "base_uri": "https://localhost:8080/"
        },
        "outputId": "b71f3299-14bd-4281-db07-eed00a0f7763"
      },
      "execution_count": null,
      "outputs": [
        {
          "output_type": "stream",
          "name": "stdout",
          "text": [
            "Found GPU at: /device:GPU:0\n"
          ]
        }
      ]
    },
    {
      "cell_type": "code",
      "source": [
        "#model.compile(loss='categorical_crossentropy', optimizer=opt, metrics=['accuracy'])\n",
        "with tf.device(device_name):\n",
        "  history=model2.fit(x_traincnn, y_train, epochs=100, validation_data=(x_valcnn, y_val), batch_size=128,callbacks=[early_stop,lr_reduction,model_checkpoint])"
      ],
      "metadata": {
        "id": "NDqTPvc0vt4l",
        "colab": {
          "base_uri": "https://localhost:8080/"
        },
        "outputId": "deb7717c-6a77-429c-e670-b5ea8a47c4fc"
      },
      "execution_count": null,
      "outputs": [
        {
          "output_type": "stream",
          "name": "stdout",
          "text": [
            "Epoch 1/100\n",
            "160/160 [==============================] - 117s 641ms/step - loss: 1.6442 - accuracy: 0.3699 - val_loss: 2.1777 - val_accuracy: 0.2364 - lr: 0.0010\n",
            "Epoch 2/100\n",
            "160/160 [==============================] - ETA: 0s - loss: 1.3716 - accuracy: 0.4481"
          ]
        },
        {
          "output_type": "stream",
          "name": "stderr",
          "text": [
            "/usr/local/lib/python3.10/dist-packages/keras/src/engine/training.py:3103: UserWarning: You are saving your model as an HDF5 file via `model.save()`. This file format is considered legacy. We recommend using instead the native Keras format, e.g. `model.save('my_model.keras')`.\n",
            "  saving_api.save_model(\n"
          ]
        },
        {
          "output_type": "stream",
          "name": "stdout",
          "text": [
            "\b\b\b\b\b\b\b\b\b\b\b\b\b\b\b\b\b\b\b\b\b\b\b\b\b\b\b\b\b\b\b\b\b\b\b\b\b\b\b\b\b\b\b\b\b\b\b\b\b\b\b\b\b\b\b\b\b\b\b\b\b\b\b\b\b\b\b\b\b\b\b\b\b\b\b\b\b\b\b\b\b\b\b\b\r160/160 [==============================] - 104s 647ms/step - loss: 1.3716 - accuracy: 0.4481 - val_loss: 2.0174 - val_accuracy: 0.2549 - lr: 0.0010\n",
            "Epoch 3/100\n",
            "160/160 [==============================] - 104s 651ms/step - loss: 1.2826 - accuracy: 0.4927 - val_loss: 1.5668 - val_accuracy: 0.3584 - lr: 0.0010\n",
            "Epoch 4/100\n",
            "160/160 [==============================] - 104s 652ms/step - loss: 1.2013 - accuracy: 0.5254 - val_loss: 1.9309 - val_accuracy: 0.3879 - lr: 0.0010\n",
            "Epoch 5/100\n",
            "160/160 [==============================] - 104s 652ms/step - loss: 1.1126 - accuracy: 0.5633 - val_loss: 1.3989 - val_accuracy: 0.4508 - lr: 0.0010\n",
            "Epoch 6/100\n",
            "160/160 [==============================] - 104s 652ms/step - loss: 1.0422 - accuracy: 0.5981 - val_loss: 1.2340 - val_accuracy: 0.5270 - lr: 0.0010\n",
            "Epoch 7/100\n",
            "160/160 [==============================] - 104s 652ms/step - loss: 0.9444 - accuracy: 0.6408 - val_loss: 1.4787 - val_accuracy: 0.4757 - lr: 0.0010\n",
            "Epoch 8/100\n",
            "160/160 [==============================] - 104s 652ms/step - loss: 0.8227 - accuracy: 0.6903 - val_loss: 1.0380 - val_accuracy: 0.6096 - lr: 0.0010\n",
            "Epoch 9/100\n",
            "160/160 [==============================] - 104s 652ms/step - loss: 0.6969 - accuracy: 0.7412 - val_loss: 1.0313 - val_accuracy: 0.6252 - lr: 0.0010\n",
            "Epoch 10/100\n",
            "160/160 [==============================] - 104s 652ms/step - loss: 0.5729 - accuracy: 0.7957 - val_loss: 1.0464 - val_accuracy: 0.6348 - lr: 0.0010\n",
            "Epoch 11/100\n",
            "160/160 [==============================] - 104s 651ms/step - loss: 0.4434 - accuracy: 0.8486 - val_loss: 0.9492 - val_accuracy: 0.6744 - lr: 0.0010\n",
            "Epoch 12/100\n",
            "160/160 [==============================] - 104s 651ms/step - loss: 0.3463 - accuracy: 0.8805 - val_loss: 0.6855 - val_accuracy: 0.7631 - lr: 0.0010\n",
            "Epoch 13/100\n",
            "160/160 [==============================] - 104s 650ms/step - loss: 0.2708 - accuracy: 0.9098 - val_loss: 0.7034 - val_accuracy: 0.7736 - lr: 0.0010\n",
            "Epoch 14/100\n",
            "160/160 [==============================] - 104s 651ms/step - loss: 0.1923 - accuracy: 0.9398 - val_loss: 0.6037 - val_accuracy: 0.8144 - lr: 0.0010\n",
            "Epoch 15/100\n",
            "160/160 [==============================] - 104s 651ms/step - loss: 0.1436 - accuracy: 0.9570 - val_loss: 0.6044 - val_accuracy: 0.8114 - lr: 0.0010\n",
            "Epoch 16/100\n",
            "160/160 [==============================] - 104s 651ms/step - loss: 0.1094 - accuracy: 0.9702 - val_loss: 0.5203 - val_accuracy: 0.8437 - lr: 0.0010\n",
            "Epoch 17/100\n",
            "160/160 [==============================] - 104s 649ms/step - loss: 0.0914 - accuracy: 0.9749 - val_loss: 0.4843 - val_accuracy: 0.8578 - lr: 0.0010\n",
            "Epoch 18/100\n",
            "160/160 [==============================] - 104s 650ms/step - loss: 0.0830 - accuracy: 0.9764 - val_loss: 0.6209 - val_accuracy: 0.8136 - lr: 0.0010\n",
            "Epoch 19/100\n",
            "160/160 [==============================] - 104s 650ms/step - loss: 0.0717 - accuracy: 0.9800 - val_loss: 0.5286 - val_accuracy: 0.8425 - lr: 0.0010\n",
            "Epoch 20/100\n",
            "160/160 [==============================] - 104s 650ms/step - loss: 0.0624 - accuracy: 0.9826 - val_loss: 0.5156 - val_accuracy: 0.8573 - lr: 0.0010\n",
            "Epoch 21/100\n",
            "160/160 [==============================] - 104s 651ms/step - loss: 0.0502 - accuracy: 0.9863 - val_loss: 0.6371 - val_accuracy: 0.8244 - lr: 0.0010\n",
            "Epoch 22/100\n",
            "160/160 [==============================] - 104s 650ms/step - loss: 0.0477 - accuracy: 0.9867 - val_loss: 0.4926 - val_accuracy: 0.8707 - lr: 0.0010\n",
            "Epoch 23/100\n",
            "160/160 [==============================] - 104s 648ms/step - loss: 0.0609 - accuracy: 0.9802 - val_loss: 0.5880 - val_accuracy: 0.8425 - lr: 0.0010\n",
            "Epoch 24/100\n",
            "160/160 [==============================] - 104s 648ms/step - loss: 0.0741 - accuracy: 0.9764 - val_loss: 0.5642 - val_accuracy: 0.8310 - lr: 0.0010\n",
            "Epoch 25/100\n",
            "160/160 [==============================] - ETA: 0s - loss: 0.0688 - accuracy: 0.9789\n",
            "Epoch 25: ReduceLROnPlateau reducing learning rate to 0.0005000000237487257.\n",
            "160/160 [==============================] - 104s 649ms/step - loss: 0.0688 - accuracy: 0.9789 - val_loss: 0.6479 - val_accuracy: 0.8179 - lr: 0.0010\n",
            "Epoch 26/100\n",
            "160/160 [==============================] - 104s 650ms/step - loss: 0.0326 - accuracy: 0.9920 - val_loss: 0.4047 - val_accuracy: 0.8963 - lr: 5.0000e-04\n",
            "Epoch 27/100\n",
            "160/160 [==============================] - 104s 650ms/step - loss: 0.0135 - accuracy: 0.9976 - val_loss: 0.3727 - val_accuracy: 0.9100 - lr: 5.0000e-04\n",
            "Epoch 28/100\n",
            "160/160 [==============================] - 104s 650ms/step - loss: 0.0101 - accuracy: 0.9989 - val_loss: 0.3538 - val_accuracy: 0.9129 - lr: 5.0000e-04\n",
            "Epoch 29/100\n",
            "160/160 [==============================] - 104s 651ms/step - loss: 0.0079 - accuracy: 0.9989 - val_loss: 0.3592 - val_accuracy: 0.9113 - lr: 5.0000e-04\n",
            "Epoch 30/100\n",
            "160/160 [==============================] - 104s 650ms/step - loss: 0.0071 - accuracy: 0.9993 - val_loss: 0.3561 - val_accuracy: 0.9143 - lr: 5.0000e-04\n",
            "Epoch 31/100\n",
            "160/160 [==============================] - 104s 648ms/step - loss: 0.0061 - accuracy: 0.9991 - val_loss: 0.3612 - val_accuracy: 0.9165 - lr: 5.0000e-04\n",
            "Epoch 32/100\n",
            "160/160 [==============================] - 104s 648ms/step - loss: 0.0068 - accuracy: 0.9989 - val_loss: 0.3600 - val_accuracy: 0.9134 - lr: 5.0000e-04\n",
            "Epoch 33/100\n",
            "160/160 [==============================] - ETA: 0s - loss: 0.0060 - accuracy: 0.9993\n",
            "Epoch 33: ReduceLROnPlateau reducing learning rate to 0.0002500000118743628.\n",
            "160/160 [==============================] - 104s 649ms/step - loss: 0.0060 - accuracy: 0.9993 - val_loss: 0.3525 - val_accuracy: 0.9193 - lr: 5.0000e-04\n",
            "Epoch 34/100\n",
            "160/160 [==============================] - 104s 650ms/step - loss: 0.0044 - accuracy: 0.9995 - val_loss: 0.3447 - val_accuracy: 0.9235 - lr: 2.5000e-04\n",
            "Epoch 35/100\n",
            "160/160 [==============================] - 104s 650ms/step - loss: 0.0038 - accuracy: 0.9995 - val_loss: 0.3510 - val_accuracy: 0.9185 - lr: 2.5000e-04\n",
            "Epoch 36/100\n",
            "160/160 [==============================] - 104s 648ms/step - loss: 0.0040 - accuracy: 0.9994 - val_loss: 0.3448 - val_accuracy: 0.9226 - lr: 2.5000e-04\n",
            "Epoch 37/100\n",
            "160/160 [==============================] - ETA: 0s - loss: 0.0036 - accuracy: 0.9995\n",
            "Epoch 37: ReduceLROnPlateau reducing learning rate to 0.0001250000059371814.\n",
            "160/160 [==============================] - 104s 648ms/step - loss: 0.0036 - accuracy: 0.9995 - val_loss: 0.3399 - val_accuracy: 0.9226 - lr: 2.5000e-04\n",
            "Epoch 38/100\n",
            "160/160 [==============================] - 104s 648ms/step - loss: 0.0031 - accuracy: 0.9995 - val_loss: 0.3353 - val_accuracy: 0.9260 - lr: 1.2500e-04\n",
            "Epoch 39/100\n",
            "160/160 [==============================] - 104s 650ms/step - loss: 0.0026 - accuracy: 0.9996 - val_loss: 0.3400 - val_accuracy: 0.9244 - lr: 1.2500e-04\n",
            "Epoch 40/100\n",
            "160/160 [==============================] - 104s 651ms/step - loss: 0.0026 - accuracy: 0.9997 - val_loss: 0.3413 - val_accuracy: 0.9250 - lr: 1.2500e-04\n",
            "Epoch 41/100\n",
            "160/160 [==============================] - 104s 649ms/step - loss: 0.0027 - accuracy: 0.9997 - val_loss: 0.3403 - val_accuracy: 0.9237 - lr: 1.2500e-04\n",
            "Epoch 42/100\n",
            "160/160 [==============================] - ETA: 0s - loss: 0.0026 - accuracy: 0.9994\n",
            "Epoch 42: ReduceLROnPlateau reducing learning rate to 6.25000029685907e-05.\n",
            "160/160 [==============================] - 104s 648ms/step - loss: 0.0026 - accuracy: 0.9994 - val_loss: 0.3363 - val_accuracy: 0.9259 - lr: 1.2500e-04\n",
            "Epoch 43/100\n",
            "160/160 [==============================] - 104s 648ms/step - loss: 0.0025 - accuracy: 0.9997 - val_loss: 0.3366 - val_accuracy: 0.9275 - lr: 6.2500e-05\n",
            "Epoch 44/100\n",
            "160/160 [==============================] - 104s 648ms/step - loss: 0.0024 - accuracy: 0.9997 - val_loss: 0.3329 - val_accuracy: 0.9290 - lr: 6.2500e-05\n",
            "Epoch 45/100\n",
            "160/160 [==============================] - ETA: 0s - loss: 0.0023 - accuracy: 0.9996\n",
            "Epoch 45: ReduceLROnPlateau reducing learning rate to 3.125000148429535e-05.\n",
            "160/160 [==============================] - 104s 649ms/step - loss: 0.0023 - accuracy: 0.9996 - val_loss: 0.3366 - val_accuracy: 0.9284 - lr: 6.2500e-05\n"
          ]
        }
      ]
    },
    {
      "cell_type": "code",
      "source": [
        "print(\"Accuracy of our model on test data : \" , model2.evaluate(x_testcnn,y_test)[1]*100 , \"%\")\n",
        "\n",
        "epochs = [i for i in range(45)]\n",
        "fig , ax = plt.subplots(1,2)\n",
        "train_acc = history.history['accuracy']\n",
        "train_loss = history.history['loss']\n",
        "test_acc = history.history['val_accuracy']\n",
        "test_loss = history.history['val_loss']\n",
        "\n",
        "fig.set_size_inches(20,6)\n",
        "ax[0].plot(epochs , train_loss , label = 'Training Loss')\n",
        "ax[0].plot(epochs , test_loss , label = 'Testing Loss')\n",
        "ax[0].set_title('Training & Testing Loss')\n",
        "ax[0].legend()\n",
        "ax[0].set_xlabel(\"Epochs\")\n",
        "\n",
        "ax[1].plot(epochs , train_acc , label = 'Training Accuracy')\n",
        "ax[1].plot(epochs , test_acc , label = 'Testing Accuracy')\n",
        "ax[1].set_title('Training & Testing Accuracy')\n",
        "ax[1].legend()\n",
        "ax[1].set_xlabel(\"Epochs\")\n",
        "plt.show()"
      ],
      "metadata": {
        "id": "fIsietOHvt4l",
        "colab": {
          "base_uri": "https://localhost:8080/"
        },
        "outputId": "8df9e1d8-ea2f-434d-fa4f-3e571ae31561"
      },
      "execution_count": null,
      "outputs": [
        {
          "output_type": "stream",
          "name": "stdout",
          "text": [
            "213/213 [==============================] - 11s 44ms/step - loss: 0.3631 - accuracy: 0.9191\n",
            "Accuracy of our model on test data :  91.91057682037354 %\n"
          ]
        },
        {
          "output_type": "display_data",
          "data": {
            "text/plain": [
              "<Figure size 2000x600 with 2 Axes>"
            ],
            "image/png": "[encoded data removed]"
          },
          "metadata": {}
        }
      ]
    },
    {
      "cell_type": "code",
      "source": [
        "# predicting on test data.\n",
        "pred_test = model2.predict(x_test)\n",
        "y_pred = encoder.inverse_transform(pred_test)\n",
        "\n",
        "y_test = encoder.inverse_transform(y_test)"
      ],
      "metadata": {
        "id": "GizrNhRavt4m",
        "colab": {
          "base_uri": "https://localhost:8080/"
        },
        "outputId": "a05c1232-941c-4b45-e950-7efd1af274f1"
      },
      "execution_count": null,
      "outputs": [
        {
          "output_type": "stream",
          "name": "stdout",
          "text": [
            "213/213 [==============================] - 9s 43ms/step\n"
          ]
        }
      ]
    },
    {
      "cell_type": "code",
      "source": [
        "df = pd.DataFrame(columns=['Predicted Labels', 'Actual Labels'])\n",
        "df['Predicted Labels'] = y_pred.flatten()\n",
        "df['Actual Labels'] = y_test.flatten()\n",
        "\n",
        "df.head(10)"
      ],
      "metadata": {
        "id": "_N5gfnejvt4m",
        "colab": {
          "base_uri": "https://localhost:8080/"
        },
        "outputId": "e6269110-f569-43cf-d32c-5ff9a6ae10d3"
      },
      "execution_count": null,
      "outputs": [
        {
          "output_type": "execute_result",
          "data": {
            "text/plain": [
              "  Predicted Labels Actual Labels\n",
              "0             fear          fear\n",
              "1             fear          fear\n",
              "2          neutral       neutral\n",
              "3             fear          fear\n",
              "4            happy         happy\n",
              "5             fear          fear\n",
              "6          neutral       neutral\n",
              "7            angry         angry\n",
              "8            angry         angry\n",
              "9            happy         happy"
            ],
            "text/html": [
              "\n",
              "  <div id=\"df-339e8d62-4c43-45b8-b06a-edf3d839bec8\" class=\"colab-df-container\">\n",
              "    <div>\n",
              "<style scoped>\n",
              "    .dataframe tbody tr th:only-of-type {\n",
              "        vertical-align: middle;\n",
              "    }\n",
              "\n",
              "    .dataframe tbody tr th {\n",
              "        vertical-align: top;\n",
              "    }\n",
              "\n",
              "    .dataframe thead th {\n",
              "        text-align: right;\n",
              "    }\n",
              "</style>\n",
              "<table border=\"1\" class=\"dataframe\">\n",
              "  <thead>\n",
              "    <tr style=\"text-align: right;\">\n",
              "      <th></th>\n",
              "      <th>Predicted Labels</th>\n",
              "      <th>Actual Labels</th>\n",
              "    </tr>\n",
              "  </thead>\n",
              "  <tbody>\n",
              "    <tr>\n",
              "      <th>0</th>\n",
              "      <td>fear</td>\n",
              "      <td>fear</td>\n",
              "    </tr>\n",
              "    <tr>\n",
              "      <th>1</th>\n",
              "      <td>fear</td>\n",
              "      <td>fear</td>\n",
              "    </tr>\n",
              "    <tr>\n",
              "      <th>2</th>\n",
              "      <td>neutral</td>\n",
              "      <td>neutral</td>\n",
              "    </tr>\n",
              "    <tr>\n",
              "      <th>3</th>\n",
              "      <td>fear</td>\n",
              "      <td>fear</td>\n",
              "    </tr>\n",
              "    <tr>\n",
              "      <th>4</th>\n",
              "      <td>happy</td>\n",
              "      <td>happy</td>\n",
              "    </tr>\n",
              "    <tr>\n",
              "      <th>5</th>\n",
              "      <td>fear</td>\n",
              "      <td>fear</td>\n",
              "    </tr>\n",
              "    <tr>\n",
              "      <th>6</th>\n",
              "      <td>neutral</td>\n",
              "      <td>neutral</td>\n",
              "    </tr>\n",
              "    <tr>\n",
              "      <th>7</th>\n",
              "      <td>angry</td>\n",
              "      <td>angry</td>\n",
              "    </tr>\n",
              "    <tr>\n",
              "      <th>8</th>\n",
              "      <td>angry</td>\n",
              "      <td>angry</td>\n",
              "    </tr>\n",
              "    <tr>\n",
              "      <th>9</th>\n",
              "      <td>happy</td>\n",
              "      <td>happy</td>\n",
              "    </tr>\n",
              "  </tbody>\n",
              "</table>\n",
              "</div>\n",
              "    <div class=\"colab-df-buttons\">\n",
              "\n",
              "  <div class=\"colab-df-container\">\n",
              "    <button class=\"colab-df-convert\" onclick=\"convertToInteractive('df-339e8d62-4c43-45b8-b06a-edf3d839bec8')\"\n",
              "            title=\"Convert this dataframe to an interactive table.\"\n",
              "            style=\"display:none;\">\n",
              "\n",
              "  <svg xmlns=\"http://www.w3.org/2000/svg\" height=\"24px\" viewBox=\"0 -960 960 960\">\n",
              "    <path d=\"M120-120v-720h720v720H120Zm60-500h600v-160H180v160Zm220 220h160v-160H400v160Zm0 220h160v-160H400v160ZM180-400h160v-160H180v160Zm440 0h160v-160H620v160ZM180-180h160v-160H180v160Zm440 0h160v-160H620v160Z\"/>\n",
              "  </svg>\n",
              "    </button>\n",
              "\n",
              "  <style>\n",
              "    .colab-df-container {\n",
              "      display:flex;\n",
              "      gap: 12px;\n",
              "    }\n",
              "\n",
              "    .colab-df-convert {\n",
              "      background-color: #E8F0FE;\n",
              "      border: none;\n",
              "      border-radius: 50%;\n",
              "      cursor: pointer;\n",
              "      display: none;\n",
              "      fill: #1967D2;\n",
              "      height: 32px;\n",
              "      padding: 0 0 0 0;\n",
              "      width: 32px;\n",
              "    }\n",
              "\n",
              "    .colab-df-convert:hover {\n",
              "      background-color: #E2EBFA;\n",
              "      box-shadow: 0px 1px 2px rgba(60, 64, 67, 0.3), 0px 1px 3px 1px rgba(60, 64, 67, 0.15);\n",
              "      fill: #174EA6;\n",
              "    }\n",
              "\n",
              "    .colab-df-buttons div {\n",
              "      margin-bottom: 4px;\n",
              "    }\n",
              "\n",
              "    [theme=dark] .colab-df-convert {\n",
              "      background-color: #3B4455;\n",
              "      fill: #D2E3FC;\n",
              "    }\n",
              "\n",
              "    [theme=dark] .colab-df-convert:hover {\n",
              "      background-color: #434B5C;\n",
              "      box-shadow: 0px 1px 3px 1px rgba(0, 0, 0, 0.15);\n",
              "      filter: drop-shadow(0px 1px 2px rgba(0, 0, 0, 0.3));\n",
              "      fill: #FFFFFF;\n",
              "    }\n",
              "  </style>\n",
              "\n",
              "    <script>\n",
              "      const buttonEl =\n",
              "        document.querySelector('#df-339e8d62-4c43-45b8-b06a-edf3d839bec8 button.colab-df-convert');\n",
              "      buttonEl.style.display =\n",
              "        google.colab.kernel.accessAllowed ? 'block' : 'none';\n",
              "\n",
              "      async function convertToInteractive(key) {\n",
              "        const element = document.querySelector('#df-339e8d62-4c43-45b8-b06a-edf3d839bec8');\n",
              "        const dataTable =\n",
              "          await google.colab.kernel.invokeFunction('convertToInteractive',\n",
              "                                                    [key], {});\n",
              "        if (!dataTable) return;\n",
              "\n",
              "        const docLinkHtml = 'Like what you see? Visit the ' +\n",
              "          '<a target=\"_blank\" href=https://colab.research.google.com/notebooks/data_table.ipynb>data table notebook</a>'\n",
              "          + ' to learn more about interactive tables.';\n",
              "        element.innerHTML = '';\n",
              "        dataTable['output_type'] = 'display_data';\n",
              "        await google.colab.output.renderOutput(dataTable, element);\n",
              "        const docLink = document.createElement('div');\n",
              "        docLink.innerHTML = docLinkHtml;\n",
              "        element.appendChild(docLink);\n",
              "      }\n",
              "    </script>\n",
              "  </div>\n",
              "\n",
              "\n",
              "<div id=\"df-bd8a6ec9-f708-47c2-ab49-8221459083de\">\n",
              "  <button class=\"colab-df-quickchart\" onclick=\"quickchart('df-bd8a6ec9-f708-47c2-ab49-8221459083de')\"\n",
              "            title=\"Suggest charts\"\n",
              "            style=\"display:none;\">\n",
              "\n",
              "<svg xmlns=\"http://www.w3.org/2000/svg\" height=\"24px\"viewBox=\"0 0 24 24\"\n",
              "     width=\"24px\">\n",
              "    <g>\n",
              "        <path d=\"M19 3H5c-1.1 0-2 .9-2 2v14c0 1.1.9 2 2 2h14c1.1 0 2-.9 2-2V5c0-1.1-.9-2-2-2zM9 17H7v-7h2v7zm4 0h-2V7h2v10zm4 0h-2v-4h2v4z\"/>\n",
              "    </g>\n",
              "</svg>\n",
              "  </button>\n",
              "\n",
              "<style>\n",
              "  .colab-df-quickchart {\n",
              "      --bg-color: #E8F0FE;\n",
              "      --fill-color: #1967D2;\n",
              "      --hover-bg-color: #E2EBFA;\n",
              "      --hover-fill-color: #174EA6;\n",
              "      --disabled-fill-color: #AAA;\n",
              "      --disabled-bg-color: #DDD;\n",
              "  }\n",
              "\n",
              "  [theme=dark] .colab-df-quickchart {\n",
              "      --bg-color: #3B4455;\n",
              "      --fill-color: #D2E3FC;\n",
              "      --hover-bg-color: #434B5C;\n",
              "      --hover-fill-color: #FFFFFF;\n",
              "      --disabled-bg-color: #3B4455;\n",
              "      --disabled-fill-color: #666;\n",
              "  }\n",
              "\n",
              "  .colab-df-quickchart {\n",
              "    background-color: var(--bg-color);\n",
              "    border: none;\n",
              "    border-radius: 50%;\n",
              "    cursor: pointer;\n",
              "    display: none;\n",
              "    fill: var(--fill-color);\n",
              "    height: 32px;\n",
              "    padding: 0;\n",
              "    width: 32px;\n",
              "  }\n",
              "\n",
              "  .colab-df-quickchart:hover {\n",
              "    background-color: var(--hover-bg-color);\n",
              "    box-shadow: 0 1px 2px rgba(60, 64, 67, 0.3), 0 1px 3px 1px rgba(60, 64, 67, 0.15);\n",
              "    fill: var(--button-hover-fill-color);\n",
              "  }\n",
              "\n",
              "  .colab-df-quickchart-complete:disabled,\n",
              "  .colab-df-quickchart-complete:disabled:hover {\n",
              "    background-color: var(--disabled-bg-color);\n",
              "    fill: var(--disabled-fill-color);\n",
              "    box-shadow: none;\n",
              "  }\n",
              "\n",
              "  .colab-df-spinner {\n",
              "    border: 2px solid var(--fill-color);\n",
              "    border-color: transparent;\n",
              "    border-bottom-color: var(--fill-color);\n",
              "    animation:\n",
              "      spin 1s steps(1) infinite;\n",
              "  }\n",
              "\n",
              "  @keyframes spin {\n",
              "    0% {\n",
              "      border-color: transparent;\n",
              "      border-bottom-color: var(--fill-color);\n",
              "      border-left-color: var(--fill-color);\n",
              "    }\n",
              "    20% {\n",
              "      border-color: transparent;\n",
              "      border-left-color: var(--fill-color);\n",
              "      border-top-color: var(--fill-color);\n",
              "    }\n",
              "    30% {\n",
              "      border-color: transparent;\n",
              "      border-left-color: var(--fill-color);\n",
              "      border-top-color: var(--fill-color);\n",
              "      border-right-color: var(--fill-color);\n",
              "    }\n",
              "    40% {\n",
              "      border-color: transparent;\n",
              "      border-right-color: var(--fill-color);\n",
              "      border-top-color: var(--fill-color);\n",
              "    }\n",
              "    60% {\n",
              "      border-color: transparent;\n",
              "      border-right-color: var(--fill-color);\n",
              "    }\n",
              "    80% {\n",
              "      border-color: transparent;\n",
              "      border-right-color: var(--fill-color);\n",
              "      border-bottom-color: var(--fill-color);\n",
              "    }\n",
              "    90% {\n",
              "      border-color: transparent;\n",
              "      border-bottom-color: var(--fill-color);\n",
              "    }\n",
              "  }\n",
              "</style>\n",
              "\n",
              "  <script>\n",
              "    async function quickchart(key) {\n",
              "      const quickchartButtonEl =\n",
              "        document.querySelector('#' + key + ' button');\n",
              "      quickchartButtonEl.disabled = true;  // To prevent multiple clicks.\n",
              "      quickchartButtonEl.classList.add('colab-df-spinner');\n",
              "      try {\n",
              "        const charts = await google.colab.kernel.invokeFunction(\n",
              "            'suggestCharts', [key], {});\n",
              "      } catch (error) {\n",
              "        console.error('Error during call to suggestCharts:', error);\n",
              "      }\n",
              "      quickchartButtonEl.classList.remove('colab-df-spinner');\n",
              "      quickchartButtonEl.classList.add('colab-df-quickchart-complete');\n",
              "    }\n",
              "    (() => {\n",
              "      let quickchartButtonEl =\n",
              "        document.querySelector('#df-bd8a6ec9-f708-47c2-ab49-8221459083de button');\n",
              "      quickchartButtonEl.style.display =\n",
              "        google.colab.kernel.accessAllowed ? 'block' : 'none';\n",
              "    })();\n",
              "  </script>\n",
              "</div>\n",
              "    </div>\n",
              "  </div>\n"
            ]
          },
          "metadata": {},
          "execution_count": 24
        }
      ]
    },
    {
      "cell_type": "code",
      "source": [
        "cm = confusion_matrix(y_test, y_pred)\n",
        "plt.figure(figsize = (12, 10))\n",
        "cm = pd.DataFrame(cm , index = [i for i in encoder.categories_] , columns = [i for i in encoder.categories_])\n",
        "sns.heatmap(cm, linecolor='white', cmap='Blues', linewidth=1, annot=True, fmt='')\n",
        "plt.title('Confusion Matrix', size=20)\n",
        "plt.xlabel('Predicted Labels', size=14)\n",
        "plt.ylabel('Actual Labels', size=14)\n",
        "plt.show()"
      ],
      "metadata": {
        "id": "eyTgf9XCvt4m",
        "colab": {
          "base_uri": "https://localhost:8080/"
        },
        "outputId": "b9f6f24e-a654-4244-c597-a598d80c9ea4"
      },
      "execution_count": null,
      "outputs": [
        {
          "output_type": "display_data",
          "data": {
            "text/plain": [
              "<Figure size 1200x1000 with 2 Axes>"
            ],
            "image/png": "[encoded data removed]"
          },
          "metadata": {}
        }
      ]
    },
    {
      "cell_type": "code",
      "source": [
        "print(classification_report(y_test, y_pred))"
      ],
      "metadata": {
        "id": "pjmF_s6Nvt4m",
        "colab": {
          "base_uri": "https://localhost:8080/"
        },
        "outputId": "b11950a7-5fc9-42b4-cae5-0ff433deaba9"
      },
      "execution_count": null,
      "outputs": [
        {
          "output_type": "stream",
          "name": "stdout",
          "text": [
            "              precision    recall  f1-score   support\n",
            "\n",
            "       angry       0.92      0.95      0.93      1179\n",
            "     disgust       0.93      0.89      0.91      1188\n",
            "        fear       0.91      0.92      0.92      1163\n",
            "       happy       0.92      0.90      0.91      1174\n",
            "     neutral       0.94      0.92      0.93       945\n",
            "         sad       0.90      0.93      0.92      1150\n",
            "\n",
            "    accuracy                           0.92      6799\n",
            "   macro avg       0.92      0.92      0.92      6799\n",
            "weighted avg       0.92      0.92      0.92      6799\n",
            "\n"
          ]
        }
      ]
    },
    {
      "cell_type": "markdown",
      "source": [
        "### CNN with train-test-val split\n",
        "- batch size 32"
      ],
      "metadata": {
        "id": "5qTX9owKig-h"
      }
    },
    {
      "cell_type": "code",
      "source": [
        "features = pd.read_csv('/content/drive/MyDrive/Colab Notebooks/Audio Pattern Recognition/Project_Brancatelli/features.csv')\n",
        "features.head()"
      ],
      "metadata": {
        "colab": {
          "base_uri": "https://localhost:8080/",
          "height": 256
        },
        "outputId": "7a0797d0-079a-4d05-d362-2d6abdd6ebd9",
        "id": "ElMT_rZyig-s"
      },
      "execution_count": null,
      "outputs": [
        {
          "output_type": "execute_result",
          "data": {
            "text/plain": [
              "          0         1         2         3         4         5         6  \\\n",
              "0  0.214355  0.319824  0.429688  0.423340  0.421875  0.436035  0.427734   \n",
              "1  0.253906  0.388184  0.514648  0.510254  0.506836  0.495117  0.493164   \n",
              "2  0.218750  0.323730  0.421387  0.418945  0.411133  0.416016  0.416992   \n",
              "3  0.249512  0.368164  0.495117  0.497559  0.496094  0.491211  0.495605   \n",
              "4  0.312500  0.495605  0.720215  0.666016  0.688477  0.586914  0.575684   \n",
              "\n",
              "          7         8         9  ...       2367      2368       2369  \\\n",
              "0  0.434570  0.426758  0.397949  ... -21.660831 -8.824115   7.443534   \n",
              "1  0.479492  0.486816  0.495117  ... -20.565357 -6.349044   8.264988   \n",
              "2  0.416504  0.404785  0.382324  ... -11.227339 -2.053445  11.747261   \n",
              "3  0.499512  0.498047  0.508301  ... -11.301952  1.284632   9.955471   \n",
              "4  0.666992  0.578125  0.670410  ...  -0.363573 -0.588626  -0.576606   \n",
              "\n",
              "       2370       2371       2372       2373       2374       2375  Emotions  \n",
              "0  5.859727  -0.321161 -15.598403 -11.630619 -11.754715   4.756393     angry  \n",
              "1  5.284755   0.973508 -13.907689 -12.484719  -9.336018   3.070137     angry  \n",
              "2  7.627929 -12.674572 -24.245716  -4.193148   3.420844  23.195007     angry  \n",
              "3  6.450918 -15.117396 -19.702325  -4.617732   2.827433  19.260487     angry  \n",
              "4 -0.317693   0.132963   0.652741   1.079558   1.260494   1.101743   disgust  \n",
              "\n",
              "[5 rows x 2377 columns]"
            ],
            "text/html": [
              "\n",
              "  <div id=\"df-a7f263b2-ce6a-49e1-8e37-0979025a9994\" class=\"colab-df-container\">\n",
              "    <div>\n",
              "<style scoped>\n",
              "    .dataframe tbody tr th:only-of-type {\n",
              "        vertical-align: middle;\n",
              "    }\n",
              "\n",
              "    .dataframe tbody tr th {\n",
              "        vertical-align: top;\n",
              "    }\n",
              "\n",
              "    .dataframe thead th {\n",
              "        text-align: right;\n",
              "    }\n",
              "</style>\n",
              "<table border=\"1\" class=\"dataframe\">\n",
              "  <thead>\n",
              "    <tr style=\"text-align: right;\">\n",
              "      <th></th>\n",
              "      <th>0</th>\n",
              "      <th>1</th>\n",
              "      <th>2</th>\n",
              "      <th>3</th>\n",
              "      <th>4</th>\n",
              "      <th>5</th>\n",
              "      <th>6</th>\n",
              "      <th>7</th>\n",
              "      <th>8</th>\n",
              "      <th>9</th>\n",
              "      <th>...</th>\n",
              "      <th>2367</th>\n",
              "      <th>2368</th>\n",
              "      <th>2369</th>\n",
              "      <th>2370</th>\n",
              "      <th>2371</th>\n",
              "      <th>2372</th>\n",
              "      <th>2373</th>\n",
              "      <th>2374</th>\n",
              "      <th>2375</th>\n",
              "      <th>Emotions</th>\n",
              "    </tr>\n",
              "  </thead>\n",
              "  <tbody>\n",
              "    <tr>\n",
              "      <th>0</th>\n",
              "      <td>0.214355</td>\n",
              "      <td>0.319824</td>\n",
              "      <td>0.429688</td>\n",
              "      <td>0.423340</td>\n",
              "      <td>0.421875</td>\n",
              "      <td>0.436035</td>\n",
              "      <td>0.427734</td>\n",
              "      <td>0.434570</td>\n",
              "      <td>0.426758</td>\n",
              "      <td>0.397949</td>\n",
              "      <td>...</td>\n",
              "      <td>-21.660831</td>\n",
              "      <td>-8.824115</td>\n",
              "      <td>7.443534</td>\n",
              "      <td>5.859727</td>\n",
              "      <td>-0.321161</td>\n",
              "      <td>-15.598403</td>\n",
              "      <td>-11.630619</td>\n",
              "      <td>-11.754715</td>\n",
              "      <td>4.756393</td>\n",
              "      <td>angry</td>\n",
              "    </tr>\n",
              "    <tr>\n",
              "      <th>1</th>\n",
              "      <td>0.253906</td>\n",
              "      <td>0.388184</td>\n",
              "      <td>0.514648</td>\n",
              "      <td>0.510254</td>\n",
              "      <td>0.506836</td>\n",
              "      <td>0.495117</td>\n",
              "      <td>0.493164</td>\n",
              "      <td>0.479492</td>\n",
              "      <td>0.486816</td>\n",
              "      <td>0.495117</td>\n",
              "      <td>...</td>\n",
              "      <td>-20.565357</td>\n",
              "      <td>-6.349044</td>\n",
              "      <td>8.264988</td>\n",
              "      <td>5.284755</td>\n",
              "      <td>0.973508</td>\n",
              "      <td>-13.907689</td>\n",
              "      <td>-12.484719</td>\n",
              "      <td>-9.336018</td>\n",
              "      <td>3.070137</td>\n",
              "      <td>angry</td>\n",
              "    </tr>\n",
              "    <tr>\n",
              "      <th>2</th>\n",
              "      <td>0.218750</td>\n",
              "      <td>0.323730</td>\n",
              "      <td>0.421387</td>\n",
              "      <td>0.418945</td>\n",
              "      <td>0.411133</td>\n",
              "      <td>0.416016</td>\n",
              "      <td>0.416992</td>\n",
              "      <td>0.416504</td>\n",
              "      <td>0.404785</td>\n",
              "      <td>0.382324</td>\n",
              "      <td>...</td>\n",
              "      <td>-11.227339</td>\n",
              "      <td>-2.053445</td>\n",
              "      <td>11.747261</td>\n",
              "      <td>7.627929</td>\n",
              "      <td>-12.674572</td>\n",
              "      <td>-24.245716</td>\n",
              "      <td>-4.193148</td>\n",
              "      <td>3.420844</td>\n",
              "      <td>23.195007</td>\n",
              "      <td>angry</td>\n",
              "    </tr>\n",
              "    <tr>\n",
              "      <th>3</th>\n",
              "      <td>0.249512</td>\n",
              "      <td>0.368164</td>\n",
              "      <td>0.495117</td>\n",
              "      <td>0.497559</td>\n",
              "      <td>0.496094</td>\n",
              "      <td>0.491211</td>\n",
              "      <td>0.495605</td>\n",
              "      <td>0.499512</td>\n",
              "      <td>0.498047</td>\n",
              "      <td>0.508301</td>\n",
              "      <td>...</td>\n",
              "      <td>-11.301952</td>\n",
              "      <td>1.284632</td>\n",
              "      <td>9.955471</td>\n",
              "      <td>6.450918</td>\n",
              "      <td>-15.117396</td>\n",
              "      <td>-19.702325</td>\n",
              "      <td>-4.617732</td>\n",
              "      <td>2.827433</td>\n",
              "      <td>19.260487</td>\n",
              "      <td>angry</td>\n",
              "    </tr>\n",
              "    <tr>\n",
              "      <th>4</th>\n",
              "      <td>0.312500</td>\n",
              "      <td>0.495605</td>\n",
              "      <td>0.720215</td>\n",
              "      <td>0.666016</td>\n",
              "      <td>0.688477</td>\n",
              "      <td>0.586914</td>\n",
              "      <td>0.575684</td>\n",
              "      <td>0.666992</td>\n",
              "      <td>0.578125</td>\n",
              "      <td>0.670410</td>\n",
              "      <td>...</td>\n",
              "      <td>-0.363573</td>\n",
              "      <td>-0.588626</td>\n",
              "      <td>-0.576606</td>\n",
              "      <td>-0.317693</td>\n",
              "      <td>0.132963</td>\n",
              "      <td>0.652741</td>\n",
              "      <td>1.079558</td>\n",
              "      <td>1.260494</td>\n",
              "      <td>1.101743</td>\n",
              "      <td>disgust</td>\n",
              "    </tr>\n",
              "  </tbody>\n",
              "</table>\n",
              "<p>5 rows × 2377 columns</p>\n",
              "</div>\n",
              "    <div class=\"colab-df-buttons\">\n",
              "\n",
              "  <div class=\"colab-df-container\">\n",
              "    <button class=\"colab-df-convert\" onclick=\"convertToInteractive('df-a7f263b2-ce6a-49e1-8e37-0979025a9994')\"\n",
              "            title=\"Convert this dataframe to an interactive table.\"\n",
              "            style=\"display:none;\">\n",
              "\n",
              "  <svg xmlns=\"http://www.w3.org/2000/svg\" height=\"24px\" viewBox=\"0 -960 960 960\">\n",
              "    <path d=\"M120-120v-720h720v720H120Zm60-500h600v-160H180v160Zm220 220h160v-160H400v160Zm0 220h160v-160H400v160ZM180-400h160v-160H180v160Zm440 0h160v-160H620v160ZM180-180h160v-160H180v160Zm440 0h160v-160H620v160Z\"/>\n",
              "  </svg>\n",
              "    </button>\n",
              "\n",
              "  <style>\n",
              "    .colab-df-container {\n",
              "      display:flex;\n",
              "      gap: 12px;\n",
              "    }\n",
              "\n",
              "    .colab-df-convert {\n",
              "      background-color: #E8F0FE;\n",
              "      border: none;\n",
              "      border-radius: 50%;\n",
              "      cursor: pointer;\n",
              "      display: none;\n",
              "      fill: #1967D2;\n",
              "      height: 32px;\n",
              "      padding: 0 0 0 0;\n",
              "      width: 32px;\n",
              "    }\n",
              "\n",
              "    .colab-df-convert:hover {\n",
              "      background-color: #E2EBFA;\n",
              "      box-shadow: 0px 1px 2px rgba(60, 64, 67, 0.3), 0px 1px 3px 1px rgba(60, 64, 67, 0.15);\n",
              "      fill: #174EA6;\n",
              "    }\n",
              "\n",
              "    .colab-df-buttons div {\n",
              "      margin-bottom: 4px;\n",
              "    }\n",
              "\n",
              "    [theme=dark] .colab-df-convert {\n",
              "      background-color: #3B4455;\n",
              "      fill: #D2E3FC;\n",
              "    }\n",
              "\n",
              "    [theme=dark] .colab-df-convert:hover {\n",
              "      background-color: #434B5C;\n",
              "      box-shadow: 0px 1px 3px 1px rgba(0, 0, 0, 0.15);\n",
              "      filter: drop-shadow(0px 1px 2px rgba(0, 0, 0, 0.3));\n",
              "      fill: #FFFFFF;\n",
              "    }\n",
              "  </style>\n",
              "\n",
              "    <script>\n",
              "      const buttonEl =\n",
              "        document.querySelector('#df-a7f263b2-ce6a-49e1-8e37-0979025a9994 button.colab-df-convert');\n",
              "      buttonEl.style.display =\n",
              "        google.colab.kernel.accessAllowed ? 'block' : 'none';\n",
              "\n",
              "      async function convertToInteractive(key) {\n",
              "        const element = document.querySelector('#df-a7f263b2-ce6a-49e1-8e37-0979025a9994');\n",
              "        const dataTable =\n",
              "          await google.colab.kernel.invokeFunction('convertToInteractive',\n",
              "                                                    [key], {});\n",
              "        if (!dataTable) return;\n",
              "\n",
              "        const docLinkHtml = 'Like what you see? Visit the ' +\n",
              "          '<a target=\"_blank\" href=https://colab.research.google.com/notebooks/data_table.ipynb>data table notebook</a>'\n",
              "          + ' to learn more about interactive tables.';\n",
              "        element.innerHTML = '';\n",
              "        dataTable['output_type'] = 'display_data';\n",
              "        await google.colab.output.renderOutput(dataTable, element);\n",
              "        const docLink = document.createElement('div');\n",
              "        docLink.innerHTML = docLinkHtml;\n",
              "        element.appendChild(docLink);\n",
              "      }\n",
              "    </script>\n",
              "  </div>\n",
              "\n",
              "\n",
              "<div id=\"df-2eda6289-61bb-4483-a37a-6b4953a61f11\">\n",
              "  <button class=\"colab-df-quickchart\" onclick=\"quickchart('df-2eda6289-61bb-4483-a37a-6b4953a61f11')\"\n",
              "            title=\"Suggest charts\"\n",
              "            style=\"display:none;\">\n",
              "\n",
              "<svg xmlns=\"http://www.w3.org/2000/svg\" height=\"24px\"viewBox=\"0 0 24 24\"\n",
              "     width=\"24px\">\n",
              "    <g>\n",
              "        <path d=\"M19 3H5c-1.1 0-2 .9-2 2v14c0 1.1.9 2 2 2h14c1.1 0 2-.9 2-2V5c0-1.1-.9-2-2-2zM9 17H7v-7h2v7zm4 0h-2V7h2v10zm4 0h-2v-4h2v4z\"/>\n",
              "    </g>\n",
              "</svg>\n",
              "  </button>\n",
              "\n",
              "<style>\n",
              "  .colab-df-quickchart {\n",
              "      --bg-color: #E8F0FE;\n",
              "      --fill-color: #1967D2;\n",
              "      --hover-bg-color: #E2EBFA;\n",
              "      --hover-fill-color: #174EA6;\n",
              "      --disabled-fill-color: #AAA;\n",
              "      --disabled-bg-color: #DDD;\n",
              "  }\n",
              "\n",
              "  [theme=dark] .colab-df-quickchart {\n",
              "      --bg-color: #3B4455;\n",
              "      --fill-color: #D2E3FC;\n",
              "      --hover-bg-color: #434B5C;\n",
              "      --hover-fill-color: #FFFFFF;\n",
              "      --disabled-bg-color: #3B4455;\n",
              "      --disabled-fill-color: #666;\n",
              "  }\n",
              "\n",
              "  .colab-df-quickchart {\n",
              "    background-color: var(--bg-color);\n",
              "    border: none;\n",
              "    border-radius: 50%;\n",
              "    cursor: pointer;\n",
              "    display: none;\n",
              "    fill: var(--fill-color);\n",
              "    height: 32px;\n",
              "    padding: 0;\n",
              "    width: 32px;\n",
              "  }\n",
              "\n",
              "  .colab-df-quickchart:hover {\n",
              "    background-color: var(--hover-bg-color);\n",
              "    box-shadow: 0 1px 2px rgba(60, 64, 67, 0.3), 0 1px 3px 1px rgba(60, 64, 67, 0.15);\n",
              "    fill: var(--button-hover-fill-color);\n",
              "  }\n",
              "\n",
              "  .colab-df-quickchart-complete:disabled,\n",
              "  .colab-df-quickchart-complete:disabled:hover {\n",
              "    background-color: var(--disabled-bg-color);\n",
              "    fill: var(--disabled-fill-color);\n",
              "    box-shadow: none;\n",
              "  }\n",
              "\n",
              "  .colab-df-spinner {\n",
              "    border: 2px solid var(--fill-color);\n",
              "    border-color: transparent;\n",
              "    border-bottom-color: var(--fill-color);\n",
              "    animation:\n",
              "      spin 1s steps(1) infinite;\n",
              "  }\n",
              "\n",
              "  @keyframes spin {\n",
              "    0% {\n",
              "      border-color: transparent;\n",
              "      border-bottom-color: var(--fill-color);\n",
              "      border-left-color: var(--fill-color);\n",
              "    }\n",
              "    20% {\n",
              "      border-color: transparent;\n",
              "      border-left-color: var(--fill-color);\n",
              "      border-top-color: var(--fill-color);\n",
              "    }\n",
              "    30% {\n",
              "      border-color: transparent;\n",
              "      border-left-color: var(--fill-color);\n",
              "      border-top-color: var(--fill-color);\n",
              "      border-right-color: var(--fill-color);\n",
              "    }\n",
              "    40% {\n",
              "      border-color: transparent;\n",
              "      border-right-color: var(--fill-color);\n",
              "      border-top-color: var(--fill-color);\n",
              "    }\n",
              "    60% {\n",
              "      border-color: transparent;\n",
              "      border-right-color: var(--fill-color);\n",
              "    }\n",
              "    80% {\n",
              "      border-color: transparent;\n",
              "      border-right-color: var(--fill-color);\n",
              "      border-bottom-color: var(--fill-color);\n",
              "    }\n",
              "    90% {\n",
              "      border-color: transparent;\n",
              "      border-bottom-color: var(--fill-color);\n",
              "    }\n",
              "  }\n",
              "</style>\n",
              "\n",
              "  <script>\n",
              "    async function quickchart(key) {\n",
              "      const quickchartButtonEl =\n",
              "        document.querySelector('#' + key + ' button');\n",
              "      quickchartButtonEl.disabled = true;  // To prevent multiple clicks.\n",
              "      quickchartButtonEl.classList.add('colab-df-spinner');\n",
              "      try {\n",
              "        const charts = await google.colab.kernel.invokeFunction(\n",
              "            'suggestCharts', [key], {});\n",
              "      } catch (error) {\n",
              "        console.error('Error during call to suggestCharts:', error);\n",
              "      }\n",
              "      quickchartButtonEl.classList.remove('colab-df-spinner');\n",
              "      quickchartButtonEl.classList.add('colab-df-quickchart-complete');\n",
              "    }\n",
              "    (() => {\n",
              "      let quickchartButtonEl =\n",
              "        document.querySelector('#df-2eda6289-61bb-4483-a37a-6b4953a61f11 button');\n",
              "      quickchartButtonEl.style.display =\n",
              "        google.colab.kernel.accessAllowed ? 'block' : 'none';\n",
              "    })();\n",
              "  </script>\n",
              "</div>\n",
              "    </div>\n",
              "  </div>\n"
            ]
          },
          "metadata": {},
          "execution_count": 3
        }
      ]
    },
    {
      "cell_type": "code",
      "source": [
        "print(features.isna().any())"
      ],
      "metadata": {
        "colab": {
          "base_uri": "https://localhost:8080/"
        },
        "outputId": "69e40d52-cccc-475b-de81-52a2d72d5729",
        "id": "iLBlhc9Pig-s"
      },
      "execution_count": null,
      "outputs": [
        {
          "output_type": "stream",
          "name": "stdout",
          "text": [
            "0           False\n",
            "1           False\n",
            "2           False\n",
            "3           False\n",
            "4           False\n",
            "            ...  \n",
            "2372         True\n",
            "2373         True\n",
            "2374         True\n",
            "2375         True\n",
            "Emotions    False\n",
            "Length: 2377, dtype: bool\n"
          ]
        }
      ]
    },
    {
      "cell_type": "code",
      "source": [
        "features=features.fillna(0)\n",
        "features.shape"
      ],
      "metadata": {
        "colab": {
          "base_uri": "https://localhost:8080/"
        },
        "outputId": "c6bcdfc1-60db-45c2-e611-952750c33b01",
        "id": "aANKBDQbig-s"
      },
      "execution_count": null,
      "outputs": [
        {
          "output_type": "execute_result",
          "data": {
            "text/plain": [
              "(33992, 2377)"
            ]
          },
          "metadata": {},
          "execution_count": 5
        }
      ]
    },
    {
      "cell_type": "code",
      "source": [
        "X = features.iloc[:, :-1]\n",
        "Y = features['Emotions']"
      ],
      "metadata": {
        "id": "YZ8qnEz9ig-s"
      },
      "execution_count": null,
      "outputs": []
    },
    {
      "cell_type": "code",
      "source": [
        "# As this is a multiclass classification problem onehotencoding our Y\n",
        "from sklearn.preprocessing import StandardScaler, OneHotEncoder\n",
        "encoder = OneHotEncoder()\n",
        "Y = encoder.fit_transform(np.array(Y).reshape(-1,1)).toarray()"
      ],
      "metadata": {
        "id": "dHIRZrzgig-s"
      },
      "execution_count": null,
      "outputs": []
    },
    {
      "cell_type": "code",
      "source": [
        "print(Y.shape)\n",
        "X.shape"
      ],
      "metadata": {
        "colab": {
          "base_uri": "https://localhost:8080/"
        },
        "outputId": "10143b34-cd6a-4d74-b34e-b9e6a1f253f5",
        "id": "o3Kch4WRig-s"
      },
      "execution_count": null,
      "outputs": [
        {
          "output_type": "stream",
          "name": "stdout",
          "text": [
            "(33992, 6)\n"
          ]
        },
        {
          "output_type": "execute_result",
          "data": {
            "text/plain": [
              "(33992, 2376)"
            ]
          },
          "metadata": {},
          "execution_count": 8
        }
      ]
    },
    {
      "cell_type": "code",
      "source": [
        "x_train, x_test, y_train, y_test = train_test_split(X, Y, test_size=0.2, random_state=0, shuffle=True)\n",
        "\n",
        "x_train, x_val, y_train, y_val = train_test_split(x_train, y_train, test_size=0.25, random_state=0, shuffle=True) # 0.25 x 0.8 = 0.2"
      ],
      "metadata": {
        "id": "EMm42RHjig-s"
      },
      "execution_count": null,
      "outputs": []
    },
    {
      "cell_type": "code",
      "source": [
        "x_train.shape, x_test.shape, x_val.shape, y_train.shape, y_test.shape, y_val.shape"
      ],
      "metadata": {
        "colab": {
          "base_uri": "https://localhost:8080/"
        },
        "outputId": "c9380c08-d0d4-4bb5-ab7b-5c8d05144a10",
        "id": "lnWgm_82ig-t"
      },
      "execution_count": null,
      "outputs": [
        {
          "output_type": "execute_result",
          "data": {
            "text/plain": [
              "((20394, 2376), (6799, 2376), (6799, 2376), (20394, 6), (6799, 6), (6799, 6))"
            ]
          },
          "metadata": {},
          "execution_count": 10
        }
      ]
    },
    {
      "cell_type": "code",
      "source": [
        "from keras.callbacks import ModelCheckpoint, EarlyStopping,ReduceLROnPlateau\n",
        "model_checkpoint = ModelCheckpoint('best_model1_weights.h5', monitor='accuracy', save_best_only=True)"
      ],
      "metadata": {
        "id": "nHvxNeOsig-t"
      },
      "execution_count": null,
      "outputs": []
    },
    {
      "cell_type": "code",
      "source": [
        "early_stop=EarlyStopping(monitor='accuracy',mode='auto',patience=5,restore_best_weights=True)\n",
        "lr_reduction=ReduceLROnPlateau(monitor='accuracy',patience=3,verbose=1,factor=0.5,min_lr=0.00001)"
      ],
      "metadata": {
        "id": "h70Cav7Wig-t"
      },
      "execution_count": null,
      "outputs": []
    },
    {
      "cell_type": "code",
      "source": [
        "# scaling our data with sklearn's Standard scaler\n",
        "scaler = StandardScaler()\n",
        "x_train = scaler.fit_transform(x_train)\n",
        "x_test = scaler.transform(x_test)\n",
        "x_val = scaler.transform(x_val)\n",
        "x_train.shape, x_test.shape, x_val.shape, y_train.shape, y_test.shape, y_val.shape"
      ],
      "metadata": {
        "colab": {
          "base_uri": "https://localhost:8080/"
        },
        "outputId": "38de32a7-2682-4551-ead2-d6e8f9890d72",
        "id": "_0SjARzlig-t"
      },
      "execution_count": null,
      "outputs": [
        {
          "output_type": "execute_result",
          "data": {
            "text/plain": [
              "((20394, 2376), (6799, 2376), (6799, 2376), (20394, 6), (6799, 6), (6799, 6))"
            ]
          },
          "metadata": {},
          "execution_count": 11
        }
      ]
    },
    {
      "cell_type": "code",
      "source": [
        "#Reshape for CNN MODEL\n",
        "\n",
        "x_traincnn =np.expand_dims(x_train, axis=2)\n",
        "x_testcnn= np.expand_dims(x_test, axis=2)\n",
        "x_valcnn = np.expand_dims(x_val, axis=2)\n",
        "x_traincnn.shape, y_train.shape, x_testcnn.shape, y_test.shape"
      ],
      "metadata": {
        "colab": {
          "base_uri": "https://localhost:8080/"
        },
        "outputId": "c5262c91-7b8d-4ac4-c128-744466105d51",
        "id": "1HvxX5riig-t"
      },
      "execution_count": null,
      "outputs": [
        {
          "output_type": "execute_result",
          "data": {
            "text/plain": [
              "((20394, 2376, 1), (20394, 6), (6799, 2376, 1), (6799, 6))"
            ]
          },
          "metadata": {},
          "execution_count": 12
        }
      ]
    },
    {
      "cell_type": "code",
      "source": [
        "import tensorflow.keras.layers as L\n",
        "\n",
        "model3 = tf.keras.Sequential([\n",
        "    L.Conv1D(512,kernel_size=5, strides=1,padding='same', activation='relu',input_shape=(x_train.shape[1],1)),\n",
        "    L.BatchNormalization(),\n",
        "    L.MaxPool1D(pool_size=5,strides=2,padding='same'),\n",
        "\n",
        "    L.Conv1D(512,kernel_size=5,strides=1,padding='same',activation='relu'),\n",
        "    L.BatchNormalization(),\n",
        "    L.MaxPool1D(pool_size=5,strides=2,padding='same'),\n",
        "    Dropout(0.2),  # Add dropout layer after the second max pooling layer\n",
        "\n",
        "    L.Conv1D(256,kernel_size=5,strides=1,padding='same',activation='relu'),\n",
        "    L.BatchNormalization(),\n",
        "    L.MaxPool1D(pool_size=5,strides=2,padding='same'),\n",
        "\n",
        "    L.Conv1D(256,kernel_size=3,strides=1,padding='same',activation='relu'),\n",
        "    L.BatchNormalization(),\n",
        "    L.MaxPool1D(pool_size=5,strides=2,padding='same'),\n",
        "    Dropout(0.2),  # Add dropout layer after the fourth max pooling layer\n",
        "\n",
        "    L.Conv1D(128,kernel_size=3,strides=1,padding='same',activation='relu'),\n",
        "    L.BatchNormalization(),\n",
        "    L.MaxPool1D(pool_size=3,strides=2,padding='same'),\n",
        "    Dropout(0.2),  # Add dropout layer after the fifth max pooling layer\n",
        "\n",
        "    L.Flatten(),\n",
        "    L.Dense(512,activation='relu'),\n",
        "    L.BatchNormalization(),\n",
        "    L.Dense(6,activation='softmax')\n",
        "])\n",
        "model3.compile(optimizer='adam',loss='categorical_crossentropy',metrics='accuracy')\n",
        "model3.summary()"
      ],
      "metadata": {
        "colab": {
          "base_uri": "https://localhost:8080/"
        },
        "outputId": "497a9174-cae0-40e9-9923-727dda6b43cd",
        "id": "DSSUdMeZig-t"
      },
      "execution_count": null,
      "outputs": [
        {
          "output_type": "stream",
          "name": "stdout",
          "text": [
            "Model: \"sequential\"\n",
            "_________________________________________________________________\n",
            " Layer (type)                Output Shape              Param #   \n",
            "=================================================================\n",
            " conv1d (Conv1D)             (None, 2376, 512)         3072      \n",
            "                                                                 \n",
            " batch_normalization (Batch  (None, 2376, 512)         2048      \n",
            " Normalization)                                                  \n",
            "                                                                 \n",
            " max_pooling1d (MaxPooling1  (None, 1188, 512)         0         \n",
            " D)                                                              \n",
            "                                                                 \n",
            " conv1d_1 (Conv1D)           (None, 1188, 512)         1311232   \n",
            "                                                                 \n",
            " batch_normalization_1 (Bat  (None, 1188, 512)         2048      \n",
            " chNormalization)                                                \n",
            "                                                                 \n",
            " max_pooling1d_1 (MaxPoolin  (None, 594, 512)          0         \n",
            " g1D)                                                            \n",
            "                                                                 \n",
            " dropout (Dropout)           (None, 594, 512)          0         \n",
            "                                                                 \n",
            " conv1d_2 (Conv1D)           (None, 594, 256)          655616    \n",
            "                                                                 \n",
            " batch_normalization_2 (Bat  (None, 594, 256)          1024      \n",
            " chNormalization)                                                \n",
            "                                                                 \n",
            " max_pooling1d_2 (MaxPoolin  (None, 297, 256)          0         \n",
            " g1D)                                                            \n",
            "                                                                 \n",
            " conv1d_3 (Conv1D)           (None, 297, 256)          196864    \n",
            "                                                                 \n",
            " batch_normalization_3 (Bat  (None, 297, 256)          1024      \n",
            " chNormalization)                                                \n",
            "                                                                 \n",
            " max_pooling1d_3 (MaxPoolin  (None, 149, 256)          0         \n",
            " g1D)                                                            \n",
            "                                                                 \n",
            " dropout_1 (Dropout)         (None, 149, 256)          0         \n",
            "                                                                 \n",
            " conv1d_4 (Conv1D)           (None, 149, 128)          98432     \n",
            "                                                                 \n",
            " batch_normalization_4 (Bat  (None, 149, 128)          512       \n",
            " chNormalization)                                                \n",
            "                                                                 \n",
            " max_pooling1d_4 (MaxPoolin  (None, 75, 128)           0         \n",
            " g1D)                                                            \n",
            "                                                                 \n",
            " dropout_2 (Dropout)         (None, 75, 128)           0         \n",
            "                                                                 \n",
            " flatten (Flatten)           (None, 9600)              0         \n",
            "                                                                 \n",
            " dense (Dense)               (None, 512)               4915712   \n",
            "                                                                 \n",
            " batch_normalization_5 (Bat  (None, 512)               2048      \n",
            " chNormalization)                                                \n",
            "                                                                 \n",
            " dense_1 (Dense)             (None, 6)                 3078      \n",
            "                                                                 \n",
            "=================================================================\n",
            "Total params: 7192710 (27.44 MB)\n",
            "Trainable params: 7188358 (27.42 MB)\n",
            "Non-trainable params: 4352 (17.00 KB)\n",
            "_________________________________________________________________\n"
          ]
        }
      ]
    },
    {
      "cell_type": "code",
      "source": [
        "import tensorflow as tf\n",
        "device_name = tf.test.gpu_device_name()\n",
        "if len(device_name) > 0:\n",
        "    print(\"Found GPU at: {}\".format(device_name))\n",
        "else:\n",
        "    device_name = \"/device:CPU:0\"\n",
        "    print(\"No GPU, using {}.\".format(device_name))"
      ],
      "metadata": {
        "colab": {
          "base_uri": "https://localhost:8080/"
        },
        "outputId": "a6c22a80-c5e0-4913-89bd-ef83b9fb5890",
        "id": "BTjimxT1ig-t"
      },
      "execution_count": null,
      "outputs": [
        {
          "output_type": "stream",
          "name": "stdout",
          "text": [
            "Found GPU at: /device:GPU:0\n"
          ]
        }
      ]
    },
    {
      "cell_type": "code",
      "source": [
        "#model.compile(loss='categorical_crossentropy', optimizer=opt, metrics=['accuracy'])\n",
        "with tf.device(device_name):\n",
        "  history=model3.fit(x_traincnn, y_train, epochs=100, validation_data=(x_valcnn, y_val), batch_size=32,callbacks=[early_stop,lr_reduction,model_checkpoint])"
      ],
      "metadata": {
        "colab": {
          "base_uri": "https://localhost:8080/"
        },
        "outputId": "040b4236-d80c-4dc0-a497-05724a680d21",
        "id": "wkTOigJJig-t"
      },
      "execution_count": null,
      "outputs": [
        {
          "output_type": "stream",
          "name": "stdout",
          "text": [
            "Epoch 1/100\n",
            "638/638 [==============================] - 118s 168ms/step - loss: 1.6230 - accuracy: 0.3579 - val_loss: 1.5358 - val_accuracy: 0.4076 - lr: 0.0010\n",
            "Epoch 2/100\n"
          ]
        },
        {
          "output_type": "stream",
          "name": "stderr",
          "text": [
            "/usr/local/lib/python3.10/dist-packages/keras/src/engine/training.py:3103: UserWarning: You are saving your model as an HDF5 file via `model.save()`. This file format is considered legacy. We recommend using instead the native Keras format, e.g. `model.save('my_model.keras')`.\n",
            "  saving_api.save_model(\n"
          ]
        },
        {
          "output_type": "stream",
          "name": "stdout",
          "text": [
            "638/638 [==============================] - 110s 172ms/step - loss: 1.4191 - accuracy: 0.4251 - val_loss: 1.4347 - val_accuracy: 0.4248 - lr: 0.0010\n",
            "Epoch 3/100\n",
            "638/638 [==============================] - 110s 173ms/step - loss: 1.3191 - accuracy: 0.4727 - val_loss: 1.3922 - val_accuracy: 0.4471 - lr: 0.0010\n",
            "Epoch 4/100\n",
            "638/638 [==============================] - 110s 173ms/step - loss: 1.2447 - accuracy: 0.5081 - val_loss: 1.2834 - val_accuracy: 0.4955 - lr: 0.0010\n",
            "Epoch 5/100\n",
            "638/638 [==============================] - 110s 173ms/step - loss: 1.1709 - accuracy: 0.5367 - val_loss: 1.2335 - val_accuracy: 0.4995 - lr: 0.0010\n",
            "Epoch 6/100\n",
            "638/638 [==============================] - 110s 173ms/step - loss: 1.0998 - accuracy: 0.5756 - val_loss: 1.2181 - val_accuracy: 0.5307 - lr: 0.0010\n",
            "Epoch 7/100\n",
            "638/638 [==============================] - 110s 173ms/step - loss: 0.9941 - accuracy: 0.6170 - val_loss: 1.2174 - val_accuracy: 0.5470 - lr: 0.0010\n",
            "Epoch 8/100\n",
            "638/638 [==============================] - 110s 173ms/step - loss: 0.8858 - accuracy: 0.6629 - val_loss: 0.9983 - val_accuracy: 0.6223 - lr: 0.0010\n",
            "Epoch 9/100\n",
            "638/638 [==============================] - 110s 173ms/step - loss: 0.8226 - accuracy: 0.6890 - val_loss: 0.9414 - val_accuracy: 0.6457 - lr: 0.0010\n",
            "Epoch 10/100\n",
            "638/638 [==============================] - 110s 173ms/step - loss: 0.6505 - accuracy: 0.7598 - val_loss: 0.9130 - val_accuracy: 0.6652 - lr: 0.0010\n",
            "Epoch 11/100\n",
            "638/638 [==============================] - 110s 172ms/step - loss: 0.5694 - accuracy: 0.7929 - val_loss: 0.8147 - val_accuracy: 0.7107 - lr: 0.0010\n",
            "Epoch 12/100\n",
            "638/638 [==============================] - 110s 172ms/step - loss: 0.4674 - accuracy: 0.8317 - val_loss: 0.7909 - val_accuracy: 0.7307 - lr: 0.0010\n",
            "Epoch 13/100\n",
            "638/638 [==============================] - 110s 172ms/step - loss: 0.3665 - accuracy: 0.8721 - val_loss: 0.7230 - val_accuracy: 0.7575 - lr: 0.0010\n",
            "Epoch 14/100\n",
            "638/638 [==============================] - 110s 172ms/step - loss: 0.2830 - accuracy: 0.9002 - val_loss: 0.6153 - val_accuracy: 0.7994 - lr: 0.0010\n",
            "Epoch 15/100\n",
            "638/638 [==============================] - 110s 172ms/step - loss: 0.2820 - accuracy: 0.9016 - val_loss: 0.6873 - val_accuracy: 0.7860 - lr: 0.0010\n",
            "Epoch 16/100\n",
            "638/638 [==============================] - 110s 172ms/step - loss: 0.2954 - accuracy: 0.8959 - val_loss: 0.6109 - val_accuracy: 0.8081 - lr: 0.0010\n",
            "Epoch 17/100\n",
            "638/638 [==============================] - 110s 172ms/step - loss: 0.1834 - accuracy: 0.9384 - val_loss: 0.5295 - val_accuracy: 0.8416 - lr: 0.0010\n",
            "Epoch 18/100\n",
            "638/638 [==============================] - 110s 172ms/step - loss: 0.1811 - accuracy: 0.9378 - val_loss: 0.7920 - val_accuracy: 0.7558 - lr: 0.0010\n",
            "Epoch 19/100\n",
            "638/638 [==============================] - 110s 172ms/step - loss: 0.2295 - accuracy: 0.9188 - val_loss: 0.5971 - val_accuracy: 0.8204 - lr: 0.0010\n",
            "Epoch 20/100\n",
            "638/638 [==============================] - 110s 172ms/step - loss: 0.1466 - accuracy: 0.9506 - val_loss: 0.5475 - val_accuracy: 0.8432 - lr: 0.0010\n",
            "Epoch 21/100\n",
            "638/638 [==============================] - 110s 172ms/step - loss: 0.1257 - accuracy: 0.9578 - val_loss: 0.5239 - val_accuracy: 0.8538 - lr: 0.0010\n",
            "Epoch 22/100\n",
            "638/638 [==============================] - 110s 172ms/step - loss: 0.1205 - accuracy: 0.9592 - val_loss: 0.5671 - val_accuracy: 0.8441 - lr: 0.0010\n",
            "Epoch 23/100\n",
            "638/638 [==============================] - 110s 172ms/step - loss: 0.1336 - accuracy: 0.9540 - val_loss: 0.5098 - val_accuracy: 0.8579 - lr: 0.0010\n",
            "Epoch 24/100\n",
            "638/638 [==============================] - 110s 172ms/step - loss: 0.1498 - accuracy: 0.9479 - val_loss: 0.6730 - val_accuracy: 0.8109 - lr: 0.0010\n",
            "Epoch 25/100\n",
            "638/638 [==============================] - ETA: 0s - loss: 0.1464 - accuracy: 0.9489\n",
            "Epoch 25: ReduceLROnPlateau reducing learning rate to 0.0005000000237487257.\n",
            "638/638 [==============================] - 110s 172ms/step - loss: 0.1464 - accuracy: 0.9489 - val_loss: 0.5584 - val_accuracy: 0.8406 - lr: 0.0010\n",
            "Epoch 26/100\n",
            "638/638 [==============================] - 110s 172ms/step - loss: 0.0678 - accuracy: 0.9774 - val_loss: 0.4006 - val_accuracy: 0.8963 - lr: 5.0000e-04\n",
            "Epoch 27/100\n",
            "638/638 [==============================] - 110s 172ms/step - loss: 0.0429 - accuracy: 0.9874 - val_loss: 0.3844 - val_accuracy: 0.9003 - lr: 5.0000e-04\n",
            "Epoch 28/100\n",
            "638/638 [==============================] - 110s 172ms/step - loss: 0.0476 - accuracy: 0.9846 - val_loss: 0.4165 - val_accuracy: 0.8934 - lr: 5.0000e-04\n",
            "Epoch 29/100\n",
            "638/638 [==============================] - 110s 172ms/step - loss: 0.0401 - accuracy: 0.9875 - val_loss: 0.4314 - val_accuracy: 0.8959 - lr: 5.0000e-04\n",
            "Epoch 30/100\n",
            "638/638 [==============================] - 110s 172ms/step - loss: 0.0304 - accuracy: 0.9913 - val_loss: 0.3991 - val_accuracy: 0.9066 - lr: 5.0000e-04\n",
            "Epoch 31/100\n",
            "638/638 [==============================] - 110s 172ms/step - loss: 0.0332 - accuracy: 0.9894 - val_loss: 0.3938 - val_accuracy: 0.9062 - lr: 5.0000e-04\n",
            "Epoch 32/100\n",
            "638/638 [==============================] - 110s 172ms/step - loss: 0.0387 - accuracy: 0.9874 - val_loss: 0.4150 - val_accuracy: 0.8998 - lr: 5.0000e-04\n",
            "Epoch 33/100\n",
            "638/638 [==============================] - ETA: 0s - loss: 0.0353 - accuracy: 0.9894\n",
            "Epoch 33: ReduceLROnPlateau reducing learning rate to 0.0002500000118743628.\n",
            "638/638 [==============================] - 110s 172ms/step - loss: 0.0353 - accuracy: 0.9894 - val_loss: 0.4083 - val_accuracy: 0.9037 - lr: 5.0000e-04\n",
            "Epoch 34/100\n",
            "638/638 [==============================] - 110s 172ms/step - loss: 0.0225 - accuracy: 0.9935 - val_loss: 0.3861 - val_accuracy: 0.9135 - lr: 2.5000e-04\n",
            "Epoch 35/100\n",
            "638/638 [==============================] - 110s 172ms/step - loss: 0.0196 - accuracy: 0.9944 - val_loss: 0.3733 - val_accuracy: 0.9172 - lr: 2.5000e-04\n",
            "Epoch 36/100\n",
            "638/638 [==============================] - 110s 172ms/step - loss: 0.0179 - accuracy: 0.9948 - val_loss: 0.3732 - val_accuracy: 0.9195 - lr: 2.5000e-04\n",
            "Epoch 37/100\n",
            "638/638 [==============================] - 110s 172ms/step - loss: 0.0167 - accuracy: 0.9951 - val_loss: 0.3566 - val_accuracy: 0.9173 - lr: 2.5000e-04\n",
            "Epoch 38/100\n",
            "638/638 [==============================] - 110s 172ms/step - loss: 0.0142 - accuracy: 0.9958 - val_loss: 0.3650 - val_accuracy: 0.9213 - lr: 2.5000e-04\n",
            "Epoch 39/100\n",
            "638/638 [==============================] - 110s 172ms/step - loss: 0.0191 - accuracy: 0.9944 - val_loss: 0.3723 - val_accuracy: 0.9187 - lr: 2.5000e-04\n",
            "Epoch 40/100\n",
            "638/638 [==============================] - 110s 172ms/step - loss: 0.0136 - accuracy: 0.9964 - val_loss: 0.3738 - val_accuracy: 0.9169 - lr: 2.5000e-04\n",
            "Epoch 41/100\n",
            "638/638 [==============================] - 110s 172ms/step - loss: 0.0137 - accuracy: 0.9958 - val_loss: 0.3805 - val_accuracy: 0.9150 - lr: 2.5000e-04\n",
            "Epoch 42/100\n",
            "638/638 [==============================] - 110s 172ms/step - loss: 0.0117 - accuracy: 0.9967 - val_loss: 0.3873 - val_accuracy: 0.9157 - lr: 2.5000e-04\n",
            "Epoch 43/100\n",
            "638/638 [==============================] - 109s 172ms/step - loss: 0.0138 - accuracy: 0.9962 - val_loss: 0.3750 - val_accuracy: 0.9165 - lr: 2.5000e-04\n",
            "Epoch 44/100\n",
            "638/638 [==============================] - 110s 172ms/step - loss: 0.0132 - accuracy: 0.9963 - val_loss: 0.3769 - val_accuracy: 0.9194 - lr: 2.5000e-04\n",
            "Epoch 45/100\n",
            "638/638 [==============================] - ETA: 0s - loss: 0.0147 - accuracy: 0.9963\n",
            "Epoch 45: ReduceLROnPlateau reducing learning rate to 0.0001250000059371814.\n",
            "638/638 [==============================] - 110s 172ms/step - loss: 0.0147 - accuracy: 0.9963 - val_loss: 0.3702 - val_accuracy: 0.9225 - lr: 2.5000e-04\n",
            "Epoch 46/100\n",
            "638/638 [==============================] - 110s 172ms/step - loss: 0.0107 - accuracy: 0.9971 - val_loss: 0.3663 - val_accuracy: 0.9220 - lr: 1.2500e-04\n",
            "Epoch 47/100\n",
            "638/638 [==============================] - 110s 172ms/step - loss: 0.0080 - accuracy: 0.9980 - val_loss: 0.3610 - val_accuracy: 0.9257 - lr: 1.2500e-04\n",
            "Epoch 48/100\n",
            "638/638 [==============================] - 109s 172ms/step - loss: 0.0082 - accuracy: 0.9975 - val_loss: 0.3649 - val_accuracy: 0.9250 - lr: 1.2500e-04\n",
            "Epoch 49/100\n",
            "638/638 [==============================] - 110s 172ms/step - loss: 0.0087 - accuracy: 0.9974 - val_loss: 0.3628 - val_accuracy: 0.9253 - lr: 1.2500e-04\n",
            "Epoch 50/100\n",
            "638/638 [==============================] - ETA: 0s - loss: 0.0074 - accuracy: 0.9981\n",
            "Epoch 50: ReduceLROnPlateau reducing learning rate to 6.25000029685907e-05.\n",
            "638/638 [==============================] - 110s 172ms/step - loss: 0.0074 - accuracy: 0.9981 - val_loss: 0.3617 - val_accuracy: 0.9241 - lr: 1.2500e-04\n",
            "Epoch 51/100\n",
            "638/638 [==============================] - 110s 172ms/step - loss: 0.0066 - accuracy: 0.9985 - val_loss: 0.3562 - val_accuracy: 0.9269 - lr: 6.2500e-05\n",
            "Epoch 52/100\n",
            "638/638 [==============================] - 110s 172ms/step - loss: 0.0070 - accuracy: 0.9983 - val_loss: 0.3537 - val_accuracy: 0.9266 - lr: 6.2500e-05\n",
            "Epoch 53/100\n",
            "638/638 [==============================] - 110s 172ms/step - loss: 0.0059 - accuracy: 0.9986 - val_loss: 0.3520 - val_accuracy: 0.9272 - lr: 6.2500e-05\n",
            "Epoch 54/100\n",
            "638/638 [==============================] - 110s 172ms/step - loss: 0.0072 - accuracy: 0.9980 - val_loss: 0.3574 - val_accuracy: 0.9265 - lr: 6.2500e-05\n",
            "Epoch 55/100\n",
            "638/638 [==============================] - 110s 172ms/step - loss: 0.0055 - accuracy: 0.9988 - val_loss: 0.3555 - val_accuracy: 0.9275 - lr: 6.2500e-05\n",
            "Epoch 56/100\n",
            "638/638 [==============================] - 110s 172ms/step - loss: 0.0066 - accuracy: 0.9981 - val_loss: 0.3576 - val_accuracy: 0.9253 - lr: 6.2500e-05\n",
            "Epoch 57/100\n",
            "638/638 [==============================] - 110s 172ms/step - loss: 0.0056 - accuracy: 0.9986 - val_loss: 0.3536 - val_accuracy: 0.9273 - lr: 6.2500e-05\n",
            "Epoch 58/100\n",
            "638/638 [==============================] - ETA: 0s - loss: 0.0054 - accuracy: 0.9985\n",
            "Epoch 58: ReduceLROnPlateau reducing learning rate to 3.125000148429535e-05.\n",
            "638/638 [==============================] - 110s 172ms/step - loss: 0.0054 - accuracy: 0.9985 - val_loss: 0.3575 - val_accuracy: 0.9270 - lr: 6.2500e-05\n",
            "Epoch 59/100\n",
            "638/638 [==============================] - 110s 172ms/step - loss: 0.0057 - accuracy: 0.9985 - val_loss: 0.3565 - val_accuracy: 0.9276 - lr: 3.1250e-05\n",
            "Epoch 60/100\n",
            "638/638 [==============================] - 110s 172ms/step - loss: 0.0053 - accuracy: 0.9987 - val_loss: 0.3544 - val_accuracy: 0.9284 - lr: 3.1250e-05\n"
          ]
        }
      ]
    },
    {
      "cell_type": "code",
      "source": [
        "print(\"Accuracy of our model on test data : \" , model3.evaluate(x_testcnn,y_test)[1]*100 , \"%\")\n",
        "\n",
        "epochs = [i for i in range(60)]\n",
        "fig , ax = plt.subplots(1,2)\n",
        "train_acc = history.history['accuracy']\n",
        "train_loss = history.history['loss']\n",
        "test_acc = history.history['val_accuracy']\n",
        "test_loss = history.history['val_loss']\n",
        "\n",
        "fig.set_size_inches(20,6)\n",
        "ax[0].plot(epochs , train_loss , label = 'Training Loss')\n",
        "ax[0].plot(epochs , test_loss , label = 'Testing Loss')\n",
        "ax[0].set_title('Training & Testing Loss')\n",
        "ax[0].legend()\n",
        "ax[0].set_xlabel(\"Epochs\")\n",
        "\n",
        "ax[1].plot(epochs , train_acc , label = 'Training Accuracy')\n",
        "ax[1].plot(epochs , test_acc , label = 'Testing Accuracy')\n",
        "ax[1].set_title('Training & Testing Accuracy')\n",
        "ax[1].legend()\n",
        "ax[1].set_xlabel(\"Epochs\")\n",
        "plt.show()"
      ],
      "metadata": {
        "colab": {
          "base_uri": "https://localhost:8080/",
          "height": 563
        },
        "outputId": "82a1a7bb-cbb1-4ecc-a10b-ca55e50ab273",
        "id": "jFB08tq2ig-t"
      },
      "execution_count": null,
      "outputs": [
        {
          "output_type": "stream",
          "name": "stdout",
          "text": [
            "213/213 [==============================] - 10s 45ms/step - loss: 0.3811 - accuracy: 0.9262\n",
            "Accuracy of our model on test data :  92.61656403541565 %\n"
          ]
        },
        {
          "output_type": "display_data",
          "data": {
            "text/plain": [
              "<Figure size 2000x600 with 2 Axes>"
            ],
            "image/png": "[encoded data removed]"
          },
          "metadata": {}
        }
      ]
    },
    {
      "cell_type": "code",
      "source": [
        "# predicting on test data.\n",
        "pred_test = model3.predict(x_test)\n",
        "y_pred = encoder.inverse_transform(pred_test)\n",
        "\n",
        "y_test = encoder.inverse_transform(y_test)"
      ],
      "metadata": {
        "colab": {
          "base_uri": "https://localhost:8080/"
        },
        "outputId": "7d7c5478-f5d2-4f22-f21f-160c366195ee",
        "id": "owg0GNxoig-t"
      },
      "execution_count": null,
      "outputs": [
        {
          "output_type": "stream",
          "name": "stdout",
          "text": [
            "213/213 [==============================] - 9s 44ms/step\n"
          ]
        }
      ]
    },
    {
      "cell_type": "code",
      "source": [
        "df = pd.DataFrame(columns=['Predicted Labels', 'Actual Labels'])\n",
        "df['Predicted Labels'] = y_pred.flatten()\n",
        "df['Actual Labels'] = y_test.flatten()\n",
        "\n",
        "df.head(10)"
      ],
      "metadata": {
        "colab": {
          "base_uri": "https://localhost:8080/",
          "height": 363
        },
        "outputId": "e6269110-f569-43cf-d32c-5ff9a6ae10d3",
        "id": "LwIbNtQiig-u"
      },
      "execution_count": null,
      "outputs": [
        {
          "output_type": "execute_result",
          "data": {
            "text/plain": [
              "  Predicted Labels Actual Labels\n",
              "0             fear          fear\n",
              "1             fear          fear\n",
              "2          neutral       neutral\n",
              "3             fear          fear\n",
              "4            happy         happy\n",
              "5             fear          fear\n",
              "6          neutral       neutral\n",
              "7            angry         angry\n",
              "8            angry         angry\n",
              "9            happy         happy"
            ],
            "text/html": [
              "\n",
              "  <div id=\"df-339e8d62-4c43-45b8-b06a-edf3d839bec8\" class=\"colab-df-container\">\n",
              "    <div>\n",
              "<style scoped>\n",
              "    .dataframe tbody tr th:only-of-type {\n",
              "        vertical-align: middle;\n",
              "    }\n",
              "\n",
              "    .dataframe tbody tr th {\n",
              "        vertical-align: top;\n",
              "    }\n",
              "\n",
              "    .dataframe thead th {\n",
              "        text-align: right;\n",
              "    }\n",
              "</style>\n",
              "<table border=\"1\" class=\"dataframe\">\n",
              "  <thead>\n",
              "    <tr style=\"text-align: right;\">\n",
              "      <th></th>\n",
              "      <th>Predicted Labels</th>\n",
              "      <th>Actual Labels</th>\n",
              "    </tr>\n",
              "  </thead>\n",
              "  <tbody>\n",
              "    <tr>\n",
              "      <th>0</th>\n",
              "      <td>fear</td>\n",
              "      <td>fear</td>\n",
              "    </tr>\n",
              "    <tr>\n",
              "      <th>1</th>\n",
              "      <td>fear</td>\n",
              "      <td>fear</td>\n",
              "    </tr>\n",
              "    <tr>\n",
              "      <th>2</th>\n",
              "      <td>neutral</td>\n",
              "      <td>neutral</td>\n",
              "    </tr>\n",
              "    <tr>\n",
              "      <th>3</th>\n",
              "      <td>fear</td>\n",
              "      <td>fear</td>\n",
              "    </tr>\n",
              "    <tr>\n",
              "      <th>4</th>\n",
              "      <td>happy</td>\n",
              "      <td>happy</td>\n",
              "    </tr>\n",
              "    <tr>\n",
              "      <th>5</th>\n",
              "      <td>fear</td>\n",
              "      <td>fear</td>\n",
              "    </tr>\n",
              "    <tr>\n",
              "      <th>6</th>\n",
              "      <td>neutral</td>\n",
              "      <td>neutral</td>\n",
              "    </tr>\n",
              "    <tr>\n",
              "      <th>7</th>\n",
              "      <td>angry</td>\n",
              "      <td>angry</td>\n",
              "    </tr>\n",
              "    <tr>\n",
              "      <th>8</th>\n",
              "      <td>angry</td>\n",
              "      <td>angry</td>\n",
              "    </tr>\n",
              "    <tr>\n",
              "      <th>9</th>\n",
              "      <td>happy</td>\n",
              "      <td>happy</td>\n",
              "    </tr>\n",
              "  </tbody>\n",
              "</table>\n",
              "</div>\n",
              "    <div class=\"colab-df-buttons\">\n",
              "\n",
              "  <div class=\"colab-df-container\">\n",
              "    <button class=\"colab-df-convert\" onclick=\"convertToInteractive('df-339e8d62-4c43-45b8-b06a-edf3d839bec8')\"\n",
              "            title=\"Convert this dataframe to an interactive table.\"\n",
              "            style=\"display:none;\">\n",
              "\n",
              "  <svg xmlns=\"http://www.w3.org/2000/svg\" height=\"24px\" viewBox=\"0 -960 960 960\">\n",
              "    <path d=\"M120-120v-720h720v720H120Zm60-500h600v-160H180v160Zm220 220h160v-160H400v160Zm0 220h160v-160H400v160ZM180-400h160v-160H180v160Zm440 0h160v-160H620v160ZM180-180h160v-160H180v160Zm440 0h160v-160H620v160Z\"/>\n",
              "  </svg>\n",
              "    </button>\n",
              "\n",
              "  <style>\n",
              "    .colab-df-container {\n",
              "      display:flex;\n",
              "      gap: 12px;\n",
              "    }\n",
              "\n",
              "    .colab-df-convert {\n",
              "      background-color: #E8F0FE;\n",
              "      border: none;\n",
              "      border-radius: 50%;\n",
              "      cursor: pointer;\n",
              "      display: none;\n",
              "      fill: #1967D2;\n",
              "      height: 32px;\n",
              "      padding: 0 0 0 0;\n",
              "      width: 32px;\n",
              "    }\n",
              "\n",
              "    .colab-df-convert:hover {\n",
              "      background-color: #E2EBFA;\n",
              "      box-shadow: 0px 1px 2px rgba(60, 64, 67, 0.3), 0px 1px 3px 1px rgba(60, 64, 67, 0.15);\n",
              "      fill: #174EA6;\n",
              "    }\n",
              "\n",
              "    .colab-df-buttons div {\n",
              "      margin-bottom: 4px;\n",
              "    }\n",
              "\n",
              "    [theme=dark] .colab-df-convert {\n",
              "      background-color: #3B4455;\n",
              "      fill: #D2E3FC;\n",
              "    }\n",
              "\n",
              "    [theme=dark] .colab-df-convert:hover {\n",
              "      background-color: #434B5C;\n",
              "      box-shadow: 0px 1px 3px 1px rgba(0, 0, 0, 0.15);\n",
              "      filter: drop-shadow(0px 1px 2px rgba(0, 0, 0, 0.3));\n",
              "      fill: #FFFFFF;\n",
              "    }\n",
              "  </style>\n",
              "\n",
              "    <script>\n",
              "      const buttonEl =\n",
              "        document.querySelector('#df-339e8d62-4c43-45b8-b06a-edf3d839bec8 button.colab-df-convert');\n",
              "      buttonEl.style.display =\n",
              "        google.colab.kernel.accessAllowed ? 'block' : 'none';\n",
              "\n",
              "      async function convertToInteractive(key) {\n",
              "        const element = document.querySelector('#df-339e8d62-4c43-45b8-b06a-edf3d839bec8');\n",
              "        const dataTable =\n",
              "          await google.colab.kernel.invokeFunction('convertToInteractive',\n",
              "                                                    [key], {});\n",
              "        if (!dataTable) return;\n",
              "\n",
              "        const docLinkHtml = 'Like what you see? Visit the ' +\n",
              "          '<a target=\"_blank\" href=https://colab.research.google.com/notebooks/data_table.ipynb>data table notebook</a>'\n",
              "          + ' to learn more about interactive tables.';\n",
              "        element.innerHTML = '';\n",
              "        dataTable['output_type'] = 'display_data';\n",
              "        await google.colab.output.renderOutput(dataTable, element);\n",
              "        const docLink = document.createElement('div');\n",
              "        docLink.innerHTML = docLinkHtml;\n",
              "        element.appendChild(docLink);\n",
              "      }\n",
              "    </script>\n",
              "  </div>\n",
              "\n",
              "\n",
              "<div id=\"df-bd8a6ec9-f708-47c2-ab49-8221459083de\">\n",
              "  <button class=\"colab-df-quickchart\" onclick=\"quickchart('df-bd8a6ec9-f708-47c2-ab49-8221459083de')\"\n",
              "            title=\"Suggest charts\"\n",
              "            style=\"display:none;\">\n",
              "\n",
              "<svg xmlns=\"http://www.w3.org/2000/svg\" height=\"24px\"viewBox=\"0 0 24 24\"\n",
              "     width=\"24px\">\n",
              "    <g>\n",
              "        <path d=\"M19 3H5c-1.1 0-2 .9-2 2v14c0 1.1.9 2 2 2h14c1.1 0 2-.9 2-2V5c0-1.1-.9-2-2-2zM9 17H7v-7h2v7zm4 0h-2V7h2v10zm4 0h-2v-4h2v4z\"/>\n",
              "    </g>\n",
              "</svg>\n",
              "  </button>\n",
              "\n",
              "<style>\n",
              "  .colab-df-quickchart {\n",
              "      --bg-color: #E8F0FE;\n",
              "      --fill-color: #1967D2;\n",
              "      --hover-bg-color: #E2EBFA;\n",
              "      --hover-fill-color: #174EA6;\n",
              "      --disabled-fill-color: #AAA;\n",
              "      --disabled-bg-color: #DDD;\n",
              "  }\n",
              "\n",
              "  [theme=dark] .colab-df-quickchart {\n",
              "      --bg-color: #3B4455;\n",
              "      --fill-color: #D2E3FC;\n",
              "      --hover-bg-color: #434B5C;\n",
              "      --hover-fill-color: #FFFFFF;\n",
              "      --disabled-bg-color: #3B4455;\n",
              "      --disabled-fill-color: #666;\n",
              "  }\n",
              "\n",
              "  .colab-df-quickchart {\n",
              "    background-color: var(--bg-color);\n",
              "    border: none;\n",
              "    border-radius: 50%;\n",
              "    cursor: pointer;\n",
              "    display: none;\n",
              "    fill: var(--fill-color);\n",
              "    height: 32px;\n",
              "    padding: 0;\n",
              "    width: 32px;\n",
              "  }\n",
              "\n",
              "  .colab-df-quickchart:hover {\n",
              "    background-color: var(--hover-bg-color);\n",
              "    box-shadow: 0 1px 2px rgba(60, 64, 67, 0.3), 0 1px 3px 1px rgba(60, 64, 67, 0.15);\n",
              "    fill: var(--button-hover-fill-color);\n",
              "  }\n",
              "\n",
              "  .colab-df-quickchart-complete:disabled,\n",
              "  .colab-df-quickchart-complete:disabled:hover {\n",
              "    background-color: var(--disabled-bg-color);\n",
              "    fill: var(--disabled-fill-color);\n",
              "    box-shadow: none;\n",
              "  }\n",
              "\n",
              "  .colab-df-spinner {\n",
              "    border: 2px solid var(--fill-color);\n",
              "    border-color: transparent;\n",
              "    border-bottom-color: var(--fill-color);\n",
              "    animation:\n",
              "      spin 1s steps(1) infinite;\n",
              "  }\n",
              "\n",
              "  @keyframes spin {\n",
              "    0% {\n",
              "      border-color: transparent;\n",
              "      border-bottom-color: var(--fill-color);\n",
              "      border-left-color: var(--fill-color);\n",
              "    }\n",
              "    20% {\n",
              "      border-color: transparent;\n",
              "      border-left-color: var(--fill-color);\n",
              "      border-top-color: var(--fill-color);\n",
              "    }\n",
              "    30% {\n",
              "      border-color: transparent;\n",
              "      border-left-color: var(--fill-color);\n",
              "      border-top-color: var(--fill-color);\n",
              "      border-right-color: var(--fill-color);\n",
              "    }\n",
              "    40% {\n",
              "      border-color: transparent;\n",
              "      border-right-color: var(--fill-color);\n",
              "      border-top-color: var(--fill-color);\n",
              "    }\n",
              "    60% {\n",
              "      border-color: transparent;\n",
              "      border-right-color: var(--fill-color);\n",
              "    }\n",
              "    80% {\n",
              "      border-color: transparent;\n",
              "      border-right-color: var(--fill-color);\n",
              "      border-bottom-color: var(--fill-color);\n",
              "    }\n",
              "    90% {\n",
              "      border-color: transparent;\n",
              "      border-bottom-color: var(--fill-color);\n",
              "    }\n",
              "  }\n",
              "</style>\n",
              "\n",
              "  <script>\n",
              "    async function quickchart(key) {\n",
              "      const quickchartButtonEl =\n",
              "        document.querySelector('#' + key + ' button');\n",
              "      quickchartButtonEl.disabled = true;  // To prevent multiple clicks.\n",
              "      quickchartButtonEl.classList.add('colab-df-spinner');\n",
              "      try {\n",
              "        const charts = await google.colab.kernel.invokeFunction(\n",
              "            'suggestCharts', [key], {});\n",
              "      } catch (error) {\n",
              "        console.error('Error during call to suggestCharts:', error);\n",
              "      }\n",
              "      quickchartButtonEl.classList.remove('colab-df-spinner');\n",
              "      quickchartButtonEl.classList.add('colab-df-quickchart-complete');\n",
              "    }\n",
              "    (() => {\n",
              "      let quickchartButtonEl =\n",
              "        document.querySelector('#df-bd8a6ec9-f708-47c2-ab49-8221459083de button');\n",
              "      quickchartButtonEl.style.display =\n",
              "        google.colab.kernel.accessAllowed ? 'block' : 'none';\n",
              "    })();\n",
              "  </script>\n",
              "</div>\n",
              "    </div>\n",
              "  </div>\n"
            ]
          },
          "metadata": {},
          "execution_count": 24
        }
      ]
    },
    {
      "cell_type": "code",
      "source": [
        "cm = confusion_matrix(y_test, y_pred)\n",
        "plt.figure(figsize = (12, 10))\n",
        "cm = pd.DataFrame(cm , index = [i for i in encoder.categories_] , columns = [i for i in encoder.categories_])\n",
        "sns.heatmap(cm, linecolor='white', cmap='Blues', linewidth=1, annot=True, fmt='')\n",
        "plt.title('Confusion Matrix', size=20)\n",
        "plt.xlabel('Predicted Labels', size=14)\n",
        "plt.ylabel('Actual Labels', size=14)\n",
        "plt.show()"
      ],
      "metadata": {
        "colab": {
          "base_uri": "https://localhost:8080/",
          "height": 885
        },
        "outputId": "b95e559f-f8db-4717-ae36-19cc9199364a",
        "id": "zAK75JLIig-u"
      },
      "execution_count": null,
      "outputs": [
        {
          "output_type": "display_data",
          "data": {
            "text/plain": [
              "<Figure size 1200x1000 with 2 Axes>"
            ],
            "image/png": "[encoded data removed]"
          },
          "metadata": {}
        }
      ]
    },
    {
      "cell_type": "code",
      "source": [
        "print(classification_report(y_test, y_pred))"
      ],
      "metadata": {
        "colab": {
          "base_uri": "https://localhost:8080/"
        },
        "outputId": "4da079f3-5c47-4159-f239-c736390da196",
        "id": "0r7HIy76ig-u"
      },
      "execution_count": null,
      "outputs": [
        {
          "output_type": "stream",
          "name": "stdout",
          "text": [
            "              precision    recall  f1-score   support\n",
            "\n",
            "       angry       0.93      0.95      0.94      1179\n",
            "     disgust       0.92      0.91      0.92      1188\n",
            "        fear       0.93      0.93      0.93      1163\n",
            "       happy       0.94      0.90      0.92      1174\n",
            "     neutral       0.93      0.93      0.93       945\n",
            "         sad       0.91      0.94      0.93      1150\n",
            "\n",
            "    accuracy                           0.93      6799\n",
            "   macro avg       0.93      0.93      0.93      6799\n",
            "weighted avg       0.93      0.93      0.93      6799\n",
            "\n"
          ]
        }
      ]
    }
  ]
}