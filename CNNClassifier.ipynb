{
  "metadata": {
    "kernelspec": {
      "language": "python",
      "display_name": "Python 3",
      "name": "python3"
    },
    "language_info": {
      "name": "python",
      "version": "3.10.13",
      "mimetype": "text/x-python",
      "codemirror_mode": {
        "name": "ipython",
        "version": 3
      },
      "pygments_lexer": "ipython3",
      "nbconvert_exporter": "python",
      "file_extension": ".py"
    },
    "kaggle": {
      "accelerator": "none",
      "dataSources": [
        {
          "sourceId": 7642807,
          "sourceType": "datasetVersion",
          "datasetId": 4454614
        }
      ],
      "dockerImageVersionId": 30648,
      "isInternetEnabled": true,
      "language": "python",
      "sourceType": "notebook",
      "isGpuEnabled": false
    },
    "colab": {
      "name": "CNNClassifier",
      "provenance": [],
      "include_colab_link": true
    }
  },
  "nbformat_minor": 0,
  "nbformat": 4,
  "cells": [
    {
      "cell_type": "markdown",
      "metadata": {
        "id": "view-in-github",
        "colab_type": "text"
      },
      "source": [
        "<a href=\"https://colab.research.google.com/github/brancatellimat/speech-emotion-recognition/blob/main/CNNClassifier.ipynb\" target=\"_parent\"><img src=\"https://colab.research.google.com/assets/colab-badge.svg\" alt=\"Open In Colab\"/></a>"
      ]
    },
    {
      "source": [
        "\n",
        "# IMPORTANT: RUN THIS CELL IN ORDER TO IMPORT YOUR KAGGLE DATA SOURCES\n",
        "# TO THE CORRECT LOCATION (/kaggle/input) IN YOUR NOTEBOOK,\n",
        "# THEN FEEL FREE TO DELETE THIS CELL.\n",
        "# NOTE: THIS NOTEBOOK ENVIRONMENT DIFFERS FROM KAGGLE'S PYTHON\n",
        "# ENVIRONMENT SO THERE MAY BE MISSING LIBRARIES USED BY YOUR\n",
        "# NOTEBOOK.\n",
        "\n",
        "import os\n",
        "import sys\n",
        "from tempfile import NamedTemporaryFile\n",
        "from urllib.request import urlopen\n",
        "from urllib.parse import unquote, urlparse\n",
        "from urllib.error import HTTPError\n",
        "from zipfile import ZipFile\n",
        "import tarfile\n",
        "import shutil\n",
        "\n",
        "CHUNK_SIZE = 40960\n",
        "DATA_SOURCE_MAPPING = 'features:https%3A%2F%2Fstorage.googleapis.com%2Fkaggle-data-sets%2F4454614%2F7642807%2Fbundle%2Farchive.zip%3FX-Goog-Algorithm%3DGOOG4-RSA-SHA256%26X-Goog-Credential%3Dgcp-kaggle-com%2540kaggle-161607.iam.gserviceaccount.com%252F20240218%252Fauto%252Fstorage%252Fgoog4_request%26X-Goog-Date%3D20240218T093001Z%26X-Goog-Expires%3D259200%26X-Goog-SignedHeaders%3Dhost%26X-Goog-Signature%3D141b1f0ca864eb1146674d1679645bf6500943059360d243adf2cf3628fba00d16efaeb49826ce4b933b91f498f7b0dede00ee4a8ef5115e78c3e86d1d8a2b5a4848aec1b09a15d5ccf7730ee56da35359ad77302d336f54a01e2a3dde1a1044fc23fdeaa6cb5e7239486290844d781824b154cf00d213e9d8c235d381f894a8b83aab7962521fd157612c79f0f88055d1f163549855ff0d634b1a0185758b62c5a46970c88d03f7ad543d9d528f0dace6998252c1235e569d2d9e4dc82144ffb08806013841dbaa5a35fd32a84af3c68512052a00ace0187c8b8fad7f51d9ca982742a5f44f119924a424da7000d02aa0ee206c70bf40a63cebd3ad0ab0f94f'\n",
        "\n",
        "KAGGLE_INPUT_PATH='/kaggle/input'\n",
        "KAGGLE_WORKING_PATH='/kaggle/working'\n",
        "KAGGLE_SYMLINK='kaggle'\n",
        "\n",
        "!umount /kaggle/input/ 2> /dev/null\n",
        "shutil.rmtree('/kaggle/input', ignore_errors=True)\n",
        "os.makedirs(KAGGLE_INPUT_PATH, 0o777, exist_ok=True)\n",
        "os.makedirs(KAGGLE_WORKING_PATH, 0o777, exist_ok=True)\n",
        "\n",
        "try:\n",
        "  os.symlink(KAGGLE_INPUT_PATH, os.path.join(\"..\", 'input'), target_is_directory=True)\n",
        "except FileExistsError:\n",
        "  pass\n",
        "try:\n",
        "  os.symlink(KAGGLE_WORKING_PATH, os.path.join(\"..\", 'working'), target_is_directory=True)\n",
        "except FileExistsError:\n",
        "  pass\n",
        "\n",
        "for data_source_mapping in DATA_SOURCE_MAPPING.split(','):\n",
        "    directory, download_url_encoded = data_source_mapping.split(':')\n",
        "    download_url = unquote(download_url_encoded)\n",
        "    filename = urlparse(download_url).path\n",
        "    destination_path = os.path.join(KAGGLE_INPUT_PATH, directory)\n",
        "    try:\n",
        "        with urlopen(download_url) as fileres, NamedTemporaryFile() as tfile:\n",
        "            total_length = fileres.headers['content-length']\n",
        "            print(f'Downloading {directory}, {total_length} bytes compressed')\n",
        "            dl = 0\n",
        "            data = fileres.read(CHUNK_SIZE)\n",
        "            while len(data) > 0:\n",
        "                dl += len(data)\n",
        "                tfile.write(data)\n",
        "                done = int(50 * dl / int(total_length))\n",
        "                sys.stdout.write(f\"\\r[{'=' * done}{' ' * (50-done)}] {dl} bytes downloaded\")\n",
        "                sys.stdout.flush()\n",
        "                data = fileres.read(CHUNK_SIZE)\n",
        "            if filename.endswith('.zip'):\n",
        "              with ZipFile(tfile) as zfile:\n",
        "                zfile.extractall(destination_path)\n",
        "            else:\n",
        "              with tarfile.open(tfile.name) as tarfile:\n",
        "                tarfile.extractall(destination_path)\n",
        "            print(f'\\nDownloaded and uncompressed: {directory}')\n",
        "    except HTTPError as e:\n",
        "        print(f'Failed to load (likely expired) {download_url} to path {destination_path}')\n",
        "        continue\n",
        "    except OSError as e:\n",
        "        print(f'Failed to load {download_url} to path {destination_path}')\n",
        "        continue\n",
        "\n",
        "print('Data source import complete.')\n"
      ],
      "metadata": {
        "id": "C8eboV-LjRpy"
      },
      "cell_type": "code",
      "outputs": [],
      "execution_count": null
    },
    {
      "cell_type": "code",
      "source": [
        "import pandas as pd\n",
        "import numpy as np\n",
        "import tensorflow as tf\n",
        "\n",
        "from tqdm import tqdm\n",
        "\n",
        "import os\n",
        "import sys\n",
        "import math\n",
        "\n",
        "# librosa is a Python library for analyzing audio and music. It can be used to extract the data from the audio files we will see it later.\n",
        "import librosa\n",
        "import librosa.display\n",
        "import librosa.feature as libf\n",
        "import seaborn as sns\n",
        "import matplotlib.pyplot as plt\n",
        "\n",
        "from sklearn.preprocessing import StandardScaler, OneHotEncoder, minmax_scale, scale, MinMaxScaler\n",
        "from sklearn.metrics import confusion_matrix, classification_report, accuracy_score\n",
        "from sklearn.model_selection import train_test_split\n",
        "from sklearn.svm import SVC\n",
        "\n",
        "# to play the audio files\n",
        "from IPython.display import Audio\n",
        "\n",
        "import keras\n",
        "from keras.callbacks import ReduceLROnPlateau\n",
        "from keras.models import Sequential\n",
        "from keras.layers import Dense, Conv1D, MaxPooling1D, Flatten, Dropout, BatchNormalization\n",
        "from keras.callbacks import ModelCheckpoint\n",
        "\n",
        "from scipy.stats import kurtosis\n",
        "from scipy.stats import skew\n",
        "\n",
        "eps = sys.float_info.epsilon\n",
        "\n",
        "import warnings\n",
        "if not sys.warnoptions:\n",
        "    warnings.simplefilter(\"ignore\")\n",
        "warnings.filterwarnings(\"ignore\", category=DeprecationWarning)"
      ],
      "metadata": {
        "_uuid": "8f2839f25d086af736a60e9eeb907d3b93b6e0e5",
        "_cell_guid": "b1076dfc-b9ad-4769-8c92-a6c4dae69d19",
        "trusted": true,
        "id": "e7ikdvE1jRp0"
      },
      "execution_count": null,
      "outputs": []
    },
    {
      "cell_type": "code",
      "source": [
        "features = pd.read_csv('/kaggle/input/features/features (1).csv')\n",
        "features.head()"
      ],
      "metadata": {
        "execution": {
          "iopub.status.busy": "2024-02-17T12:47:34.294092Z",
          "iopub.execute_input": "2024-02-17T12:47:34.294619Z",
          "iopub.status.idle": "2024-02-17T12:48:06.207379Z",
          "shell.execute_reply.started": "2024-02-17T12:47:34.294594Z",
          "shell.execute_reply": "2024-02-17T12:48:06.20644Z"
        },
        "trusted": true,
        "id": "ubknL-jtjRp1",
        "outputId": "658678e4-2ce5-4dcf-aec4-3ddfdac873a9"
      },
      "execution_count": null,
      "outputs": [
        {
          "execution_count": 2,
          "output_type": "execute_result",
          "data": {
            "text/plain": "          0         1         2         3         4         5         6  \\\n0  0.085938  0.133301  0.183105  0.187500  0.178223  0.188477  0.190918   \n1  0.255371  0.383301  0.500000  0.506836  0.498047  0.503418  0.514160   \n2  0.083984  0.122559  0.160645  0.161621  0.162598  0.173828  0.180664   \n3  0.248047  0.372070  0.496582  0.504883  0.501953  0.499023  0.501953   \n4  0.322754  0.488770  0.630859  0.569824  0.644531  0.702148  0.739746   \n\n          7         8         9  ...       2367       2368       2369  \\\n0  0.193359  0.208984  0.205566  ... -14.089257 -25.075800  -3.903448   \n1  0.502930  0.494141  0.494629  ... -11.405813 -19.741389  -0.651677   \n2  0.181152  0.188477  0.185059  ... -19.742268 -26.791355   6.480295   \n3  0.492188  0.480469  0.478027  ... -17.215576 -24.751422   7.099199   \n4  0.739258  0.691406  0.623047  ...   7.107078   1.137663 -10.316067   \n\n        2370       2371      2372      2373      2374      2375  Emotions  \n0  15.829265  12.395281  2.053978  1.491210  8.443647  0.892359     angry  \n1  13.968719  17.333213  6.716258 -1.127772  6.467607  3.954587     angry  \n2  19.145300   8.132185  0.755440  2.556036  4.647817 -9.670603     angry  \n3  17.933453   8.685198 -0.208873  4.539900  5.697086 -9.502117     angry  \n4  -4.229964  -0.267964 -6.191520 -8.788673 -1.441431  7.607452   disgust  \n\n[5 rows x 2377 columns]",
            "text/html": "<div>\n<style scoped>\n    .dataframe tbody tr th:only-of-type {\n        vertical-align: middle;\n    }\n\n    .dataframe tbody tr th {\n        vertical-align: top;\n    }\n\n    .dataframe thead th {\n        text-align: right;\n    }\n</style>\n<table border=\"1\" class=\"dataframe\">\n  <thead>\n    <tr style=\"text-align: right;\">\n      <th></th>\n      <th>0</th>\n      <th>1</th>\n      <th>2</th>\n      <th>3</th>\n      <th>4</th>\n      <th>5</th>\n      <th>6</th>\n      <th>7</th>\n      <th>8</th>\n      <th>9</th>\n      <th>...</th>\n      <th>2367</th>\n      <th>2368</th>\n      <th>2369</th>\n      <th>2370</th>\n      <th>2371</th>\n      <th>2372</th>\n      <th>2373</th>\n      <th>2374</th>\n      <th>2375</th>\n      <th>Emotions</th>\n    </tr>\n  </thead>\n  <tbody>\n    <tr>\n      <th>0</th>\n      <td>0.085938</td>\n      <td>0.133301</td>\n      <td>0.183105</td>\n      <td>0.187500</td>\n      <td>0.178223</td>\n      <td>0.188477</td>\n      <td>0.190918</td>\n      <td>0.193359</td>\n      <td>0.208984</td>\n      <td>0.205566</td>\n      <td>...</td>\n      <td>-14.089257</td>\n      <td>-25.075800</td>\n      <td>-3.903448</td>\n      <td>15.829265</td>\n      <td>12.395281</td>\n      <td>2.053978</td>\n      <td>1.491210</td>\n      <td>8.443647</td>\n      <td>0.892359</td>\n      <td>angry</td>\n    </tr>\n    <tr>\n      <th>1</th>\n      <td>0.255371</td>\n      <td>0.383301</td>\n      <td>0.500000</td>\n      <td>0.506836</td>\n      <td>0.498047</td>\n      <td>0.503418</td>\n      <td>0.514160</td>\n      <td>0.502930</td>\n      <td>0.494141</td>\n      <td>0.494629</td>\n      <td>...</td>\n      <td>-11.405813</td>\n      <td>-19.741389</td>\n      <td>-0.651677</td>\n      <td>13.968719</td>\n      <td>17.333213</td>\n      <td>6.716258</td>\n      <td>-1.127772</td>\n      <td>6.467607</td>\n      <td>3.954587</td>\n      <td>angry</td>\n    </tr>\n    <tr>\n      <th>2</th>\n      <td>0.083984</td>\n      <td>0.122559</td>\n      <td>0.160645</td>\n      <td>0.161621</td>\n      <td>0.162598</td>\n      <td>0.173828</td>\n      <td>0.180664</td>\n      <td>0.181152</td>\n      <td>0.188477</td>\n      <td>0.185059</td>\n      <td>...</td>\n      <td>-19.742268</td>\n      <td>-26.791355</td>\n      <td>6.480295</td>\n      <td>19.145300</td>\n      <td>8.132185</td>\n      <td>0.755440</td>\n      <td>2.556036</td>\n      <td>4.647817</td>\n      <td>-9.670603</td>\n      <td>angry</td>\n    </tr>\n    <tr>\n      <th>3</th>\n      <td>0.248047</td>\n      <td>0.372070</td>\n      <td>0.496582</td>\n      <td>0.504883</td>\n      <td>0.501953</td>\n      <td>0.499023</td>\n      <td>0.501953</td>\n      <td>0.492188</td>\n      <td>0.480469</td>\n      <td>0.478027</td>\n      <td>...</td>\n      <td>-17.215576</td>\n      <td>-24.751422</td>\n      <td>7.099199</td>\n      <td>17.933453</td>\n      <td>8.685198</td>\n      <td>-0.208873</td>\n      <td>4.539900</td>\n      <td>5.697086</td>\n      <td>-9.502117</td>\n      <td>angry</td>\n    </tr>\n    <tr>\n      <th>4</th>\n      <td>0.322754</td>\n      <td>0.488770</td>\n      <td>0.630859</td>\n      <td>0.569824</td>\n      <td>0.644531</td>\n      <td>0.702148</td>\n      <td>0.739746</td>\n      <td>0.739258</td>\n      <td>0.691406</td>\n      <td>0.623047</td>\n      <td>...</td>\n      <td>7.107078</td>\n      <td>1.137663</td>\n      <td>-10.316067</td>\n      <td>-4.229964</td>\n      <td>-0.267964</td>\n      <td>-6.191520</td>\n      <td>-8.788673</td>\n      <td>-1.441431</td>\n      <td>7.607452</td>\n      <td>disgust</td>\n    </tr>\n  </tbody>\n</table>\n<p>5 rows × 2377 columns</p>\n</div>"
          },
          "metadata": {}
        }
      ]
    },
    {
      "cell_type": "code",
      "source": [
        "features=features.fillna(0)\n",
        "features.shape"
      ],
      "metadata": {
        "execution": {
          "iopub.status.busy": "2024-02-17T12:48:06.208501Z",
          "iopub.execute_input": "2024-02-17T12:48:06.208813Z",
          "iopub.status.idle": "2024-02-17T12:48:06.49749Z",
          "shell.execute_reply.started": "2024-02-17T12:48:06.208788Z",
          "shell.execute_reply": "2024-02-17T12:48:06.496443Z"
        },
        "trusted": true,
        "id": "zVGNDIBYjRp2",
        "outputId": "934a3723-5827-4c7d-93bf-b123770e0a86"
      },
      "execution_count": null,
      "outputs": [
        {
          "execution_count": 3,
          "output_type": "execute_result",
          "data": {
            "text/plain": "(33992, 2377)"
          },
          "metadata": {}
        }
      ]
    },
    {
      "cell_type": "code",
      "source": [
        "X = features.iloc[:, :-1]\n",
        "Y = features['Emotions']"
      ],
      "metadata": {
        "execution": {
          "iopub.status.busy": "2024-02-17T12:48:06.500235Z",
          "iopub.execute_input": "2024-02-17T12:48:06.500563Z",
          "iopub.status.idle": "2024-02-17T12:48:06.694036Z",
          "shell.execute_reply.started": "2024-02-17T12:48:06.500536Z",
          "shell.execute_reply": "2024-02-17T12:48:06.69299Z"
        },
        "trusted": true,
        "id": "Sr0bYCmHjRp2"
      },
      "execution_count": null,
      "outputs": []
    },
    {
      "cell_type": "code",
      "source": [
        "# As this is a multiclass classification problem onehotencoding our Y\n",
        "from sklearn.preprocessing import StandardScaler, OneHotEncoder\n",
        "encoder = OneHotEncoder()\n",
        "Y = encoder.fit_transform(np.array(Y).reshape(-1,1)).toarray()"
      ],
      "metadata": {
        "execution": {
          "iopub.status.busy": "2024-02-17T12:48:06.695382Z",
          "iopub.execute_input": "2024-02-17T12:48:06.695677Z",
          "iopub.status.idle": "2024-02-17T12:48:06.718532Z",
          "shell.execute_reply.started": "2024-02-17T12:48:06.695653Z",
          "shell.execute_reply": "2024-02-17T12:48:06.71738Z"
        },
        "trusted": true,
        "id": "uHbM3o8GjRp2"
      },
      "execution_count": null,
      "outputs": []
    },
    {
      "cell_type": "code",
      "source": [
        "x_train, x_test, y_train, y_test = train_test_split(X, Y, test_size=0.2, random_state=0, shuffle=True)\n",
        "\n",
        "x_train, x_val, y_train, y_val = train_test_split(x_train, y_train, test_size=0.25, random_state=0, shuffle=True) # 0.25 x 0.8 = 0.2"
      ],
      "metadata": {
        "execution": {
          "iopub.status.busy": "2024-02-17T12:48:06.719884Z",
          "iopub.execute_input": "2024-02-17T12:48:06.720252Z",
          "iopub.status.idle": "2024-02-17T12:48:07.567221Z",
          "shell.execute_reply.started": "2024-02-17T12:48:06.720223Z",
          "shell.execute_reply": "2024-02-17T12:48:07.566038Z"
        },
        "trusted": true,
        "id": "sgJTduQpjRp2"
      },
      "execution_count": null,
      "outputs": []
    },
    {
      "cell_type": "code",
      "source": [
        "x_train.shape, x_test.shape, x_val.shape, y_train.shape, y_test.shape, y_val.shape"
      ],
      "metadata": {
        "execution": {
          "iopub.status.busy": "2024-02-17T12:48:07.568717Z",
          "iopub.execute_input": "2024-02-17T12:48:07.569377Z",
          "iopub.status.idle": "2024-02-17T12:48:07.576602Z",
          "shell.execute_reply.started": "2024-02-17T12:48:07.569342Z",
          "shell.execute_reply": "2024-02-17T12:48:07.575514Z"
        },
        "trusted": true,
        "id": "GAdsrMr2jRp2",
        "outputId": "30176718-99a6-4b30-add2-06bc2532dbca"
      },
      "execution_count": null,
      "outputs": [
        {
          "execution_count": 7,
          "output_type": "execute_result",
          "data": {
            "text/plain": "((20394, 2376), (6799, 2376), (6799, 2376), (20394, 6), (6799, 6), (6799, 6))"
          },
          "metadata": {}
        }
      ]
    },
    {
      "cell_type": "code",
      "source": [
        "from keras.callbacks import ModelCheckpoint, EarlyStopping,ReduceLROnPlateau\n",
        "model_checkpoint = ModelCheckpoint('model_weights.h5', monitor='accuracy', save_best_only=True)"
      ],
      "metadata": {
        "execution": {
          "iopub.status.busy": "2024-02-17T12:48:07.577844Z",
          "iopub.execute_input": "2024-02-17T12:48:07.578449Z",
          "iopub.status.idle": "2024-02-17T12:48:07.584967Z",
          "shell.execute_reply.started": "2024-02-17T12:48:07.578417Z",
          "shell.execute_reply": "2024-02-17T12:48:07.584016Z"
        },
        "trusted": true,
        "id": "gP1Gni-9jRp3"
      },
      "execution_count": null,
      "outputs": []
    },
    {
      "cell_type": "code",
      "source": [
        "early_stop=EarlyStopping(monitor='accuracy',mode='auto',patience=5,restore_best_weights=True)\n",
        "lr_reduction=ReduceLROnPlateau(monitor='accuracy',patience=3,verbose=1,factor=0.5,min_lr=0.00001)"
      ],
      "metadata": {
        "execution": {
          "iopub.status.busy": "2024-02-17T12:48:07.586367Z",
          "iopub.execute_input": "2024-02-17T12:48:07.586667Z",
          "iopub.status.idle": "2024-02-17T12:48:07.598124Z",
          "shell.execute_reply.started": "2024-02-17T12:48:07.586643Z",
          "shell.execute_reply": "2024-02-17T12:48:07.59711Z"
        },
        "trusted": true,
        "id": "HrpMaTOAjRp3"
      },
      "execution_count": null,
      "outputs": []
    },
    {
      "cell_type": "code",
      "source": [
        "# scaling our data with sklearn's Standard scaler\n",
        "scaler = StandardScaler()\n",
        "x_train = scaler.fit_transform(x_train)\n",
        "x_test = scaler.transform(x_test)\n",
        "x_val = scaler.transform(x_val)\n",
        "x_train.shape, x_test.shape, x_val.shape, y_train.shape, y_test.shape, y_val.shape"
      ],
      "metadata": {
        "execution": {
          "iopub.status.busy": "2024-02-17T12:48:07.601095Z",
          "iopub.execute_input": "2024-02-17T12:48:07.601518Z",
          "iopub.status.idle": "2024-02-17T12:48:08.487786Z",
          "shell.execute_reply.started": "2024-02-17T12:48:07.60149Z",
          "shell.execute_reply": "2024-02-17T12:48:08.486938Z"
        },
        "trusted": true,
        "id": "rMJ6xQd-jRp3",
        "outputId": "307f7d19-b941-4399-f166-eed6571ba9e9"
      },
      "execution_count": null,
      "outputs": [
        {
          "execution_count": 10,
          "output_type": "execute_result",
          "data": {
            "text/plain": "((20394, 2376), (6799, 2376), (6799, 2376), (20394, 6), (6799, 6), (6799, 6))"
          },
          "metadata": {}
        }
      ]
    },
    {
      "cell_type": "code",
      "source": [
        "#Reshape for CNN MODEL\n",
        "\n",
        "x_traincnn =np.expand_dims(x_train, axis=2)\n",
        "x_testcnn= np.expand_dims(x_test, axis=2)\n",
        "x_valcnn = np.expand_dims(x_val, axis=2)\n",
        "x_traincnn.shape, y_train.shape, x_testcnn.shape, y_test.shape"
      ],
      "metadata": {
        "execution": {
          "iopub.status.busy": "2024-02-17T12:48:08.4889Z",
          "iopub.execute_input": "2024-02-17T12:48:08.489183Z",
          "iopub.status.idle": "2024-02-17T12:48:08.498735Z",
          "shell.execute_reply.started": "2024-02-17T12:48:08.489159Z",
          "shell.execute_reply": "2024-02-17T12:48:08.497713Z"
        },
        "trusted": true,
        "id": "CchrRPbJjRp3",
        "outputId": "b3ec71d9-4e51-43dd-9f7b-3657ad270ce6"
      },
      "execution_count": null,
      "outputs": [
        {
          "execution_count": 11,
          "output_type": "execute_result",
          "data": {
            "text/plain": "((20394, 2376, 1), (20394, 6), (6799, 2376, 1), (6799, 6))"
          },
          "metadata": {}
        }
      ]
    },
    {
      "cell_type": "code",
      "source": [
        "import tensorflow.keras.layers as L\n",
        "\n",
        "mycnn = tf.keras.Sequential([\n",
        "    L.Conv1D(512,kernel_size=5, strides=1,padding='same', activation='relu',input_shape=(x_train.shape[1],1)),\n",
        "    L.BatchNormalization(),\n",
        "    L.MaxPool1D(pool_size=5,strides=2,padding='same'),\n",
        "\n",
        "    L.Conv1D(512,kernel_size=5,strides=1,padding='same',activation='relu'),\n",
        "    L.BatchNormalization(),\n",
        "    L.MaxPool1D(pool_size=5,strides=2,padding='same'),\n",
        "    Dropout(0.2),  # Add dropout layer after the second max pooling layer\n",
        "\n",
        "    L.Conv1D(256,kernel_size=5,strides=1,padding='same',activation='relu'),\n",
        "    L.BatchNormalization(),\n",
        "    L.MaxPool1D(pool_size=5,strides=2,padding='same'),\n",
        "\n",
        "    L.Conv1D(256,kernel_size=3,strides=1,padding='same',activation='relu'),\n",
        "    L.BatchNormalization(),\n",
        "    L.MaxPool1D(pool_size=5,strides=2,padding='same'),\n",
        "    Dropout(0.2),  # Add dropout layer after the fourth max pooling layer\n",
        "\n",
        "    L.Conv1D(128,kernel_size=3,strides=1,padding='same',activation='relu'),\n",
        "    L.BatchNormalization(),\n",
        "    L.MaxPool1D(pool_size=3,strides=2,padding='same'),\n",
        "    Dropout(0.2),  # Add dropout layer after the fifth max pooling layer\n",
        "\n",
        "    L.Flatten(),\n",
        "    L.Dense(512,activation='relu'),\n",
        "    L.BatchNormalization(),\n",
        "    L.Dense(6,activation='softmax')\n",
        "])\n",
        "mycnn.compile(optimizer='adam',loss='categorical_crossentropy',metrics='accuracy')\n",
        "mycnn.summary()"
      ],
      "metadata": {
        "execution": {
          "iopub.status.busy": "2024-02-17T12:48:08.499824Z",
          "iopub.execute_input": "2024-02-17T12:48:08.500111Z",
          "iopub.status.idle": "2024-02-17T12:48:09.742788Z",
          "shell.execute_reply.started": "2024-02-17T12:48:08.500088Z",
          "shell.execute_reply": "2024-02-17T12:48:09.741861Z"
        },
        "trusted": true,
        "id": "90fABTl1jRp3",
        "outputId": "ad3da280-2b3a-4092-bfc5-8c6e916fad5a"
      },
      "execution_count": null,
      "outputs": [
        {
          "name": "stdout",
          "text": "Model: \"sequential\"\n_________________________________________________________________\n Layer (type)                Output Shape              Param #   \n=================================================================\n conv1d (Conv1D)             (None, 2376, 512)         3072      \n                                                                 \n batch_normalization (Batch  (None, 2376, 512)         2048      \n Normalization)                                                  \n                                                                 \n max_pooling1d (MaxPooling1  (None, 1188, 512)         0         \n D)                                                              \n                                                                 \n conv1d_1 (Conv1D)           (None, 1188, 512)         1311232   \n                                                                 \n batch_normalization_1 (Bat  (None, 1188, 512)         2048      \n chNormalization)                                                \n                                                                 \n max_pooling1d_1 (MaxPoolin  (None, 594, 512)          0         \n g1D)                                                            \n                                                                 \n dropout (Dropout)           (None, 594, 512)          0         \n                                                                 \n conv1d_2 (Conv1D)           (None, 594, 256)          655616    \n                                                                 \n batch_normalization_2 (Bat  (None, 594, 256)          1024      \n chNormalization)                                                \n                                                                 \n max_pooling1d_2 (MaxPoolin  (None, 297, 256)          0         \n g1D)                                                            \n                                                                 \n conv1d_3 (Conv1D)           (None, 297, 256)          196864    \n                                                                 \n batch_normalization_3 (Bat  (None, 297, 256)          1024      \n chNormalization)                                                \n                                                                 \n max_pooling1d_3 (MaxPoolin  (None, 149, 256)          0         \n g1D)                                                            \n                                                                 \n dropout_1 (Dropout)         (None, 149, 256)          0         \n                                                                 \n conv1d_4 (Conv1D)           (None, 149, 128)          98432     \n                                                                 \n batch_normalization_4 (Bat  (None, 149, 128)          512       \n chNormalization)                                                \n                                                                 \n max_pooling1d_4 (MaxPoolin  (None, 75, 128)           0         \n g1D)                                                            \n                                                                 \n dropout_2 (Dropout)         (None, 75, 128)           0         \n                                                                 \n flatten (Flatten)           (None, 9600)              0         \n                                                                 \n dense (Dense)               (None, 512)               4915712   \n                                                                 \n batch_normalization_5 (Bat  (None, 512)               2048      \n chNormalization)                                                \n                                                                 \n dense_1 (Dense)             (None, 6)                 3078      \n                                                                 \n=================================================================\nTotal params: 7192710 (27.44 MB)\nTrainable params: 7188358 (27.42 MB)\nNon-trainable params: 4352 (17.00 KB)\n_________________________________________________________________\n",
          "output_type": "stream"
        }
      ]
    },
    {
      "cell_type": "code",
      "source": [
        "import tensorflow as tf\n",
        "device_name = tf.test.gpu_device_name()\n",
        "if len(device_name) > 0:\n",
        "    print(\"Found GPU at: {}\".format(device_name))\n",
        "else:\n",
        "    device_name = \"/device:CPU:0\"\n",
        "    print(\"No GPU, using {}.\".format(device_name))"
      ],
      "metadata": {
        "execution": {
          "iopub.status.busy": "2024-02-17T12:48:15.163324Z",
          "iopub.execute_input": "2024-02-17T12:48:15.163726Z",
          "iopub.status.idle": "2024-02-17T12:48:15.173221Z",
          "shell.execute_reply.started": "2024-02-17T12:48:15.163692Z",
          "shell.execute_reply": "2024-02-17T12:48:15.172247Z"
        },
        "trusted": true,
        "id": "kghBKTnDjRp3",
        "outputId": "5ab96b66-696a-484d-ed7e-0c98e3e14eb2"
      },
      "execution_count": null,
      "outputs": [
        {
          "name": "stdout",
          "text": "Found GPU at: /device:GPU:0\n",
          "output_type": "stream"
        }
      ]
    },
    {
      "cell_type": "code",
      "source": [
        "#model.compile(loss='categorical_crossentropy', optimizer=opt, metrics=['accuracy'])\n",
        "with tf.device(device_name):\n",
        "    history=mycnn.fit(x_traincnn, y_train, epochs=100, validation_data=(x_valcnn, y_val), batch_size=32,callbacks=[early_stop,lr_reduction,model_checkpoint])"
      ],
      "metadata": {
        "execution": {
          "iopub.status.busy": "2024-02-17T12:53:40.918768Z",
          "iopub.execute_input": "2024-02-17T12:53:40.919127Z"
        },
        "trusted": true,
        "id": "O92ZRNYYjRp4",
        "outputId": "015eff8a-8bed-45cd-a4e4-6442fb8c1e0a"
      },
      "execution_count": null,
      "outputs": [
        {
          "name": "stdout",
          "text": "Epoch 1/100\n638/638 [==============================] - 111s 174ms/step - loss: 1.3273 - accuracy: 0.4700 - val_loss: 1.3265 - val_accuracy: 0.4768 - lr: 0.0010\nEpoch 2/100\n638/638 [==============================] - 111s 174ms/step - loss: 1.2738 - accuracy: 0.4974 - val_loss: 1.4435 - val_accuracy: 0.4156 - lr: 0.0010\nEpoch 3/100\n638/638 [==============================] - 111s 174ms/step - loss: 1.2299 - accuracy: 0.5193 - val_loss: 1.2980 - val_accuracy: 0.4832 - lr: 0.0010\nEpoch 4/100\n638/638 [==============================] - 111s 173ms/step - loss: 1.1731 - accuracy: 0.5453 - val_loss: 1.2461 - val_accuracy: 0.5236 - lr: 0.0010\nEpoch 5/100\n638/638 [==============================] - 111s 174ms/step - loss: 1.0863 - accuracy: 0.5819 - val_loss: 1.2588 - val_accuracy: 0.5082 - lr: 0.0010\nEpoch 6/100\n638/638 [==============================] - 111s 174ms/step - loss: 0.9993 - accuracy: 0.6162 - val_loss: 1.1058 - val_accuracy: 0.5779 - lr: 0.0010\nEpoch 7/100\n638/638 [==============================] - 111s 173ms/step - loss: 0.9260 - accuracy: 0.6481 - val_loss: 1.1505 - val_accuracy: 0.5607 - lr: 0.0010\nEpoch 8/100\n638/638 [==============================] - 110s 173ms/step - loss: 0.8131 - accuracy: 0.6954 - val_loss: 1.1858 - val_accuracy: 0.5652 - lr: 0.0010\nEpoch 9/100\n638/638 [==============================] - 110s 173ms/step - loss: 0.7183 - accuracy: 0.7353 - val_loss: 0.9763 - val_accuracy: 0.6401 - lr: 0.0010\nEpoch 10/100\n638/638 [==============================] - 110s 173ms/step - loss: 0.6195 - accuracy: 0.7755 - val_loss: 0.9565 - val_accuracy: 0.6502 - lr: 0.0010\nEpoch 11/100\n638/638 [==============================] - 110s 173ms/step - loss: 0.5032 - accuracy: 0.8163 - val_loss: 0.9088 - val_accuracy: 0.6826 - lr: 0.0010\nEpoch 12/100\n638/638 [==============================] - 110s 173ms/step - loss: 0.4757 - accuracy: 0.8271 - val_loss: 0.8048 - val_accuracy: 0.7194 - lr: 0.0010\nEpoch 13/100\n638/638 [==============================] - 110s 173ms/step - loss: 0.3491 - accuracy: 0.8731 - val_loss: 0.8928 - val_accuracy: 0.7014 - lr: 0.0010\nEpoch 14/100\n638/638 [==============================] - 110s 173ms/step - loss: 0.3279 - accuracy: 0.8843 - val_loss: 0.7026 - val_accuracy: 0.7700 - lr: 0.0010\nEpoch 15/100\n638/638 [==============================] - 110s 173ms/step - loss: 0.2554 - accuracy: 0.9081 - val_loss: 0.8083 - val_accuracy: 0.7476 - lr: 0.0010\nEpoch 16/100\n638/638 [==============================] - 110s 173ms/step - loss: 0.2450 - accuracy: 0.9135 - val_loss: 0.6708 - val_accuracy: 0.7907 - lr: 0.0010\nEpoch 17/100\n638/638 [==============================] - 110s 173ms/step - loss: 0.2068 - accuracy: 0.9253 - val_loss: 0.6486 - val_accuracy: 0.8022 - lr: 0.0010\nEpoch 18/100\n638/638 [==============================] - 110s 173ms/step - loss: 0.1829 - accuracy: 0.9358 - val_loss: 0.6876 - val_accuracy: 0.7922 - lr: 0.0010\nEpoch 19/100\n638/638 [==============================] - 110s 173ms/step - loss: 0.1971 - accuracy: 0.9313 - val_loss: 0.8017 - val_accuracy: 0.7710 - lr: 0.0010\nEpoch 20/100\n638/638 [==============================] - 110s 173ms/step - loss: 0.1689 - accuracy: 0.9405 - val_loss: 0.5839 - val_accuracy: 0.8320 - lr: 0.0010\nEpoch 21/100\n638/638 [==============================] - 110s 173ms/step - loss: 0.1700 - accuracy: 0.9420 - val_loss: 0.6282 - val_accuracy: 0.8203 - lr: 0.0010\nEpoch 22/100\n638/638 [==============================] - 110s 173ms/step - loss: 0.1305 - accuracy: 0.9543 - val_loss: 0.7622 - val_accuracy: 0.7986 - lr: 0.0010\nEpoch 23/100\n638/638 [==============================] - 110s 173ms/step - loss: 0.1197 - accuracy: 0.9584 - val_loss: 0.6294 - val_accuracy: 0.8329 - lr: 0.0010\nEpoch 24/100\n638/638 [==============================] - 110s 173ms/step - loss: 0.1149 - accuracy: 0.9604 - val_loss: 0.6605 - val_accuracy: 0.8188 - lr: 0.0010\nEpoch 25/100\n638/638 [==============================] - 110s 173ms/step - loss: 0.1841 - accuracy: 0.9371 - val_loss: 0.7074 - val_accuracy: 0.7961 - lr: 0.0010\nEpoch 26/100\n638/638 [==============================] - 110s 173ms/step - loss: 0.2090 - accuracy: 0.9293 - val_loss: 0.5364 - val_accuracy: 0.8484 - lr: 0.0010\nEpoch 27/100\n638/638 [==============================] - 110s 173ms/step - loss: 0.0855 - accuracy: 0.9708 - val_loss: 0.5812 - val_accuracy: 0.8447 - lr: 0.0010\nEpoch 28/100\n638/638 [==============================] - 110s 173ms/step - loss: 0.0782 - accuracy: 0.9730 - val_loss: 0.6027 - val_accuracy: 0.8354 - lr: 0.0010\nEpoch 29/100\n638/638 [==============================] - 110s 173ms/step - loss: 0.0830 - accuracy: 0.9711 - val_loss: 0.6560 - val_accuracy: 0.8306 - lr: 0.0010\nEpoch 30/100\n638/638 [==============================] - 110s 173ms/step - loss: 0.0785 - accuracy: 0.9745 - val_loss: 0.5576 - val_accuracy: 0.8591 - lr: 0.0010\nEpoch 31/100\n638/638 [==============================] - 110s 173ms/step - loss: 0.0796 - accuracy: 0.9731 - val_loss: 0.6807 - val_accuracy: 0.8300 - lr: 0.0010\nEpoch 32/100\n638/638 [==============================] - 110s 173ms/step - loss: 0.0893 - accuracy: 0.9708 - val_loss: 0.6769 - val_accuracy: 0.8357 - lr: 0.0010\nEpoch 33/100\n638/638 [==============================] - ETA: 0s - loss: 0.0859 - accuracy: 0.9702\nEpoch 33: ReduceLROnPlateau reducing learning rate to 0.0005000000237487257.\n638/638 [==============================] - 110s 173ms/step - loss: 0.0859 - accuracy: 0.9702 - val_loss: 0.5829 - val_accuracy: 0.8504 - lr: 0.0010\nEpoch 34/100\n638/638 [==============================] - 110s 173ms/step - loss: 0.0476 - accuracy: 0.9835 - val_loss: 0.4821 - val_accuracy: 0.8812 - lr: 5.0000e-04\nEpoch 35/100\n638/638 [==============================] - 110s 173ms/step - loss: 0.0329 - accuracy: 0.9896 - val_loss: 0.4740 - val_accuracy: 0.8885 - lr: 5.0000e-04\nEpoch 36/100\n638/638 [==============================] - 110s 173ms/step - loss: 0.0278 - accuracy: 0.9910 - val_loss: 0.4870 - val_accuracy: 0.8791 - lr: 5.0000e-04\nEpoch 37/100\n638/638 [==============================] - 110s 173ms/step - loss: 0.0316 - accuracy: 0.9900 - val_loss: 0.5078 - val_accuracy: 0.8875 - lr: 5.0000e-04\nEpoch 38/100\n638/638 [==============================] - 110s 173ms/step - loss: 0.0317 - accuracy: 0.9899 - val_loss: 0.4930 - val_accuracy: 0.8862 - lr: 5.0000e-04\nEpoch 39/100\n638/638 [==============================] - 110s 173ms/step - loss: 0.0254 - accuracy: 0.9913 - val_loss: 0.5102 - val_accuracy: 0.8844 - lr: 5.0000e-04\nEpoch 40/100\n638/638 [==============================] - 110s 173ms/step - loss: 0.0257 - accuracy: 0.9922 - val_loss: 0.5304 - val_accuracy: 0.8792 - lr: 5.0000e-04\nEpoch 41/100\n638/638 [==============================] - 110s 173ms/step - loss: 0.0283 - accuracy: 0.9907 - val_loss: 0.5322 - val_accuracy: 0.8785 - lr: 5.0000e-04\nEpoch 42/100\n638/638 [==============================] - 110s 173ms/step - loss: 0.0242 - accuracy: 0.9924 - val_loss: 0.5177 - val_accuracy: 0.8878 - lr: 5.0000e-04\nEpoch 43/100\n638/638 [==============================] - 110s 173ms/step - loss: 0.0407 - accuracy: 0.9866 - val_loss: 0.5371 - val_accuracy: 0.8884 - lr: 5.0000e-04\nEpoch 44/100\n638/638 [==============================] - 110s 173ms/step - loss: 0.0233 - accuracy: 0.9935 - val_loss: 0.5123 - val_accuracy: 0.8948 - lr: 5.0000e-04\nEpoch 45/100\n638/638 [==============================] - 110s 173ms/step - loss: 0.0226 - accuracy: 0.9927 - val_loss: 0.4975 - val_accuracy: 0.8928 - lr: 5.0000e-04\nEpoch 46/100\n638/638 [==============================] - 110s 173ms/step - loss: 0.0210 - accuracy: 0.9934 - val_loss: 0.5345 - val_accuracy: 0.8831 - lr: 5.0000e-04\nEpoch 47/100\n638/638 [==============================] - ETA: 0s - loss: 0.0248 - accuracy: 0.9923\nEpoch 47: ReduceLROnPlateau reducing learning rate to 0.0002500000118743628.\n638/638 [==============================] - 110s 172ms/step - loss: 0.0248 - accuracy: 0.9923 - val_loss: 0.4976 - val_accuracy: 0.8906 - lr: 5.0000e-04\nEpoch 48/100\n638/638 [==============================] - 110s 173ms/step - loss: 0.0155 - accuracy: 0.9946 - val_loss: 0.4768 - val_accuracy: 0.8978 - lr: 2.5000e-04\nEpoch 49/100\n638/638 [==============================] - 110s 173ms/step - loss: 0.0133 - accuracy: 0.9956 - val_loss: 0.4762 - val_accuracy: 0.9004 - lr: 2.5000e-04\nEpoch 50/100\n  5/638 [..............................] - ETA: 1:38 - loss: 0.0014 - accuracy: 1.0000",
          "output_type": "stream"
        }
      ]
    },
    {
      "cell_type": "code",
      "source": [
        "loaded_cnn = keras.models.load_model('/kaggle/working/model_weights.h5')"
      ],
      "metadata": {
        "execution": {
          "iopub.status.busy": "2024-02-17T14:54:11.467182Z",
          "iopub.execute_input": "2024-02-17T14:54:11.467796Z",
          "iopub.status.idle": "2024-02-17T14:54:11.977911Z",
          "shell.execute_reply.started": "2024-02-17T14:54:11.467765Z",
          "shell.execute_reply": "2024-02-17T14:54:11.977082Z"
        },
        "trusted": true,
        "id": "A6tDoEgHjRp4"
      },
      "execution_count": null,
      "outputs": []
    },
    {
      "cell_type": "code",
      "source": [
        "loaded_cnn"
      ],
      "metadata": {
        "execution": {
          "iopub.status.busy": "2024-02-17T14:54:14.533011Z",
          "iopub.execute_input": "2024-02-17T14:54:14.533407Z",
          "iopub.status.idle": "2024-02-17T14:54:14.540327Z",
          "shell.execute_reply.started": "2024-02-17T14:54:14.533374Z",
          "shell.execute_reply": "2024-02-17T14:54:14.539277Z"
        },
        "trusted": true,
        "id": "ecNGBJZ8jRp4",
        "outputId": "16ccdca6-d55c-4ec9-9eff-72a95e675833"
      },
      "execution_count": null,
      "outputs": [
        {
          "execution_count": 19,
          "output_type": "execute_result",
          "data": {
            "text/plain": "<keras.src.engine.sequential.Sequential at 0x7dda2971f400>"
          },
          "metadata": {}
        }
      ]
    },
    {
      "cell_type": "code",
      "source": [
        "  history=loaded_cnn.fit(x_traincnn, y_train, epochs=100, validation_data=(x_valcnn, y_val), batch_size=32,callbacks=[early_stop,lr_reduction,model_checkpoint])"
      ],
      "metadata": {
        "execution": {
          "iopub.status.busy": "2024-02-17T14:54:38.465251Z",
          "iopub.execute_input": "2024-02-17T14:54:38.465978Z",
          "iopub.status.idle": "2024-02-17T15:13:04.516374Z",
          "shell.execute_reply.started": "2024-02-17T14:54:38.465945Z",
          "shell.execute_reply": "2024-02-17T15:13:04.515374Z"
        },
        "trusted": true,
        "id": "UHk7cggOjRp4",
        "outputId": "c2401054-4433-4e39-e6ee-9216e7824c34"
      },
      "execution_count": null,
      "outputs": [
        {
          "name": "stdout",
          "text": "Epoch 1/100\n638/638 [==============================] - 115s 174ms/step - loss: 0.0056 - accuracy: 0.9983 - val_loss: 0.4469 - val_accuracy: 0.9073 - lr: 1.2500e-04\nEpoch 2/100\n638/638 [==============================] - 110s 173ms/step - loss: 0.0071 - accuracy: 0.9979 - val_loss: 0.4485 - val_accuracy: 0.9116 - lr: 1.2500e-04\nEpoch 3/100\n638/638 [==============================] - 110s 172ms/step - loss: 0.0063 - accuracy: 0.9981 - val_loss: 0.4540 - val_accuracy: 0.9054 - lr: 1.2500e-04\nEpoch 4/100\n638/638 [==============================] - ETA: 0s - loss: 0.0060 - accuracy: 0.9980\nEpoch 4: ReduceLROnPlateau reducing learning rate to 6.25000029685907e-05.\n638/638 [==============================] - 110s 173ms/step - loss: 0.0060 - accuracy: 0.9980 - val_loss: 0.4527 - val_accuracy: 0.9079 - lr: 1.2500e-04\nEpoch 5/100\n638/638 [==============================] - 110s 173ms/step - loss: 0.0043 - accuracy: 0.9989 - val_loss: 0.4444 - val_accuracy: 0.9098 - lr: 6.2500e-05\nEpoch 6/100\n638/638 [==============================] - 110s 173ms/step - loss: 0.0049 - accuracy: 0.9987 - val_loss: 0.4471 - val_accuracy: 0.9072 - lr: 6.2500e-05\nEpoch 7/100\n638/638 [==============================] - 110s 172ms/step - loss: 0.0055 - accuracy: 0.9982 - val_loss: 0.4470 - val_accuracy: 0.9091 - lr: 6.2500e-05\nEpoch 8/100\n638/638 [==============================] - ETA: 0s - loss: 0.0045 - accuracy: 0.9989\nEpoch 8: ReduceLROnPlateau reducing learning rate to 3.125000148429535e-05.\n638/638 [==============================] - 110s 173ms/step - loss: 0.0045 - accuracy: 0.9989 - val_loss: 0.4457 - val_accuracy: 0.9106 - lr: 6.2500e-05\nEpoch 9/100\n638/638 [==============================] - 110s 173ms/step - loss: 0.0045 - accuracy: 0.9987 - val_loss: 0.4440 - val_accuracy: 0.9098 - lr: 3.1250e-05\nEpoch 10/100\n638/638 [==============================] - 110s 173ms/step - loss: 0.0048 - accuracy: 0.9986 - val_loss: 0.4409 - val_accuracy: 0.9110 - lr: 3.1250e-05\n",
          "output_type": "stream"
        }
      ]
    },
    {
      "cell_type": "code",
      "source": [
        "print(\"Accuracy of our model on test data : \" , loaded_cnn.evaluate(x_testcnn,y_test)[1]*100 , \"%\")"
      ],
      "metadata": {
        "execution": {
          "iopub.status.busy": "2024-02-17T15:13:46.126704Z",
          "iopub.execute_input": "2024-02-17T15:13:46.127375Z",
          "iopub.status.idle": "2024-02-17T15:13:55.98244Z",
          "shell.execute_reply.started": "2024-02-17T15:13:46.12734Z",
          "shell.execute_reply": "2024-02-17T15:13:55.981432Z"
        },
        "trusted": true,
        "id": "6ODo21CBjRp4",
        "outputId": "e6a26974-742f-471b-bb80-a982d6dfdc38"
      },
      "execution_count": null,
      "outputs": [
        {
          "name": "stdout",
          "text": "213/213 [==============================] - 10s 45ms/step - loss: 0.4613 - accuracy: 0.9122\nAccuracy of our model on test data :  91.21929407119751 %\n",
          "output_type": "stream"
        }
      ]
    },
    {
      "cell_type": "code",
      "source": [
        "# predicting on test data.\n",
        "pred_test = loaded_cnn.predict(x_test)\n",
        "y_pred = encoder.inverse_transform(pred_test)\n",
        "\n",
        "y_test = encoder.inverse_transform(y_test)"
      ],
      "metadata": {
        "execution": {
          "iopub.status.busy": "2024-02-17T15:14:19.366402Z",
          "iopub.execute_input": "2024-02-17T15:14:19.367448Z",
          "iopub.status.idle": "2024-02-17T15:14:29.348243Z",
          "shell.execute_reply.started": "2024-02-17T15:14:19.367407Z",
          "shell.execute_reply": "2024-02-17T15:14:29.347199Z"
        },
        "trusted": true,
        "id": "Oq0v71H_jRp4",
        "outputId": "203e691c-450b-4295-ff8e-68e6cbf24879"
      },
      "execution_count": null,
      "outputs": [
        {
          "name": "stdout",
          "text": "213/213 [==============================] - 10s 44ms/step\n",
          "output_type": "stream"
        }
      ]
    },
    {
      "cell_type": "code",
      "source": [
        "df = pd.DataFrame(columns=['Predicted Labels', 'Actual Labels'])\n",
        "df['Predicted Labels'] = y_pred.flatten()\n",
        "df['Actual Labels'] = y_test.flatten()\n",
        "\n",
        "df.head(10)"
      ],
      "metadata": {
        "execution": {
          "iopub.status.busy": "2024-02-17T15:14:33.940592Z",
          "iopub.execute_input": "2024-02-17T15:14:33.941402Z",
          "iopub.status.idle": "2024-02-17T15:14:33.957174Z",
          "shell.execute_reply.started": "2024-02-17T15:14:33.94137Z",
          "shell.execute_reply": "2024-02-17T15:14:33.956248Z"
        },
        "trusted": true,
        "id": "0X6TloOCjRp5",
        "outputId": "3477deaf-6363-4f06-9d2e-9840334cac3e"
      },
      "execution_count": null,
      "outputs": [
        {
          "execution_count": 23,
          "output_type": "execute_result",
          "data": {
            "text/plain": "  Predicted Labels Actual Labels\n0             fear          fear\n1             fear          fear\n2          neutral       neutral\n3             fear          fear\n4            angry         happy\n5             fear          fear\n6          neutral       neutral\n7            angry         angry\n8            angry         angry\n9            happy         happy",
            "text/html": "<div>\n<style scoped>\n    .dataframe tbody tr th:only-of-type {\n        vertical-align: middle;\n    }\n\n    .dataframe tbody tr th {\n        vertical-align: top;\n    }\n\n    .dataframe thead th {\n        text-align: right;\n    }\n</style>\n<table border=\"1\" class=\"dataframe\">\n  <thead>\n    <tr style=\"text-align: right;\">\n      <th></th>\n      <th>Predicted Labels</th>\n      <th>Actual Labels</th>\n    </tr>\n  </thead>\n  <tbody>\n    <tr>\n      <th>0</th>\n      <td>fear</td>\n      <td>fear</td>\n    </tr>\n    <tr>\n      <th>1</th>\n      <td>fear</td>\n      <td>fear</td>\n    </tr>\n    <tr>\n      <th>2</th>\n      <td>neutral</td>\n      <td>neutral</td>\n    </tr>\n    <tr>\n      <th>3</th>\n      <td>fear</td>\n      <td>fear</td>\n    </tr>\n    <tr>\n      <th>4</th>\n      <td>angry</td>\n      <td>happy</td>\n    </tr>\n    <tr>\n      <th>5</th>\n      <td>fear</td>\n      <td>fear</td>\n    </tr>\n    <tr>\n      <th>6</th>\n      <td>neutral</td>\n      <td>neutral</td>\n    </tr>\n    <tr>\n      <th>7</th>\n      <td>angry</td>\n      <td>angry</td>\n    </tr>\n    <tr>\n      <th>8</th>\n      <td>angry</td>\n      <td>angry</td>\n    </tr>\n    <tr>\n      <th>9</th>\n      <td>happy</td>\n      <td>happy</td>\n    </tr>\n  </tbody>\n</table>\n</div>"
          },
          "metadata": {}
        }
      ]
    },
    {
      "cell_type": "code",
      "source": [
        "cm = confusion_matrix(y_test, y_pred)\n",
        "plt.figure(figsize = (12, 10))\n",
        "cm = pd.DataFrame(cm , index = [i for i in encoder.categories_] , columns = [i for i in encoder.categories_])\n",
        "sns.heatmap(cm, linecolor='white', cmap='Blues', linewidth=1, annot=True, fmt='')\n",
        "plt.title('Confusion Matrix for CNN classifier', size=20)\n",
        "plt.xlabel('Predicted Labels', size=14)\n",
        "plt.ylabel('Actual Labels', size=14)\n",
        "plt.show()\n",
        "plt.savefig('CNN_cm.png')"
      ],
      "metadata": {
        "execution": {
          "iopub.status.busy": "2024-02-17T15:15:41.781185Z",
          "iopub.execute_input": "2024-02-17T15:15:41.781595Z",
          "iopub.status.idle": "2024-02-17T15:15:42.202566Z",
          "shell.execute_reply.started": "2024-02-17T15:15:41.781567Z",
          "shell.execute_reply": "2024-02-17T15:15:42.201604Z"
        },
        "trusted": true,
        "id": "i9jnEgU3jRp5",
        "outputId": "f07194bd-ecb8-40b5-c9a1-91d46d246e12"
      },
      "execution_count": null,
      "outputs": [
        {
          "output_type": "display_data",
          "data": {
            "text/plain": "<Figure size 1200x1000 with 2 Axes>",
            "image/png": "[encoded data removed]"
          },
          "metadata": {}
        },
        {
          "output_type": "display_data",
          "data": {
            "text/plain": "<Figure size 640x480 with 0 Axes>"
          },
          "metadata": {}
        }
      ]
    },
    {
      "cell_type": "code",
      "source": [
        "print(classification_report(y_test, y_pred))"
      ],
      "metadata": {
        "execution": {
          "iopub.status.busy": "2024-02-17T15:17:06.034078Z",
          "iopub.execute_input": "2024-02-17T15:17:06.034857Z",
          "iopub.status.idle": "2024-02-17T15:17:06.340819Z",
          "shell.execute_reply.started": "2024-02-17T15:17:06.034821Z",
          "shell.execute_reply": "2024-02-17T15:17:06.339841Z"
        },
        "trusted": true,
        "id": "sxLwYJX6jRp5",
        "outputId": "0fff450d-4a27-451c-dd40-ebc85b1a9e48"
      },
      "execution_count": null,
      "outputs": [
        {
          "name": "stdout",
          "text": "              precision    recall  f1-score   support\n\n       angry       0.91      0.95      0.93      1179\n     disgust       0.91      0.88      0.90      1188\n        fear       0.92      0.90      0.91      1163\n       happy       0.92      0.90      0.91      1174\n     neutral       0.92      0.91      0.92       945\n         sad       0.89      0.94      0.91      1150\n\n    accuracy                           0.91      6799\n   macro avg       0.91      0.91      0.91      6799\nweighted avg       0.91      0.91      0.91      6799\n\n",
          "output_type": "stream"
        }
      ]
    }
  ]
}