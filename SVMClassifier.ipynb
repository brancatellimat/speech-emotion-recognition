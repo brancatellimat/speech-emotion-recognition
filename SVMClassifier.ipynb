{
  "nbformat": 4,
  "nbformat_minor": 0,
  "metadata": {
    "colab": {
      "provenance": [],
      "machine_shape": "hm",
      "mount_file_id": "1-N2aYJRF8f3RgyR9cb6T4ZoDEs3uGH2-",
      "authorship_tag": "ABX9TyMO9XzfvvWsjD/2H7VsWBqV",
      "include_colab_link": true
    },
    "kernelspec": {
      "name": "python3",
      "display_name": "Python 3"
    },
    "language_info": {
      "name": "python"
    }
  },
  "cells": [
    {
      "cell_type": "markdown",
      "metadata": {
        "id": "view-in-github",
        "colab_type": "text"
      },
      "source": [
        "<a href=\"https://colab.research.google.com/github/brancatellimat/speech-emotion-recognition/blob/main/SVMClassifier.ipynb\" target=\"_parent\"><img src=\"https://colab.research.google.com/assets/colab-badge.svg\" alt=\"Open In Colab\"/></a>"
      ]
    },
    {
      "cell_type": "markdown",
      "source": [
        "# Perform SVM"
      ],
      "metadata": {
        "id": "ndWc7QGwM7ne"
      }
    },
    {
      "cell_type": "markdown",
      "source": [
        "### Import Libraries"
      ],
      "metadata": {
        "id": "fqeTJxusUtRh"
      }
    },
    {
      "cell_type": "code",
      "execution_count": 1,
      "metadata": {
        "id": "Rbnk7l5vUIES"
      },
      "outputs": [],
      "source": [
        "import pandas as pd\n",
        "import numpy as np\n",
        "import tensorflow as tf\n",
        "\n",
        "from tqdm import tqdm\n",
        "\n",
        "import os\n",
        "import sys\n",
        "import math\n",
        "\n",
        "# librosa is a Python library for analyzing audio and music. It can be used to extract the data from the audio files we will see it later.\n",
        "import librosa\n",
        "import librosa.display\n",
        "import librosa.feature as libf\n",
        "import seaborn as sns\n",
        "import matplotlib.pyplot as plt\n",
        "\n",
        "from sklearn.preprocessing import StandardScaler, OneHotEncoder, minmax_scale, scale, MinMaxScaler\n",
        "from sklearn.metrics import confusion_matrix, classification_report, accuracy_score\n",
        "from sklearn.model_selection import train_test_split\n",
        "from sklearn.svm import SVC\n",
        "\n",
        "# to play the audio files\n",
        "from IPython.display import Audio\n",
        "\n",
        "import keras\n",
        "from keras.callbacks import ReduceLROnPlateau\n",
        "from keras.models import Sequential\n",
        "from keras.layers import Dense, Conv1D, MaxPooling1D, Flatten, Dropout, BatchNormalization\n",
        "from keras.callbacks import ModelCheckpoint\n",
        "\n",
        "from scipy.stats import kurtosis\n",
        "from scipy.stats import skew\n",
        "\n",
        "eps = sys.float_info.epsilon\n",
        "\n",
        "import warnings\n",
        "if not sys.warnoptions:\n",
        "    warnings.simplefilter(\"ignore\")\n",
        "warnings.filterwarnings(\"ignore\", category=DeprecationWarning)"
      ]
    },
    {
      "cell_type": "markdown",
      "source": [
        "### Read features csv"
      ],
      "metadata": {
        "id": "-H2qpuk7yyjo"
      }
    },
    {
      "cell_type": "code",
      "source": [
        "features = pd.read_csv('/content/drive/MyDrive/Colab Notebooks/Audio Pattern Recognition/Project_Brancatelli/features.csv')\n",
        "features.head()"
      ],
      "metadata": {
        "colab": {
          "base_uri": "https://localhost:8080/",
          "height": 236
        },
        "id": "sNlKJ1lTy5r-",
        "outputId": "3c83cbea-97f2-4ffc-d89a-695b67be1251"
      },
      "execution_count": 2,
      "outputs": [
        {
          "output_type": "execute_result",
          "data": {
            "text/plain": [
              "          0         1         2         3         4         5         6  \\\n",
              "0  0.085938  0.133301  0.183105  0.187500  0.178223  0.188477  0.190918   \n",
              "1  0.255371  0.383301  0.500000  0.506836  0.498047  0.503418  0.514160   \n",
              "2  0.083984  0.122559  0.160645  0.161621  0.162598  0.173828  0.180664   \n",
              "3  0.248047  0.372070  0.496582  0.504883  0.501953  0.499023  0.501953   \n",
              "4  0.322754  0.488770  0.630859  0.569824  0.644531  0.702148  0.739746   \n",
              "\n",
              "          7         8         9  ...       2367       2368       2369  \\\n",
              "0  0.193359  0.208984  0.205566  ... -14.089257 -25.075800  -3.903448   \n",
              "1  0.502930  0.494141  0.494629  ... -11.405813 -19.741389  -0.651677   \n",
              "2  0.181152  0.188477  0.185059  ... -19.742268 -26.791355   6.480295   \n",
              "3  0.492188  0.480469  0.478027  ... -17.215576 -24.751422   7.099199   \n",
              "4  0.739258  0.691406  0.623047  ...   7.107078   1.137663 -10.316067   \n",
              "\n",
              "        2370       2371      2372      2373      2374      2375  Emotions  \n",
              "0  15.829265  12.395281  2.053978  1.491210  8.443647  0.892359     angry  \n",
              "1  13.968719  17.333213  6.716258 -1.127772  6.467607  3.954587     angry  \n",
              "2  19.145300   8.132185  0.755440  2.556036  4.647817 -9.670603     angry  \n",
              "3  17.933453   8.685198 -0.208873  4.539900  5.697086 -9.502117     angry  \n",
              "4  -4.229964  -0.267964 -6.191520 -8.788673 -1.441431  7.607452   disgust  \n",
              "\n",
              "[5 rows x 2377 columns]"
            ],
            "text/html": [
              "\n",
              "  <div id=\"df-01af7c94-fec8-4f51-a2da-66316d1569e7\" class=\"colab-df-container\">\n",
              "    <div>\n",
              "<style scoped>\n",
              "    .dataframe tbody tr th:only-of-type {\n",
              "        vertical-align: middle;\n",
              "    }\n",
              "\n",
              "    .dataframe tbody tr th {\n",
              "        vertical-align: top;\n",
              "    }\n",
              "\n",
              "    .dataframe thead th {\n",
              "        text-align: right;\n",
              "    }\n",
              "</style>\n",
              "<table border=\"1\" class=\"dataframe\">\n",
              "  <thead>\n",
              "    <tr style=\"text-align: right;\">\n",
              "      <th></th>\n",
              "      <th>0</th>\n",
              "      <th>1</th>\n",
              "      <th>2</th>\n",
              "      <th>3</th>\n",
              "      <th>4</th>\n",
              "      <th>5</th>\n",
              "      <th>6</th>\n",
              "      <th>7</th>\n",
              "      <th>8</th>\n",
              "      <th>9</th>\n",
              "      <th>...</th>\n",
              "      <th>2367</th>\n",
              "      <th>2368</th>\n",
              "      <th>2369</th>\n",
              "      <th>2370</th>\n",
              "      <th>2371</th>\n",
              "      <th>2372</th>\n",
              "      <th>2373</th>\n",
              "      <th>2374</th>\n",
              "      <th>2375</th>\n",
              "      <th>Emotions</th>\n",
              "    </tr>\n",
              "  </thead>\n",
              "  <tbody>\n",
              "    <tr>\n",
              "      <th>0</th>\n",
              "      <td>0.085938</td>\n",
              "      <td>0.133301</td>\n",
              "      <td>0.183105</td>\n",
              "      <td>0.187500</td>\n",
              "      <td>0.178223</td>\n",
              "      <td>0.188477</td>\n",
              "      <td>0.190918</td>\n",
              "      <td>0.193359</td>\n",
              "      <td>0.208984</td>\n",
              "      <td>0.205566</td>\n",
              "      <td>...</td>\n",
              "      <td>-14.089257</td>\n",
              "      <td>-25.075800</td>\n",
              "      <td>-3.903448</td>\n",
              "      <td>15.829265</td>\n",
              "      <td>12.395281</td>\n",
              "      <td>2.053978</td>\n",
              "      <td>1.491210</td>\n",
              "      <td>8.443647</td>\n",
              "      <td>0.892359</td>\n",
              "      <td>angry</td>\n",
              "    </tr>\n",
              "    <tr>\n",
              "      <th>1</th>\n",
              "      <td>0.255371</td>\n",
              "      <td>0.383301</td>\n",
              "      <td>0.500000</td>\n",
              "      <td>0.506836</td>\n",
              "      <td>0.498047</td>\n",
              "      <td>0.503418</td>\n",
              "      <td>0.514160</td>\n",
              "      <td>0.502930</td>\n",
              "      <td>0.494141</td>\n",
              "      <td>0.494629</td>\n",
              "      <td>...</td>\n",
              "      <td>-11.405813</td>\n",
              "      <td>-19.741389</td>\n",
              "      <td>-0.651677</td>\n",
              "      <td>13.968719</td>\n",
              "      <td>17.333213</td>\n",
              "      <td>6.716258</td>\n",
              "      <td>-1.127772</td>\n",
              "      <td>6.467607</td>\n",
              "      <td>3.954587</td>\n",
              "      <td>angry</td>\n",
              "    </tr>\n",
              "    <tr>\n",
              "      <th>2</th>\n",
              "      <td>0.083984</td>\n",
              "      <td>0.122559</td>\n",
              "      <td>0.160645</td>\n",
              "      <td>0.161621</td>\n",
              "      <td>0.162598</td>\n",
              "      <td>0.173828</td>\n",
              "      <td>0.180664</td>\n",
              "      <td>0.181152</td>\n",
              "      <td>0.188477</td>\n",
              "      <td>0.185059</td>\n",
              "      <td>...</td>\n",
              "      <td>-19.742268</td>\n",
              "      <td>-26.791355</td>\n",
              "      <td>6.480295</td>\n",
              "      <td>19.145300</td>\n",
              "      <td>8.132185</td>\n",
              "      <td>0.755440</td>\n",
              "      <td>2.556036</td>\n",
              "      <td>4.647817</td>\n",
              "      <td>-9.670603</td>\n",
              "      <td>angry</td>\n",
              "    </tr>\n",
              "    <tr>\n",
              "      <th>3</th>\n",
              "      <td>0.248047</td>\n",
              "      <td>0.372070</td>\n",
              "      <td>0.496582</td>\n",
              "      <td>0.504883</td>\n",
              "      <td>0.501953</td>\n",
              "      <td>0.499023</td>\n",
              "      <td>0.501953</td>\n",
              "      <td>0.492188</td>\n",
              "      <td>0.480469</td>\n",
              "      <td>0.478027</td>\n",
              "      <td>...</td>\n",
              "      <td>-17.215576</td>\n",
              "      <td>-24.751422</td>\n",
              "      <td>7.099199</td>\n",
              "      <td>17.933453</td>\n",
              "      <td>8.685198</td>\n",
              "      <td>-0.208873</td>\n",
              "      <td>4.539900</td>\n",
              "      <td>5.697086</td>\n",
              "      <td>-9.502117</td>\n",
              "      <td>angry</td>\n",
              "    </tr>\n",
              "    <tr>\n",
              "      <th>4</th>\n",
              "      <td>0.322754</td>\n",
              "      <td>0.488770</td>\n",
              "      <td>0.630859</td>\n",
              "      <td>0.569824</td>\n",
              "      <td>0.644531</td>\n",
              "      <td>0.702148</td>\n",
              "      <td>0.739746</td>\n",
              "      <td>0.739258</td>\n",
              "      <td>0.691406</td>\n",
              "      <td>0.623047</td>\n",
              "      <td>...</td>\n",
              "      <td>7.107078</td>\n",
              "      <td>1.137663</td>\n",
              "      <td>-10.316067</td>\n",
              "      <td>-4.229964</td>\n",
              "      <td>-0.267964</td>\n",
              "      <td>-6.191520</td>\n",
              "      <td>-8.788673</td>\n",
              "      <td>-1.441431</td>\n",
              "      <td>7.607452</td>\n",
              "      <td>disgust</td>\n",
              "    </tr>\n",
              "  </tbody>\n",
              "</table>\n",
              "<p>5 rows × 2377 columns</p>\n",
              "</div>\n",
              "    <div class=\"colab-df-buttons\">\n",
              "\n",
              "  <div class=\"colab-df-container\">\n",
              "    <button class=\"colab-df-convert\" onclick=\"convertToInteractive('df-01af7c94-fec8-4f51-a2da-66316d1569e7')\"\n",
              "            title=\"Convert this dataframe to an interactive table.\"\n",
              "            style=\"display:none;\">\n",
              "\n",
              "  <svg xmlns=\"http://www.w3.org/2000/svg\" height=\"24px\" viewBox=\"0 -960 960 960\">\n",
              "    <path d=\"M120-120v-720h720v720H120Zm60-500h600v-160H180v160Zm220 220h160v-160H400v160Zm0 220h160v-160H400v160ZM180-400h160v-160H180v160Zm440 0h160v-160H620v160ZM180-180h160v-160H180v160Zm440 0h160v-160H620v160Z\"/>\n",
              "  </svg>\n",
              "    </button>\n",
              "\n",
              "  <style>\n",
              "    .colab-df-container {\n",
              "      display:flex;\n",
              "      gap: 12px;\n",
              "    }\n",
              "\n",
              "    .colab-df-convert {\n",
              "      background-color: #E8F0FE;\n",
              "      border: none;\n",
              "      border-radius: 50%;\n",
              "      cursor: pointer;\n",
              "      display: none;\n",
              "      fill: #1967D2;\n",
              "      height: 32px;\n",
              "      padding: 0 0 0 0;\n",
              "      width: 32px;\n",
              "    }\n",
              "\n",
              "    .colab-df-convert:hover {\n",
              "      background-color: #E2EBFA;\n",
              "      box-shadow: 0px 1px 2px rgba(60, 64, 67, 0.3), 0px 1px 3px 1px rgba(60, 64, 67, 0.15);\n",
              "      fill: #174EA6;\n",
              "    }\n",
              "\n",
              "    .colab-df-buttons div {\n",
              "      margin-bottom: 4px;\n",
              "    }\n",
              "\n",
              "    [theme=dark] .colab-df-convert {\n",
              "      background-color: #3B4455;\n",
              "      fill: #D2E3FC;\n",
              "    }\n",
              "\n",
              "    [theme=dark] .colab-df-convert:hover {\n",
              "      background-color: #434B5C;\n",
              "      box-shadow: 0px 1px 3px 1px rgba(0, 0, 0, 0.15);\n",
              "      filter: drop-shadow(0px 1px 2px rgba(0, 0, 0, 0.3));\n",
              "      fill: #FFFFFF;\n",
              "    }\n",
              "  </style>\n",
              "\n",
              "    <script>\n",
              "      const buttonEl =\n",
              "        document.querySelector('#df-01af7c94-fec8-4f51-a2da-66316d1569e7 button.colab-df-convert');\n",
              "      buttonEl.style.display =\n",
              "        google.colab.kernel.accessAllowed ? 'block' : 'none';\n",
              "\n",
              "      async function convertToInteractive(key) {\n",
              "        const element = document.querySelector('#df-01af7c94-fec8-4f51-a2da-66316d1569e7');\n",
              "        const dataTable =\n",
              "          await google.colab.kernel.invokeFunction('convertToInteractive',\n",
              "                                                    [key], {});\n",
              "        if (!dataTable) return;\n",
              "\n",
              "        const docLinkHtml = 'Like what you see? Visit the ' +\n",
              "          '<a target=\"_blank\" href=https://colab.research.google.com/notebooks/data_table.ipynb>data table notebook</a>'\n",
              "          + ' to learn more about interactive tables.';\n",
              "        element.innerHTML = '';\n",
              "        dataTable['output_type'] = 'display_data';\n",
              "        await google.colab.output.renderOutput(dataTable, element);\n",
              "        const docLink = document.createElement('div');\n",
              "        docLink.innerHTML = docLinkHtml;\n",
              "        element.appendChild(docLink);\n",
              "      }\n",
              "    </script>\n",
              "  </div>\n",
              "\n",
              "\n",
              "<div id=\"df-643dad6a-7a91-44b6-a2ac-83f40e355048\">\n",
              "  <button class=\"colab-df-quickchart\" onclick=\"quickchart('df-643dad6a-7a91-44b6-a2ac-83f40e355048')\"\n",
              "            title=\"Suggest charts\"\n",
              "            style=\"display:none;\">\n",
              "\n",
              "<svg xmlns=\"http://www.w3.org/2000/svg\" height=\"24px\"viewBox=\"0 0 24 24\"\n",
              "     width=\"24px\">\n",
              "    <g>\n",
              "        <path d=\"M19 3H5c-1.1 0-2 .9-2 2v14c0 1.1.9 2 2 2h14c1.1 0 2-.9 2-2V5c0-1.1-.9-2-2-2zM9 17H7v-7h2v7zm4 0h-2V7h2v10zm4 0h-2v-4h2v4z\"/>\n",
              "    </g>\n",
              "</svg>\n",
              "  </button>\n",
              "\n",
              "<style>\n",
              "  .colab-df-quickchart {\n",
              "      --bg-color: #E8F0FE;\n",
              "      --fill-color: #1967D2;\n",
              "      --hover-bg-color: #E2EBFA;\n",
              "      --hover-fill-color: #174EA6;\n",
              "      --disabled-fill-color: #AAA;\n",
              "      --disabled-bg-color: #DDD;\n",
              "  }\n",
              "\n",
              "  [theme=dark] .colab-df-quickchart {\n",
              "      --bg-color: #3B4455;\n",
              "      --fill-color: #D2E3FC;\n",
              "      --hover-bg-color: #434B5C;\n",
              "      --hover-fill-color: #FFFFFF;\n",
              "      --disabled-bg-color: #3B4455;\n",
              "      --disabled-fill-color: #666;\n",
              "  }\n",
              "\n",
              "  .colab-df-quickchart {\n",
              "    background-color: var(--bg-color);\n",
              "    border: none;\n",
              "    border-radius: 50%;\n",
              "    cursor: pointer;\n",
              "    display: none;\n",
              "    fill: var(--fill-color);\n",
              "    height: 32px;\n",
              "    padding: 0;\n",
              "    width: 32px;\n",
              "  }\n",
              "\n",
              "  .colab-df-quickchart:hover {\n",
              "    background-color: var(--hover-bg-color);\n",
              "    box-shadow: 0 1px 2px rgba(60, 64, 67, 0.3), 0 1px 3px 1px rgba(60, 64, 67, 0.15);\n",
              "    fill: var(--button-hover-fill-color);\n",
              "  }\n",
              "\n",
              "  .colab-df-quickchart-complete:disabled,\n",
              "  .colab-df-quickchart-complete:disabled:hover {\n",
              "    background-color: var(--disabled-bg-color);\n",
              "    fill: var(--disabled-fill-color);\n",
              "    box-shadow: none;\n",
              "  }\n",
              "\n",
              "  .colab-df-spinner {\n",
              "    border: 2px solid var(--fill-color);\n",
              "    border-color: transparent;\n",
              "    border-bottom-color: var(--fill-color);\n",
              "    animation:\n",
              "      spin 1s steps(1) infinite;\n",
              "  }\n",
              "\n",
              "  @keyframes spin {\n",
              "    0% {\n",
              "      border-color: transparent;\n",
              "      border-bottom-color: var(--fill-color);\n",
              "      border-left-color: var(--fill-color);\n",
              "    }\n",
              "    20% {\n",
              "      border-color: transparent;\n",
              "      border-left-color: var(--fill-color);\n",
              "      border-top-color: var(--fill-color);\n",
              "    }\n",
              "    30% {\n",
              "      border-color: transparent;\n",
              "      border-left-color: var(--fill-color);\n",
              "      border-top-color: var(--fill-color);\n",
              "      border-right-color: var(--fill-color);\n",
              "    }\n",
              "    40% {\n",
              "      border-color: transparent;\n",
              "      border-right-color: var(--fill-color);\n",
              "      border-top-color: var(--fill-color);\n",
              "    }\n",
              "    60% {\n",
              "      border-color: transparent;\n",
              "      border-right-color: var(--fill-color);\n",
              "    }\n",
              "    80% {\n",
              "      border-color: transparent;\n",
              "      border-right-color: var(--fill-color);\n",
              "      border-bottom-color: var(--fill-color);\n",
              "    }\n",
              "    90% {\n",
              "      border-color: transparent;\n",
              "      border-bottom-color: var(--fill-color);\n",
              "    }\n",
              "  }\n",
              "</style>\n",
              "\n",
              "  <script>\n",
              "    async function quickchart(key) {\n",
              "      const quickchartButtonEl =\n",
              "        document.querySelector('#' + key + ' button');\n",
              "      quickchartButtonEl.disabled = true;  // To prevent multiple clicks.\n",
              "      quickchartButtonEl.classList.add('colab-df-spinner');\n",
              "      try {\n",
              "        const charts = await google.colab.kernel.invokeFunction(\n",
              "            'suggestCharts', [key], {});\n",
              "      } catch (error) {\n",
              "        console.error('Error during call to suggestCharts:', error);\n",
              "      }\n",
              "      quickchartButtonEl.classList.remove('colab-df-spinner');\n",
              "      quickchartButtonEl.classList.add('colab-df-quickchart-complete');\n",
              "    }\n",
              "    (() => {\n",
              "      let quickchartButtonEl =\n",
              "        document.querySelector('#df-643dad6a-7a91-44b6-a2ac-83f40e355048 button');\n",
              "      quickchartButtonEl.style.display =\n",
              "        google.colab.kernel.accessAllowed ? 'block' : 'none';\n",
              "    })();\n",
              "  </script>\n",
              "</div>\n",
              "    </div>\n",
              "  </div>\n"
            ],
            "application/vnd.google.colaboratory.intrinsic+json": {
              "type": "dataframe",
              "variable_name": "features"
            }
          },
          "metadata": {},
          "execution_count": 2
        }
      ]
    },
    {
      "cell_type": "code",
      "source": [
        "X = features.iloc[:, :-1]\n",
        "Y = features['Emotions']\n"
      ],
      "metadata": {
        "id": "_5rnVba7yyjp"
      },
      "execution_count": 3,
      "outputs": []
    },
    {
      "cell_type": "code",
      "source": [
        "scaler = StandardScaler()\n",
        "scaled_dataset = scaler.fit_transform(X)\n",
        "scaled_both = pd.DataFrame(scaled_dataset)\n",
        "scaled_both['Emotions'] = Y\n",
        "scaled_both.head()\n",
        "\n",
        "scaled_both = scaled_both.fillna(0)\n",
        "\n",
        "X = scaled_both.iloc[:, :-1].values\n",
        "Y = scaled_both['Emotions'].values\n",
        "#both.head()"
      ],
      "metadata": {
        "id": "k3Wr9pF13nM9"
      },
      "execution_count": 4,
      "outputs": []
    },
    {
      "cell_type": "code",
      "source": [
        "x_train, x_test, y_train, y_test = train_test_split(X, Y, test_size=0.2, random_state=42)\n",
        "x_train.shape, y_train.shape, x_test.shape, y_test.shape"
      ],
      "metadata": {
        "colab": {
          "base_uri": "https://localhost:8080/"
        },
        "outputId": "f63a1e4f-7e2e-4b45-ff06-3afbf748a729",
        "id": "YIjHAoBiyyj4"
      },
      "execution_count": 5,
      "outputs": [
        {
          "output_type": "execute_result",
          "data": {
            "text/plain": [
              "((27193, 2376), (27193,), (6799, 2376), (6799,))"
            ]
          },
          "metadata": {},
          "execution_count": 5
        }
      ]
    },
    {
      "cell_type": "code",
      "source": [
        "print('Number of rows in train:', x_train.shape[0])\n",
        "print('Number of rows in test:', x_test.shape[0])"
      ],
      "metadata": {
        "colab": {
          "base_uri": "https://localhost:8080/"
        },
        "outputId": "a2308a93-a117-4a61-978c-f80c904d7b23",
        "id": "AMl5aZ3Pyyj4"
      },
      "execution_count": 6,
      "outputs": [
        {
          "output_type": "stream",
          "name": "stdout",
          "text": [
            "Number of rows in train: 27193\n",
            "Number of rows in test: 6799\n"
          ]
        }
      ]
    },
    {
      "cell_type": "code",
      "source": [
        "import tensorflow as tf\n",
        "device_name = tf.test.gpu_device_name()\n",
        "if len(device_name) > 0:\n",
        "    print(\"Found GPU at: {}\".format(device_name))\n",
        "else:\n",
        "    device_name = \"/device:CPU:0\"\n",
        "    print(\"No GPU, using {}.\".format(device_name))"
      ],
      "metadata": {
        "colab": {
          "base_uri": "https://localhost:8080/"
        },
        "outputId": "989a1fcc-ef56-4bed-8765-5f627a5e9611",
        "id": "I0wvmyshyyj5"
      },
      "execution_count": 7,
      "outputs": [
        {
          "output_type": "stream",
          "name": "stdout",
          "text": [
            "No GPU, using /device:CPU:0.\n"
          ]
        }
      ]
    },
    {
      "cell_type": "code",
      "source": [
        "def SVM_Classifier(x_train, y_train, x_test, y_test):\n",
        "\n",
        "  with tf.device(device_name=device_name):\n",
        "    print('SVM Classifier - Starting....')\n",
        "    dfs = 'ovo' # One-vs-One\n",
        "    reg_parameters = [50,500]\n",
        "    kernels = ['poly', 'rbf']\n",
        "    best_accuracy_svm = 0\n",
        "    best_C = 0\n",
        "    best_kernel = ''\n",
        "    best_pred = pd.DataFrame()\n",
        "\n",
        "    for parameter in tqdm(reg_parameters):\n",
        "      for kernel in tqdm(kernels):\n",
        "        model_svc = SVC(decision_function_shape=dfs, C=parameter, kernel=kernel)\n",
        "        model_svc.fit(x_train, y_train)\n",
        "        y_pred = model_svc.predict(x_test)\n",
        "        prediction_accuracy = round(accuracy_score(y_test, y_pred), 4)\n",
        "\n",
        "        # Update current best model parameters if pred. accuracy is better\n",
        "        if best_accuracy_svm < prediction_accuracy:\n",
        "          best_accuracy_svm = prediction_accuracy\n",
        "          best_C = parameter\n",
        "          best_kernel = kernel\n",
        "          best_pred = y_pred\n",
        "\n",
        "        print('Accuracy obtained for Regualarization Parameter: ', parameter, ' - Kernel: ', kernel, ' is: ', prediction_accuracy)\n",
        "\n",
        "    print('Best accuracy of Support Vector Machine:',best_accuracy_svm,'for regularization parameter C:',best_C, 'and kernel:',best_kernel)\n",
        "\n",
        "  return y_pred"
      ],
      "metadata": {
        "id": "gwtW8-RZyyj5"
      },
      "execution_count": null,
      "outputs": []
    },
    {
      "cell_type": "code",
      "source": [
        "y_pred = SVM_Classifier(x_train, y_train, x_test, y_test)"
      ],
      "metadata": {
        "colab": {
          "base_uri": "https://localhost:8080/"
        },
        "outputId": "f43174ea-86a0-4128-974b-e32e49027994",
        "id": "FrHsmOiRyyj5"
      },
      "execution_count": null,
      "outputs": [
        {
          "output_type": "stream",
          "name": "stdout",
          "text": [
            "SVM Classifier - Starting....\n"
          ]
        },
        {
          "output_type": "stream",
          "name": "stderr",
          "text": [
            "  0%|          | 0/2 [00:00<?, ?it/s]\n",
            "  0%|          | 0/2 [00:00<?, ?it/s]\u001b[A\n",
            " 50%|█████     | 1/2 [24:03<24:03, 1443.48s/it]\u001b[A"
          ]
        },
        {
          "output_type": "stream",
          "name": "stdout",
          "text": [
            "Accuracy obtained for Regualarization Parameter:  50  - Kernel:  poly  is:  0.8347\n"
          ]
        },
        {
          "output_type": "stream",
          "name": "stderr",
          "text": [
            "\n",
            "100%|██████████| 2/2 [57:47<00:00, 1733.51s/it]\n",
            " 50%|█████     | 1/2 [57:47<57:47, 3467.02s/it]"
          ]
        },
        {
          "output_type": "stream",
          "name": "stdout",
          "text": [
            "Accuracy obtained for Regualarization Parameter:  50  - Kernel:  rbf  is:  0.892\n"
          ]
        },
        {
          "output_type": "stream",
          "name": "stderr",
          "text": [
            "\n",
            "  0%|          | 0/2 [00:00<?, ?it/s]\u001b[A\n",
            " 50%|█████     | 1/2 [24:25<24:25, 1465.39s/it]\u001b[A"
          ]
        },
        {
          "output_type": "stream",
          "name": "stdout",
          "text": [
            "Accuracy obtained for Regualarization Parameter:  500  - Kernel:  poly  is:  0.8881\n"
          ]
        }
      ]
    },
    {
      "cell_type": "markdown",
      "source": [
        "Runtime disconnected! Run SVC with the missing parameters combination (ovo, 500, rbf)"
      ],
      "metadata": {
        "id": "1vVJc2OOlOVZ"
      }
    },
    {
      "cell_type": "code",
      "source": [
        "model_svc = SVC(decision_function_shape='ovo', C=500, kernel='rbf')\n",
        "model_svc.fit(x_train, y_train)\n",
        "y_pred = model_svc.predict(x_test)"
      ],
      "metadata": {
        "id": "QyQtXwscJkRW"
      },
      "execution_count": 8,
      "outputs": []
    },
    {
      "cell_type": "code",
      "source": [
        "accuracy_score(y_test,y_pred)"
      ],
      "metadata": {
        "colab": {
          "base_uri": "https://localhost:8080/"
        },
        "id": "4FJSAb8VVJbG",
        "outputId": "6f064867-63cd-4aaf-d31b-92a55252c90e"
      },
      "execution_count": 9,
      "outputs": [
        {
          "output_type": "execute_result",
          "data": {
            "text/plain": [
              "0.8930725106633328"
            ]
          },
          "metadata": {},
          "execution_count": 9
        }
      ]
    },
    {
      "cell_type": "code",
      "source": [
        "print(classification_report(y_test, y_pred))"
      ],
      "metadata": {
        "colab": {
          "base_uri": "https://localhost:8080/"
        },
        "id": "SS91jPVW9nW2",
        "outputId": "b9c0da6c-b30f-4df4-ad51-13624a3478ed"
      },
      "execution_count": 10,
      "outputs": [
        {
          "output_type": "stream",
          "name": "stdout",
          "text": [
            "              precision    recall  f1-score   support\n",
            "\n",
            "       angry       0.90      0.94      0.92      1153\n",
            "     disgust       0.88      0.90      0.89      1189\n",
            "        fear       0.88      0.86      0.87      1111\n",
            "       happy       0.88      0.89      0.89      1162\n",
            "     neutral       0.92      0.86      0.89       975\n",
            "         sad       0.90      0.89      0.90      1209\n",
            "\n",
            "    accuracy                           0.89      6799\n",
            "   macro avg       0.89      0.89      0.89      6799\n",
            "weighted avg       0.89      0.89      0.89      6799\n",
            "\n"
          ]
        }
      ]
    },
    {
      "cell_type": "code",
      "source": [
        "cm = confusion_matrix(y_test, y_pred)\n",
        "plt.figure(figsize = (12, 10))\n",
        "cm = pd.DataFrame(cm , index = [i for i in np.unique(y_test)] , columns = [i for i in np.unique(y_test)])\n",
        "sns.heatmap(cm, linecolor='white', cmap='Blues', linewidth=1, annot=True, fmt='')\n",
        "plt.title('Confusion Matrix for SVM classifier', size=20)\n",
        "plt.xlabel('Predicted Labels', size=14)\n",
        "plt.ylabel('Actual Labels', size=14)\n",
        "plt.show()"
      ],
      "metadata": {
        "colab": {
          "base_uri": "https://localhost:8080/",
          "height": 885
        },
        "outputId": "76055896-7cc7-4e58-ac6e-05f4cdcef6f3",
        "id": "ZsPzEyNpyyj5"
      },
      "execution_count": 11,
      "outputs": [
        {
          "output_type": "display_data",
          "data": {
            "text/plain": [
              "<Figure size 1200x1000 with 2 Axes>"
            ],
            "image/png": "[encoded data removed]"
          },
          "metadata": {}
        }
      ]
    }
  ]
}