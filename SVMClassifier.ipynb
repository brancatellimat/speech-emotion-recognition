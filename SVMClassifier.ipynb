{
  "nbformat": 4,
  "nbformat_minor": 0,
  "metadata": {
    "colab": {
      "provenance": [],
      "machine_shape": "hm",
      "toc_visible": true,
      "mount_file_id": "1-N2aYJRF8f3RgyR9cb6T4ZoDEs3uGH2-",
      "authorship_tag": "ABX9TyNu2J+jOmI7v4Y/W1RtC/Ma",
      "include_colab_link": true
    },
    "kernelspec": {
      "name": "python3",
      "display_name": "Python 3"
    },
    "language_info": {
      "name": "python"
    },
    "accelerator": "TPU"
  },
  "cells": [
    {
      "cell_type": "markdown",
      "metadata": {
        "id": "view-in-github",
        "colab_type": "text"
      },
      "source": [
        "<a href=\"https://colab.research.google.com/github/brancatellimat/speech-emotion-recognition/blob/main/SVMClassifier.ipynb\" target=\"_parent\"><img src=\"https://colab.research.google.com/assets/colab-badge.svg\" alt=\"Open In Colab\"/></a>"
      ]
    },
    {
      "cell_type": "markdown",
      "source": [
        "# Perform SVM"
      ],
      "metadata": {
        "id": "ndWc7QGwM7ne"
      }
    },
    {
      "cell_type": "markdown",
      "source": [
        "### Import Libraries"
      ],
      "metadata": {
        "id": "fqeTJxusUtRh"
      }
    },
    {
      "cell_type": "code",
      "execution_count": null,
      "metadata": {
        "id": "Rbnk7l5vUIES"
      },
      "outputs": [],
      "source": [
        "import pandas as pd\n",
        "import numpy as np\n",
        "import tensorflow as tf\n",
        "\n",
        "from tqdm import tqdm\n",
        "\n",
        "import os\n",
        "import sys\n",
        "import math\n",
        "\n",
        "# librosa is a Python library for analyzing audio and music. It can be used to extract the data from the audio files we will see it later.\n",
        "import librosa\n",
        "import librosa.display\n",
        "import librosa.feature as libf\n",
        "import seaborn as sns\n",
        "import matplotlib.pyplot as plt\n",
        "\n",
        "from sklearn.preprocessing import StandardScaler, OneHotEncoder, minmax_scale, scale, MinMaxScaler\n",
        "from sklearn.metrics import confusion_matrix, classification_report, accuracy_score\n",
        "from sklearn.model_selection import train_test_split\n",
        "from sklearn.svm import SVC\n",
        "\n",
        "# to play the audio files\n",
        "from IPython.display import Audio\n",
        "\n",
        "import keras\n",
        "from keras.callbacks import ReduceLROnPlateau\n",
        "from keras.models import Sequential\n",
        "from keras.layers import Dense, Conv1D, MaxPooling1D, Flatten, Dropout, BatchNormalization\n",
        "from keras.callbacks import ModelCheckpoint\n",
        "\n",
        "from scipy.stats import kurtosis\n",
        "from scipy.stats import skew\n",
        "\n",
        "eps = sys.float_info.epsilon\n",
        "\n",
        "import warnings\n",
        "if not sys.warnoptions:\n",
        "    warnings.simplefilter(\"ignore\")\n",
        "warnings.filterwarnings(\"ignore\", category=DeprecationWarning)"
      ]
    },
    {
      "cell_type": "markdown",
      "source": [
        "### Read features csv"
      ],
      "metadata": {
        "id": "-H2qpuk7yyjo"
      }
    },
    {
      "cell_type": "code",
      "source": [
        "features = pd.read_csv('/content/drive/MyDrive/Colab Notebooks/Audio Pattern Recognition/Project_Brancatelli/features.csv')\n",
        "features.head()"
      ],
      "metadata": {
        "colab": {
          "base_uri": "https://localhost:8080/",
          "height": 256
        },
        "id": "sNlKJ1lTy5r-",
        "outputId": "ecfe24a0-2cd5-492b-d887-8f503cdcf3c4"
      },
      "execution_count": null,
      "outputs": [
        {
          "output_type": "execute_result",
          "data": {
            "text/plain": [
              "          0         1         2         3         4         5         6  \\\n",
              "0  0.214355  0.319824  0.429688  0.423340  0.421875  0.436035  0.427734   \n",
              "1  0.253906  0.388184  0.514648  0.510254  0.506836  0.495117  0.493164   \n",
              "2  0.218750  0.323730  0.421387  0.418945  0.411133  0.416016  0.416992   \n",
              "3  0.249512  0.368164  0.495117  0.497559  0.496094  0.491211  0.495605   \n",
              "4  0.312500  0.495605  0.720215  0.666016  0.688477  0.586914  0.575684   \n",
              "\n",
              "          7         8         9  ...       2367      2368       2369  \\\n",
              "0  0.434570  0.426758  0.397949  ... -21.660831 -8.824115   7.443534   \n",
              "1  0.479492  0.486816  0.495117  ... -20.565357 -6.349044   8.264988   \n",
              "2  0.416504  0.404785  0.382324  ... -11.227339 -2.053445  11.747261   \n",
              "3  0.499512  0.498047  0.508301  ... -11.301952  1.284632   9.955471   \n",
              "4  0.666992  0.578125  0.670410  ...  -0.363573 -0.588626  -0.576606   \n",
              "\n",
              "       2370       2371       2372       2373       2374       2375  Emotions  \n",
              "0  5.859727  -0.321161 -15.598403 -11.630619 -11.754715   4.756393     angry  \n",
              "1  5.284755   0.973508 -13.907689 -12.484719  -9.336018   3.070137     angry  \n",
              "2  7.627929 -12.674572 -24.245716  -4.193148   3.420844  23.195007     angry  \n",
              "3  6.450918 -15.117396 -19.702325  -4.617732   2.827433  19.260487     angry  \n",
              "4 -0.317693   0.132963   0.652741   1.079558   1.260494   1.101743   disgust  \n",
              "\n",
              "[5 rows x 2377 columns]"
            ],
            "text/html": [
              "\n",
              "  <div id=\"df-1214bf7c-5822-4b41-8cae-e01e976d8a70\" class=\"colab-df-container\">\n",
              "    <div>\n",
              "<style scoped>\n",
              "    .dataframe tbody tr th:only-of-type {\n",
              "        vertical-align: middle;\n",
              "    }\n",
              "\n",
              "    .dataframe tbody tr th {\n",
              "        vertical-align: top;\n",
              "    }\n",
              "\n",
              "    .dataframe thead th {\n",
              "        text-align: right;\n",
              "    }\n",
              "</style>\n",
              "<table border=\"1\" class=\"dataframe\">\n",
              "  <thead>\n",
              "    <tr style=\"text-align: right;\">\n",
              "      <th></th>\n",
              "      <th>0</th>\n",
              "      <th>1</th>\n",
              "      <th>2</th>\n",
              "      <th>3</th>\n",
              "      <th>4</th>\n",
              "      <th>5</th>\n",
              "      <th>6</th>\n",
              "      <th>7</th>\n",
              "      <th>8</th>\n",
              "      <th>9</th>\n",
              "      <th>...</th>\n",
              "      <th>2367</th>\n",
              "      <th>2368</th>\n",
              "      <th>2369</th>\n",
              "      <th>2370</th>\n",
              "      <th>2371</th>\n",
              "      <th>2372</th>\n",
              "      <th>2373</th>\n",
              "      <th>2374</th>\n",
              "      <th>2375</th>\n",
              "      <th>Emotions</th>\n",
              "    </tr>\n",
              "  </thead>\n",
              "  <tbody>\n",
              "    <tr>\n",
              "      <th>0</th>\n",
              "      <td>0.214355</td>\n",
              "      <td>0.319824</td>\n",
              "      <td>0.429688</td>\n",
              "      <td>0.423340</td>\n",
              "      <td>0.421875</td>\n",
              "      <td>0.436035</td>\n",
              "      <td>0.427734</td>\n",
              "      <td>0.434570</td>\n",
              "      <td>0.426758</td>\n",
              "      <td>0.397949</td>\n",
              "      <td>...</td>\n",
              "      <td>-21.660831</td>\n",
              "      <td>-8.824115</td>\n",
              "      <td>7.443534</td>\n",
              "      <td>5.859727</td>\n",
              "      <td>-0.321161</td>\n",
              "      <td>-15.598403</td>\n",
              "      <td>-11.630619</td>\n",
              "      <td>-11.754715</td>\n",
              "      <td>4.756393</td>\n",
              "      <td>angry</td>\n",
              "    </tr>\n",
              "    <tr>\n",
              "      <th>1</th>\n",
              "      <td>0.253906</td>\n",
              "      <td>0.388184</td>\n",
              "      <td>0.514648</td>\n",
              "      <td>0.510254</td>\n",
              "      <td>0.506836</td>\n",
              "      <td>0.495117</td>\n",
              "      <td>0.493164</td>\n",
              "      <td>0.479492</td>\n",
              "      <td>0.486816</td>\n",
              "      <td>0.495117</td>\n",
              "      <td>...</td>\n",
              "      <td>-20.565357</td>\n",
              "      <td>-6.349044</td>\n",
              "      <td>8.264988</td>\n",
              "      <td>5.284755</td>\n",
              "      <td>0.973508</td>\n",
              "      <td>-13.907689</td>\n",
              "      <td>-12.484719</td>\n",
              "      <td>-9.336018</td>\n",
              "      <td>3.070137</td>\n",
              "      <td>angry</td>\n",
              "    </tr>\n",
              "    <tr>\n",
              "      <th>2</th>\n",
              "      <td>0.218750</td>\n",
              "      <td>0.323730</td>\n",
              "      <td>0.421387</td>\n",
              "      <td>0.418945</td>\n",
              "      <td>0.411133</td>\n",
              "      <td>0.416016</td>\n",
              "      <td>0.416992</td>\n",
              "      <td>0.416504</td>\n",
              "      <td>0.404785</td>\n",
              "      <td>0.382324</td>\n",
              "      <td>...</td>\n",
              "      <td>-11.227339</td>\n",
              "      <td>-2.053445</td>\n",
              "      <td>11.747261</td>\n",
              "      <td>7.627929</td>\n",
              "      <td>-12.674572</td>\n",
              "      <td>-24.245716</td>\n",
              "      <td>-4.193148</td>\n",
              "      <td>3.420844</td>\n",
              "      <td>23.195007</td>\n",
              "      <td>angry</td>\n",
              "    </tr>\n",
              "    <tr>\n",
              "      <th>3</th>\n",
              "      <td>0.249512</td>\n",
              "      <td>0.368164</td>\n",
              "      <td>0.495117</td>\n",
              "      <td>0.497559</td>\n",
              "      <td>0.496094</td>\n",
              "      <td>0.491211</td>\n",
              "      <td>0.495605</td>\n",
              "      <td>0.499512</td>\n",
              "      <td>0.498047</td>\n",
              "      <td>0.508301</td>\n",
              "      <td>...</td>\n",
              "      <td>-11.301952</td>\n",
              "      <td>1.284632</td>\n",
              "      <td>9.955471</td>\n",
              "      <td>6.450918</td>\n",
              "      <td>-15.117396</td>\n",
              "      <td>-19.702325</td>\n",
              "      <td>-4.617732</td>\n",
              "      <td>2.827433</td>\n",
              "      <td>19.260487</td>\n",
              "      <td>angry</td>\n",
              "    </tr>\n",
              "    <tr>\n",
              "      <th>4</th>\n",
              "      <td>0.312500</td>\n",
              "      <td>0.495605</td>\n",
              "      <td>0.720215</td>\n",
              "      <td>0.666016</td>\n",
              "      <td>0.688477</td>\n",
              "      <td>0.586914</td>\n",
              "      <td>0.575684</td>\n",
              "      <td>0.666992</td>\n",
              "      <td>0.578125</td>\n",
              "      <td>0.670410</td>\n",
              "      <td>...</td>\n",
              "      <td>-0.363573</td>\n",
              "      <td>-0.588626</td>\n",
              "      <td>-0.576606</td>\n",
              "      <td>-0.317693</td>\n",
              "      <td>0.132963</td>\n",
              "      <td>0.652741</td>\n",
              "      <td>1.079558</td>\n",
              "      <td>1.260494</td>\n",
              "      <td>1.101743</td>\n",
              "      <td>disgust</td>\n",
              "    </tr>\n",
              "  </tbody>\n",
              "</table>\n",
              "<p>5 rows × 2377 columns</p>\n",
              "</div>\n",
              "    <div class=\"colab-df-buttons\">\n",
              "\n",
              "  <div class=\"colab-df-container\">\n",
              "    <button class=\"colab-df-convert\" onclick=\"convertToInteractive('df-1214bf7c-5822-4b41-8cae-e01e976d8a70')\"\n",
              "            title=\"Convert this dataframe to an interactive table.\"\n",
              "            style=\"display:none;\">\n",
              "\n",
              "  <svg xmlns=\"http://www.w3.org/2000/svg\" height=\"24px\" viewBox=\"0 -960 960 960\">\n",
              "    <path d=\"M120-120v-720h720v720H120Zm60-500h600v-160H180v160Zm220 220h160v-160H400v160Zm0 220h160v-160H400v160ZM180-400h160v-160H180v160Zm440 0h160v-160H620v160ZM180-180h160v-160H180v160Zm440 0h160v-160H620v160Z\"/>\n",
              "  </svg>\n",
              "    </button>\n",
              "\n",
              "  <style>\n",
              "    .colab-df-container {\n",
              "      display:flex;\n",
              "      gap: 12px;\n",
              "    }\n",
              "\n",
              "    .colab-df-convert {\n",
              "      background-color: #E8F0FE;\n",
              "      border: none;\n",
              "      border-radius: 50%;\n",
              "      cursor: pointer;\n",
              "      display: none;\n",
              "      fill: #1967D2;\n",
              "      height: 32px;\n",
              "      padding: 0 0 0 0;\n",
              "      width: 32px;\n",
              "    }\n",
              "\n",
              "    .colab-df-convert:hover {\n",
              "      background-color: #E2EBFA;\n",
              "      box-shadow: 0px 1px 2px rgba(60, 64, 67, 0.3), 0px 1px 3px 1px rgba(60, 64, 67, 0.15);\n",
              "      fill: #174EA6;\n",
              "    }\n",
              "\n",
              "    .colab-df-buttons div {\n",
              "      margin-bottom: 4px;\n",
              "    }\n",
              "\n",
              "    [theme=dark] .colab-df-convert {\n",
              "      background-color: #3B4455;\n",
              "      fill: #D2E3FC;\n",
              "    }\n",
              "\n",
              "    [theme=dark] .colab-df-convert:hover {\n",
              "      background-color: #434B5C;\n",
              "      box-shadow: 0px 1px 3px 1px rgba(0, 0, 0, 0.15);\n",
              "      filter: drop-shadow(0px 1px 2px rgba(0, 0, 0, 0.3));\n",
              "      fill: #FFFFFF;\n",
              "    }\n",
              "  </style>\n",
              "\n",
              "    <script>\n",
              "      const buttonEl =\n",
              "        document.querySelector('#df-1214bf7c-5822-4b41-8cae-e01e976d8a70 button.colab-df-convert');\n",
              "      buttonEl.style.display =\n",
              "        google.colab.kernel.accessAllowed ? 'block' : 'none';\n",
              "\n",
              "      async function convertToInteractive(key) {\n",
              "        const element = document.querySelector('#df-1214bf7c-5822-4b41-8cae-e01e976d8a70');\n",
              "        const dataTable =\n",
              "          await google.colab.kernel.invokeFunction('convertToInteractive',\n",
              "                                                    [key], {});\n",
              "        if (!dataTable) return;\n",
              "\n",
              "        const docLinkHtml = 'Like what you see? Visit the ' +\n",
              "          '<a target=\"_blank\" href=https://colab.research.google.com/notebooks/data_table.ipynb>data table notebook</a>'\n",
              "          + ' to learn more about interactive tables.';\n",
              "        element.innerHTML = '';\n",
              "        dataTable['output_type'] = 'display_data';\n",
              "        await google.colab.output.renderOutput(dataTable, element);\n",
              "        const docLink = document.createElement('div');\n",
              "        docLink.innerHTML = docLinkHtml;\n",
              "        element.appendChild(docLink);\n",
              "      }\n",
              "    </script>\n",
              "  </div>\n",
              "\n",
              "\n",
              "<div id=\"df-8598dd11-4635-4af8-a137-7dc943489e76\">\n",
              "  <button class=\"colab-df-quickchart\" onclick=\"quickchart('df-8598dd11-4635-4af8-a137-7dc943489e76')\"\n",
              "            title=\"Suggest charts\"\n",
              "            style=\"display:none;\">\n",
              "\n",
              "<svg xmlns=\"http://www.w3.org/2000/svg\" height=\"24px\"viewBox=\"0 0 24 24\"\n",
              "     width=\"24px\">\n",
              "    <g>\n",
              "        <path d=\"M19 3H5c-1.1 0-2 .9-2 2v14c0 1.1.9 2 2 2h14c1.1 0 2-.9 2-2V5c0-1.1-.9-2-2-2zM9 17H7v-7h2v7zm4 0h-2V7h2v10zm4 0h-2v-4h2v4z\"/>\n",
              "    </g>\n",
              "</svg>\n",
              "  </button>\n",
              "\n",
              "<style>\n",
              "  .colab-df-quickchart {\n",
              "      --bg-color: #E8F0FE;\n",
              "      --fill-color: #1967D2;\n",
              "      --hover-bg-color: #E2EBFA;\n",
              "      --hover-fill-color: #174EA6;\n",
              "      --disabled-fill-color: #AAA;\n",
              "      --disabled-bg-color: #DDD;\n",
              "  }\n",
              "\n",
              "  [theme=dark] .colab-df-quickchart {\n",
              "      --bg-color: #3B4455;\n",
              "      --fill-color: #D2E3FC;\n",
              "      --hover-bg-color: #434B5C;\n",
              "      --hover-fill-color: #FFFFFF;\n",
              "      --disabled-bg-color: #3B4455;\n",
              "      --disabled-fill-color: #666;\n",
              "  }\n",
              "\n",
              "  .colab-df-quickchart {\n",
              "    background-color: var(--bg-color);\n",
              "    border: none;\n",
              "    border-radius: 50%;\n",
              "    cursor: pointer;\n",
              "    display: none;\n",
              "    fill: var(--fill-color);\n",
              "    height: 32px;\n",
              "    padding: 0;\n",
              "    width: 32px;\n",
              "  }\n",
              "\n",
              "  .colab-df-quickchart:hover {\n",
              "    background-color: var(--hover-bg-color);\n",
              "    box-shadow: 0 1px 2px rgba(60, 64, 67, 0.3), 0 1px 3px 1px rgba(60, 64, 67, 0.15);\n",
              "    fill: var(--button-hover-fill-color);\n",
              "  }\n",
              "\n",
              "  .colab-df-quickchart-complete:disabled,\n",
              "  .colab-df-quickchart-complete:disabled:hover {\n",
              "    background-color: var(--disabled-bg-color);\n",
              "    fill: var(--disabled-fill-color);\n",
              "    box-shadow: none;\n",
              "  }\n",
              "\n",
              "  .colab-df-spinner {\n",
              "    border: 2px solid var(--fill-color);\n",
              "    border-color: transparent;\n",
              "    border-bottom-color: var(--fill-color);\n",
              "    animation:\n",
              "      spin 1s steps(1) infinite;\n",
              "  }\n",
              "\n",
              "  @keyframes spin {\n",
              "    0% {\n",
              "      border-color: transparent;\n",
              "      border-bottom-color: var(--fill-color);\n",
              "      border-left-color: var(--fill-color);\n",
              "    }\n",
              "    20% {\n",
              "      border-color: transparent;\n",
              "      border-left-color: var(--fill-color);\n",
              "      border-top-color: var(--fill-color);\n",
              "    }\n",
              "    30% {\n",
              "      border-color: transparent;\n",
              "      border-left-color: var(--fill-color);\n",
              "      border-top-color: var(--fill-color);\n",
              "      border-right-color: var(--fill-color);\n",
              "    }\n",
              "    40% {\n",
              "      border-color: transparent;\n",
              "      border-right-color: var(--fill-color);\n",
              "      border-top-color: var(--fill-color);\n",
              "    }\n",
              "    60% {\n",
              "      border-color: transparent;\n",
              "      border-right-color: var(--fill-color);\n",
              "    }\n",
              "    80% {\n",
              "      border-color: transparent;\n",
              "      border-right-color: var(--fill-color);\n",
              "      border-bottom-color: var(--fill-color);\n",
              "    }\n",
              "    90% {\n",
              "      border-color: transparent;\n",
              "      border-bottom-color: var(--fill-color);\n",
              "    }\n",
              "  }\n",
              "</style>\n",
              "\n",
              "  <script>\n",
              "    async function quickchart(key) {\n",
              "      const quickchartButtonEl =\n",
              "        document.querySelector('#' + key + ' button');\n",
              "      quickchartButtonEl.disabled = true;  // To prevent multiple clicks.\n",
              "      quickchartButtonEl.classList.add('colab-df-spinner');\n",
              "      try {\n",
              "        const charts = await google.colab.kernel.invokeFunction(\n",
              "            'suggestCharts', [key], {});\n",
              "      } catch (error) {\n",
              "        console.error('Error during call to suggestCharts:', error);\n",
              "      }\n",
              "      quickchartButtonEl.classList.remove('colab-df-spinner');\n",
              "      quickchartButtonEl.classList.add('colab-df-quickchart-complete');\n",
              "    }\n",
              "    (() => {\n",
              "      let quickchartButtonEl =\n",
              "        document.querySelector('#df-8598dd11-4635-4af8-a137-7dc943489e76 button');\n",
              "      quickchartButtonEl.style.display =\n",
              "        google.colab.kernel.accessAllowed ? 'block' : 'none';\n",
              "    })();\n",
              "  </script>\n",
              "</div>\n",
              "    </div>\n",
              "  </div>\n"
            ]
          },
          "metadata": {},
          "execution_count": 2
        }
      ]
    },
    {
      "cell_type": "code",
      "source": [
        "X = features.iloc[:, :-1]\n",
        "Y = features['Emotions']\n"
      ],
      "metadata": {
        "id": "_5rnVba7yyjp"
      },
      "execution_count": null,
      "outputs": []
    },
    {
      "cell_type": "code",
      "source": [
        "scaler = StandardScaler()\n",
        "scaled_dataset = scaler.fit_transform(X)\n",
        "scaled_both = pd.DataFrame(scaled_dataset)\n",
        "scaled_both['Emotions'] = Y\n",
        "scaled_both.head()\n",
        "\n",
        "scaled_both = scaled_both.fillna(0)\n",
        "\n",
        "X = scaled_both.iloc[:, :-1].values\n",
        "Y = scaled_both['Emotions'].values\n",
        "#both.head()"
      ],
      "metadata": {
        "id": "k3Wr9pF13nM9"
      },
      "execution_count": null,
      "outputs": []
    },
    {
      "cell_type": "code",
      "source": [
        "x_train, x_test, y_train, y_test = train_test_split(X, Y, test_size=0.2, random_state=42)\n",
        "x_train.shape, y_train.shape, x_test.shape, y_test.shape"
      ],
      "metadata": {
        "colab": {
          "base_uri": "https://localhost:8080/"
        },
        "outputId": "6cbda5d3-b252-42da-c854-46a657f16669",
        "id": "YIjHAoBiyyj4"
      },
      "execution_count": null,
      "outputs": [
        {
          "output_type": "execute_result",
          "data": {
            "text/plain": [
              "((27193, 2376), (27193,), (6799, 2376), (6799,))"
            ]
          },
          "metadata": {},
          "execution_count": 5
        }
      ]
    },
    {
      "cell_type": "code",
      "source": [
        "print('Number of rows in train:', x_train.shape[0])\n",
        "print('Number of rows in test:', x_test.shape[0])"
      ],
      "metadata": {
        "colab": {
          "base_uri": "https://localhost:8080/"
        },
        "outputId": "8dbf0435-a8f4-44ec-82da-c654a6ec3783",
        "id": "AMl5aZ3Pyyj4"
      },
      "execution_count": null,
      "outputs": [
        {
          "output_type": "stream",
          "name": "stdout",
          "text": [
            "Number of rows in train: 27193\n",
            "Number of rows in test: 6799\n"
          ]
        }
      ]
    },
    {
      "cell_type": "code",
      "source": [
        "import tensorflow as tf\n",
        "device_name = tf.test.gpu_device_name()\n",
        "if len(device_name) > 0:\n",
        "    print(\"Found GPU at: {}\".format(device_name))\n",
        "else:\n",
        "    device_name = \"/device:CPU:0\"\n",
        "    print(\"No GPU, using {}.\".format(device_name))"
      ],
      "metadata": {
        "colab": {
          "base_uri": "https://localhost:8080/"
        },
        "outputId": "dc696481-830b-4eab-cee2-e5928cb6487a",
        "id": "I0wvmyshyyj5"
      },
      "execution_count": null,
      "outputs": [
        {
          "output_type": "stream",
          "name": "stdout",
          "text": [
            "No GPU, using /device:CPU:0.\n"
          ]
        }
      ]
    },
    {
      "cell_type": "code",
      "source": [
        "def SVM_Classifier(x_train, y_train, x_test, y_test):\n",
        "\n",
        "  with tf.device(device_name=device_name):\n",
        "    print('SVM Classifier - Starting....')\n",
        "    dfs = 'ovo' # One-vs-One\n",
        "    reg_parameters = [50,500]\n",
        "    kernels = ['poly', 'rbf']\n",
        "    best_accuracy_svm = 0\n",
        "    best_C = 0\n",
        "    best_kernel = ''\n",
        "    best_pred = pd.DataFrame()\n",
        "\n",
        "    for parameter in tqdm(reg_parameters):\n",
        "      for kernel in tqdm(kernels):\n",
        "        model_svc = SVC(decision_function_shape=dfs, C=parameter, kernel=kernel)\n",
        "        model_svc.fit(x_train, y_train)\n",
        "        y_pred = model_svc.predict(x_test)\n",
        "        prediction_accuracy = round(accuracy_score(y_test, y_pred), 4)\n",
        "\n",
        "        # Update current best model parameters if pred. accuracy is better\n",
        "        if best_accuracy_svm < prediction_accuracy:\n",
        "          best_accuracy_svm = prediction_accuracy\n",
        "          best_C = parameter\n",
        "          best_kernel = kernel\n",
        "          best_pred = y_pred\n",
        "\n",
        "        print('Accuracy obtained for Regualarization Parameter: ', parameter, ' - Kernel: ', kernel, ' is: ', prediction_accuracy)\n",
        "\n",
        "    print('Best accuracy of Support Vector Machine:',best_accuracy_svm,'for regularization parameter C:',best_C, 'and kernel:',best_kernel)\n",
        "\n",
        "  return y_pred"
      ],
      "metadata": {
        "id": "gwtW8-RZyyj5"
      },
      "execution_count": null,
      "outputs": []
    },
    {
      "cell_type": "code",
      "source": [
        "y_pred = SVM_Classifier(x_train, y_train, x_test, y_test)"
      ],
      "metadata": {
        "colab": {
          "base_uri": "https://localhost:8080/"
        },
        "outputId": "64833a90-809a-4a0a-dd9d-f368d5e7066a",
        "id": "FrHsmOiRyyj5"
      },
      "execution_count": null,
      "outputs": [
        {
          "metadata": {
            "tags": null
          },
          "name": "stdout",
          "output_type": "stream",
          "text": [
            "SVM Classifier - Starting....\n"
          ]
        },
        {
          "metadata": {
            "tags": null
          },
          "name": "stderr",
          "output_type": "stream",
          "text": [
            "  0%|          | 0/2 [00:00<?, ?it/s]\n",
            "  0%|          | 0/2 [00:00<?, ?it/s]\u001b[A\n",
            " 50%|█████     | 1/2 [20:10<20:10, 1210.79s/it]\u001b[A"
          ]
        },
        {
          "metadata": {
            "tags": null
          },
          "name": "stdout",
          "output_type": "stream",
          "text": [
            "Accuracy obtained for Regualarization Parameter:  50  - Kernel:  poly  is:  0.8945\n"
          ]
        },
        {
          "metadata": {
            "tags": null
          },
          "name": "stderr",
          "output_type": "stream",
          "text": [
            "\n",
            "100%|██████████| 2/2 [49:28<00:00, 1484.31s/it]\n",
            " 50%|█████     | 1/2 [49:28<49:28, 2968.63s/it]"
          ]
        },
        {
          "metadata": {
            "tags": null
          },
          "name": "stdout",
          "output_type": "stream",
          "text": [
            "Accuracy obtained for Regualarization Parameter:  50  - Kernel:  rbf  is:  0.9229\n"
          ]
        },
        {
          "output_type": "stream",
          "name": "stderr",
          "text": [
            "\n",
            "  0%|          | 0/2 [00:00<?, ?it/s]\u001b[A\n",
            " 50%|█████     | 1/2 [19:07<19:07, 1147.10s/it]\u001b[A"
          ]
        },
        {
          "output_type": "stream",
          "name": "stdout",
          "text": [
            "Accuracy obtained for Regualarization Parameter:  500  - Kernel:  poly  is:  0.914\n"
          ]
        },
        {
          "output_type": "stream",
          "name": "stderr",
          "text": [
            "\n",
            "100%|██████████| 2/2 [51:14<00:00, 1537.13s/it]\n",
            "100%|██████████| 2/2 [1:40:42<00:00, 3021.44s/it]"
          ]
        },
        {
          "output_type": "stream",
          "name": "stdout",
          "text": [
            "Accuracy obtained for Regualarization Parameter:  500  - Kernel:  rbf  is:  0.9241\n",
            "Best accuracy of Support Vector Machine: 0.9241 for regularization parameter C: 500 and kernel: rbf\n"
          ]
        },
        {
          "output_type": "stream",
          "name": "stderr",
          "text": [
            "\n"
          ]
        }
      ]
    },
    {
      "cell_type": "code",
      "source": [
        "print(classification_report(y_test, y_pred))"
      ],
      "metadata": {
        "colab": {
          "base_uri": "https://localhost:8080/"
        },
        "id": "SS91jPVW9nW2",
        "outputId": "7c2681cc-fb13-4572-ef05-01b91bf4001c"
      },
      "execution_count": null,
      "outputs": [
        {
          "output_type": "stream",
          "name": "stdout",
          "text": [
            "              precision    recall  f1-score   support\n",
            "\n",
            "       angry       0.92      0.96      0.94      1153\n",
            "     disgust       0.91      0.93      0.92      1189\n",
            "        fear       0.91      0.90      0.91      1111\n",
            "       happy       0.93      0.92      0.92      1162\n",
            "     neutral       0.95      0.89      0.92       975\n",
            "         sad       0.93      0.93      0.93      1209\n",
            "\n",
            "    accuracy                           0.92      6799\n",
            "   macro avg       0.92      0.92      0.92      6799\n",
            "weighted avg       0.92      0.92      0.92      6799\n",
            "\n"
          ]
        }
      ]
    },
    {
      "cell_type": "code",
      "source": [
        "model_svc = SVC(decision_function_shape='ovo', C=500, kernel='rbf')\n",
        "model_svc.fit(x_train, y_train)\n",
        "y_pred = model_svc.predict(x_test)\n",
        "prediction_accuracy = round(accuracy_score(y_test, y_pred), 4)"
      ],
      "metadata": {
        "id": "NHlRjSuA9a4w"
      },
      "execution_count": null,
      "outputs": []
    },
    {
      "cell_type": "code",
      "source": [
        "prediction_accuracy"
      ],
      "metadata": {
        "colab": {
          "base_uri": "https://localhost:8080/"
        },
        "id": "_HWcp4NuICP3",
        "outputId": "cd286302-c13e-4e1e-d4a0-8b51c2a73ccd"
      },
      "execution_count": null,
      "outputs": [
        {
          "output_type": "execute_result",
          "data": {
            "text/plain": [
              "0.9241"
            ]
          },
          "metadata": {},
          "execution_count": 7
        }
      ]
    },
    {
      "cell_type": "code",
      "source": [
        "cm = confusion_matrix(y_test, y_pred)\n",
        "plt.figure(figsize = (12, 10))\n",
        "sns.heatmap(cm, linecolor='white', cmap='Blues', linewidth=1, annot=True, fmt='')\n",
        "plt.title('Confusion Matrix for SVM classifier', size=20)\n",
        "plt.xlabel('Predicted Labels', size=14)\n",
        "plt.ylabel('Actual Labels', size=14)\n",
        "plt.show()"
      ],
      "metadata": {
        "colab": {
          "base_uri": "https://localhost:8080/",
          "height": 609
        },
        "outputId": "35b5c75a-4f6d-4302-d42a-2ae37fc23be2",
        "id": "ZsPzEyNpyyj5"
      },
      "execution_count": null,
      "outputs": [
        {
          "output_type": "display_data",
          "data": {
            "text/plain": [
              "<Figure size 1200x1000 with 2 Axes>"
            ],
            "image/png": "[encoded data removed]"
          },
          "metadata": {}
        }
      ]
    },
    {
      "cell_type": "code",
      "source": [
        "print(classification_report(y_test, y_pred))"
      ],
      "metadata": {
        "id": "1JDkUyGVI24y",
        "outputId": "efd4ff7e-2a6a-4e87-bbc2-adb8cc51f548",
        "colab": {
          "base_uri": "https://localhost:8080/"
        }
      },
      "execution_count": null,
      "outputs": [
        {
          "output_type": "stream",
          "name": "stdout",
          "text": [
            "              precision    recall  f1-score   support\n",
            "\n",
            "       angry       0.92      0.96      0.94      1153\n",
            "     disgust       0.91      0.93      0.92      1189\n",
            "        fear       0.91      0.90      0.91      1111\n",
            "       happy       0.93      0.92      0.92      1162\n",
            "     neutral       0.95      0.89      0.92       975\n",
            "         sad       0.93      0.93      0.93      1209\n",
            "\n",
            "    accuracy                           0.92      6799\n",
            "   macro avg       0.92      0.92      0.92      6799\n",
            "weighted avg       0.92      0.92      0.92      6799\n",
            "\n"
          ]
        }
      ]
    }
  ]
}